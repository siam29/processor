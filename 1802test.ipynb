{
 "cells": [
  {
   "cell_type": "markdown",
   "metadata": {},
   "source": [
    "# processor.py"
   ]
  },
  {
   "cell_type": "code",
   "execution_count": 1,
   "metadata": {},
   "outputs": [],
   "source": [
    "from asyncio.log import logger\n",
    "import os, ast\n",
    "from config import Config\n",
    "from datetime import datetime, timezone\n",
    "import logging\n",
    "import boto3\n",
    "from pyspark.sql import SparkSession\n",
    "from path import *\n",
    "from sub_processor import SubProcessor\n",
    "from iceberg_catalog import IcebergCatalog\n",
    "from broadcast import BroadCast\n",
    "from udf import load_broadcast\n",
    "import asyncio\n",
    "\n",
    "import gc\n",
    "\n",
    "# Config\n",
    "AWS_PROFILE = Config.AWS_PROFILE\n",
    "\n",
    "FILE_NAME = f\"processor_execution_logs_{CURRENT_DATE}.log\"\n",
    "LOG_DIR = os.path.join(\"logs\", CURRENT_DATE)\n",
    "os.makedirs(LOG_DIR, exist_ok=True)\n",
    "LOG_FILE = os.path.join(LOG_DIR, FILE_NAME)\n",
    "\n",
    "logging.basicConfig(\n",
    "    level=logging.INFO,\n",
    "    format=\"%(asctime)s - %(levelname)s - %(message)s\",\n",
    "    handlers=[logging.FileHandler(LOG_FILE), logging.StreamHandler()],\n",
    ")\n",
    "\n",
    "class Processor:\n",
    "    def __init__(self):\n",
    "\n",
    "        self.broadcast = BroadCast()\n",
    "        self.sub_processor = SubProcessor(self.broadcast)\n",
    "        self.iceberg_catalog = IcebergCatalog()\n",
    "\n",
    "\n",
    "        # Prepare Session\n",
    "        if DEBUG:\n",
    "            self.spark_session = (\n",
    "                SparkSession.builder.appName(\"Details Data Process\")\n",
    "                .master(\"local[*]\")\n",
    "                .config(\"spark.executor.memory\", \"3g\")\n",
    "                #.config(\"spark.memory.fraction\", \"0.7\")\n",
    "                .config(\"spark.driver.memory\", \"4g\")\n",
    "                #.config(\"spark.executor.cores\", \"2\")\n",
    "                # .config(\"spark.driver.cores\", \"1\")\n",
    "                # .config(\"spark.executor.instances\", \"1\")\n",
    "                # .config(\"spark.memory.offHeap.enabled\", \"true\")\n",
    "                # .config(\"spark.memory.offHeap.size\", \"2g\")\n",
    "                .config(\n",
    "                    \"spark.jars.packages\",\n",
    "                    \"org.apache.iceberg:iceberg-spark-runtime-3.5_2.12:1.5.2,\"\n",
    "                )\n",
    "                .config(\n",
    "                    \"spark.sql.extensions\",\n",
    "                    \"org.apache.iceberg.spark.extensions.IcebergSparkSessionExtensions\",\n",
    "                )\n",
    "                .config(\"spark.sql.catalog.local\", \"org.apache.iceberg.spark.SparkCatalog\")\n",
    "                .config(\"spark.sql.catalog.local.type\", \"hadoop\")\n",
    "                .config(\"spark.sql.catalog.local.warehouse\", CURATED_ZONE)\n",
    "                # .config(\"spark.executor.memoryOverhead\", \"1g\")\n",
    "                # .config(\"spark.driver.memoryOverhead\", \"1g\")\n",
    "                # .config(\"spark.driver.cores\", \"1\")\n",
    "                .getOrCreate()\n",
    "            )\n",
    "\n",
    "        else:\n",
    "            # Get AWS Profile Credentials\n",
    "            self.boto3_session = boto3.Session(profile_name=AWS_PROFILE)\n",
    "            self.credentials = self.boto3_session.get_credentials()\n",
    "            self.aws_access_key_id = self.credentials.access_key\n",
    "            self.aws_secret_access_key = self.credentials.secret_key\n",
    "            self.aws_session_token = self.credentials.token\n",
    "\n",
    "            self.spark_session = (\n",
    "                SparkSession.builder.appName(\"Details Data Process\")\n",
    "                .config(\n",
    "                    \"spark.jars.packages\",\n",
    "                    \"org.apache.iceberg:iceberg-spark-runtime-3.5_2.12:1.5.2,\"\n",
    "                    \"org.apache.hadoop:hadoop-aws:2.10.1,\"\n",
    "                    \"com.amazonaws:aws-java-sdk-bundle:1.11.1026\",\n",
    "                )\n",
    "                .config(\n",
    "                    \"spark.sql.extensions\",\n",
    "                    \"org.apache.iceberg.spark.extensions.IcebergSparkSessionExtensions\",\n",
    "                )\n",
    "                .config(\"spark.sql.catalog.local\", \"org.apache.iceberg.spark.SparkCatalog\")\n",
    "                .config(\"spark.sql.catalog.local.type\", \"hadoop\")\n",
    "                .config(\"spark.sql.catalog.local.warehouse\", CURATED_ZONE)\n",
    "                .config(\n",
    "                    \"spark.sql.catalog.local.hadoop.fs.s3a.access.key\",\n",
    "                    self.aws_access_key_id,\n",
    "                )\n",
    "                .config(\n",
    "                    \"spark.sql.catalog.local.hadoop.fs.s3a.secret.key\",\n",
    "                    self.aws_secret_access_key,\n",
    "                )\n",
    "                .config(\n",
    "                    \"spark.sql.catalog.local.hadoop.fs.s3a.session.token\",\n",
    "                    self.aws_session_token,\n",
    "                )\n",
    "                .config(\n",
    "                    \"spark.hadoop.fs.s3a.impl\", \"org.apache.hadoop.fs.s3a.S3AFileSystem\"\n",
    "                )\n",
    "                .config(\"spark.hadoop.fs.s3a.endpoint\", \"s3.us-east-2.amazonaws.com\")\n",
    "                .config(\n",
    "                    \"spark.hadoop.fs.s3a.aws.credentials.provider\",\n",
    "                    \"com.amazonaws.auth.DefaultAWSCredentialsProviderChain\",\n",
    "                )\n",
    "                .config(\"spark.executor.memory\", \"7g\")\n",
    "                .config(\"spark.executor.memoryOverhead\", \"1g\")\n",
    "                .config(\"spark.driver.memory\", \"6g\")\n",
    "                .config(\"spark.driver.memoryOverhead\", \"1g\")\n",
    "                .config(\"spark.executor.cores\", \"3\")\n",
    "                .config(\"spark.driver.cores\", \"1\")\n",
    "                .config(\"spark.executor.instances\", \"8\")\n",
    "                .getOrCreate()\n",
    "            )\n",
    "\n",
    "    def preprocess_details_data(\n",
    "            self,\n",
    "            df_details,\n",
    "            df_reviews_scores,\n",
    "            df_chain_and_brand,\n",
    "            df_search,\n",
    "            ):\n",
    "        df_processed = df_details\n",
    "\n",
    "        logging.info(\"======== Basic data process started ========\")\n",
    "        df_processed = self.sub_processor.process_basic_data(df_processed=df_processed, spark_session=self.spark_session)\n",
    "        logging.info(\"=======: df_processed : =====\")\n",
    "        return df_processed\n",
    "    \n",
    "    def preprocess_reviews_data(self,\n",
    "            df_details,\n",
    "            df_reviews_scores,\n",
    "            df_chain_and_brand,\n",
    "            df_search,\n",
    "            ):\n",
    "        df_processed = df_details\n",
    "        logging.info(\"======== Before Review data process start ========\")\n",
    "        before_df_processed = self.sub_processor.process_review_scores_data(\n",
    "            df_processed=df_processed, review_score_df=df_reviews_scores\n",
    "        )\n",
    "        logging.info(\"======== Before Review data process ended ========\")\n",
    "\n",
    "        logging.info(\"======== After Review data process start ========\")\n",
    "        after_df_processed = self.sub_processor.after_process_review_scores_data(\n",
    "            df_processed=df_processed, review_score_df=df_reviews_scores\n",
    "        )\n",
    "        logging.info(\"======== After Review data process ended ========\")\n",
    "\n",
    "        return before_df_processed,after_df_processed\n",
    "    def preprocess_property_flags_data(self,\n",
    "            df_details,\n",
    "            df_reviews_scores,\n",
    "            df_chain_and_brand,\n",
    "            df_search,):\n",
    "        df_processed = df_details\n",
    "        logging.info(\"======== Before Property Flags data process Started ========\")\n",
    "        befor_df_processed = self.sub_processor.process_property_flags_data(df_processed=df_processed)\n",
    "        logging.info(\"======== Before Property Flags data process ended ========\")\n",
    "\n",
    "        logging.info(\"======== After Property Flags data process Started ========\")\n",
    "        after_df_processed = self.sub_processor.after_process_property_flags_data(df_processed=df_processed)\n",
    "        logging.info(\"======== After Property Flags data process ended ========\")\n",
    "\n",
    "        return befor_df_processed,after_df_processed\n",
    "    def preprocess_basic_dataprocess_chain_and_brand_data(self,\n",
    "            df_details,\n",
    "            df_reviews_scores,\n",
    "            df_chain_and_brand,\n",
    "            df_search,):\n",
    "        df_processed = df_details\n",
    "        logging.info(\"======== Before Chain and Brand data process Started ========\")\n",
    "        before_df_processed = self.sub_processor.process_chain_and_brand_data(\n",
    "            df_processed=df_processed, df_chain_and_brand=df_chain_and_brand\n",
    "        )\n",
    "        logging.info(\"======== Before Chain and Brand data process Ended ========\")\n",
    "        \n",
    "        logging.info(\"======== After Chain and Brand data process Started ========\")\n",
    "        after_df_processed = self.sub_processor.after_process_chain_and_brand_data(\n",
    "            df_processed=df_processed, df_chain_and_brand=df_chain_and_brand\n",
    "        )\n",
    "        logging.info(\"======== After Chain and Brand data process Ended ========\") \n",
    "        return before_df_processed,after_df_processed \n",
    "    \n",
    "    def preprocess_commission_and_meal_plan_data(self,\n",
    "            df_details,\n",
    "            df_reviews_scores,\n",
    "            df_chain_and_brand,\n",
    "            df_search,):\n",
    "        df_processed = df_details\n",
    "        logging.info(\"======== Before Commission and meal plan data process Started ========\")\n",
    "        before_df_processed = self.sub_processor.process_commission_and_meal_plan_data(df_processed=df_processed, df_search=df_search)\n",
    "        logging.info(\"======== After Commission and meal plan data process Ended ========\")\n",
    "        \n",
    "        logging.info(\"======== After Commission and meal plan data process Started ========\")\n",
    "        after_df_processed = self.sub_processor.after_process_commission_and_meal_plan_data(df_processed=df_processed, df_search=df_search)\n",
    "        logging.info(\"======== After Commission and meal plan data process Ended ========\")\n",
    "        return before_df_processed,after_df_processed \n",
    "        \n",
    "\n",
    "\n",
    "    def process_details_data(\n",
    "            self,\n",
    "            df_details,\n",
    "            df_reviews_scores,\n",
    "            df_chain_and_brand,\n",
    "            df_search,\n",
    "    ):\n",
    "        df_processed = df_details\n",
    "\n",
    "        # Process Basic Data\n",
    "        # logging.info(\"======== Basic data process started ========\")\n",
    "        # df_processed = self.sub_processor.process_basic_data(df_processed=df_processed, spark_session=self.spark_session)\n",
    "        # logging.info(\"=======: df_processed : =====\")\n",
    "        # df_processed.show(5)\n",
    "        logging.info(\"======== Basic data process ended ========\")\n",
    "\n",
    "        logging.info(\"======== Basic data process Started ========\")\n",
    "        df_processed = self.sub_processor.process_review_scores_data(\n",
    "            df_processed=df_processed, review_score_df=df_reviews_scores\n",
    "        )\n",
    "        logging.info(\"======== Review data process ended ========\")\n",
    "\n",
    "        logging.info(\"======== Property Flags data process Started ========\")\n",
    "        df_processed = self.sub_processor.process_property_flags_data(df_processed=df_processed)\n",
    "        logging.info(\"======== Property Flags data process ended ========\")\n",
    "\n",
    "        logging.info(\"======== Chain and Brand data process Started ========\")\n",
    "        df_processed = self.sub_processor.process_chain_and_brand_data(\n",
    "            df_processed=df_processed, df_chain_and_brand=df_chain_and_brand\n",
    "        )\n",
    "        logging.info(\"======== Chain and Brand data process Ended ========\")\n",
    "\n",
    "        # df_processed = self.sub_processor.process_property_flags_data(df_processed=df_processed)\n",
    "\n",
    "        logging.info(\"======== Commission and meal plan data process Started ========\")\n",
    "        df_processed = self.sub_processor.process_commission_and_meal_plan_data(df_processed=df_processed, df_search=df_search)\n",
    "        logging.info(\"======== Commission and meal plan data process Ended ========\")\n",
    "\n",
    "        logging.info(\"======== USD price and price history data process Started ========\")\n",
    "        df_processed, df_price_history = self.sub_processor.process_usd_price_and_price_history(df_processed=df_processed, df_search=df_search, spark_session=self.spark_session)\n",
    "        logging.info(\"======== USD price and price history data process Ended ========\")\n",
    "\n",
    "        return df_processed, df_price_history\n",
    "\n",
    "    def process_details_localize_data(self, df_processed):\n",
    "        df_processed = self.sub_processor.process_localize_data(df_processed=df_processed, spark_session=self.spark_session)\n",
    "        return df_processed\n",
    "    \n",
    "    def read_df_details(self):\n",
    "        # # Load Details Data\n",
    "        logging.info(\"Loading Details Data =======\")\n",
    "        df_details = self.spark_session.read.format(\"json\").option(\"multiline\", \"true\").load(DETAILS_DATA_DIR)\n",
    "        logging.info(\"Details Data Loaded =======\")\n",
    "        return df_details\n",
    "    \n",
    "    def read_df_reviews_scores(self):\n",
    "        logging.info(\"Loading Reviews Scores Data =======\")\n",
    "        df_reviews_scores = self.spark_session.read.format(\"json\").option(\"multiline\", \"true\").load(REVIEW_SCORES_DIR)\n",
    "        logging.info(\"Reviews Scores Data Loaded =======\")\n",
    "        return df_reviews_scores\n",
    "\n",
    "                \n",
    "    def read_df_search(self):\n",
    "        logging.info(\"Loading Reviews Scores Data =======\")\n",
    "        df_search = self.spark_session.read.format(\"json\").option(\"multiline\", \"true\").load(ACCOMMODATION_SEARCH_DIR)\n",
    "        logging.info(\"Search Data Loaded =======\")\n",
    "        return df_search\n",
    "    \n",
    "    def read_df_chain_and_brand(self):\n",
    "        logging.info(\"Chain and Brand Data Loaded =======\")\n",
    "        df_chain_and_brand = self.spark_session.read.format(\"json\").option(\"multiline\", \"true\").load(CHAIN_AND_BRAND)\n",
    "        return df_chain_and_brand\n",
    "    \n",
    "    def read_df_reviews(self):\n",
    "        logging.info(\"Reviews Data Loaded =======\")\n",
    "        df_reviews = self.spark_session.read.format(\"json\").option(\"multiline\", \"true\").load(REVIEW_DIR)\n",
    "        return df_reviews\n",
    "    \n",
    "    def read_df_processed(self,df_details):\n",
    "        logging.info(\"Processed Data Loaded =======\")\n",
    "        df_processed, count_df_null_location_id = self.sub_processor.process_location_data_bg(df_details, self.spark_session)\n",
    "        return df_processed,count_df_null_location_id\n",
    "    \n",
    "    def BroadCast(self):\n",
    "        # Load Broadcast Data\n",
    "        logging.info(\"====== Broadcasting Data =======\")\n",
    "        self.broadcast.prepare_broadcasted_data(spark_session=self.spark_session)\n",
    "        load_broadcast(self.broadcast)\n",
    "        logging.info(\"====== Broadcasted Data =======\") \n",
    "\n",
    "    def preprocess_basic_data(self,df_processed,df_reviews_scores,df_chain_and_brand,df_search):\n",
    "        logging.info(\"====== Details Data process started =======\")\n",
    "        df_processed = self.preprocess_details_data(\n",
    "            df_details=df_processed,\n",
    "            df_reviews_scores=df_reviews_scores,\n",
    "            df_chain_and_brand=df_chain_and_brand,\n",
    "            df_search=df_search\n",
    "        )\n",
    "        return df_processed\n",
    "    \n",
    "\n"
   ]
  },
  {
   "cell_type": "code",
   "execution_count": 2,
   "metadata": {},
   "outputs": [
    {
     "name": "stderr",
     "output_type": "stream",
     "text": [
      "25/02/18 17:36:47 WARN Utils: Your hostname, w3e103 resolves to a loopback address: 127.0.1.1; using 192.168.0.243 instead (on interface enp2s0)\n",
      "25/02/18 17:36:47 WARN Utils: Set SPARK_LOCAL_IP if you need to bind to another address\n"
     ]
    },
    {
     "name": "stdout",
     "output_type": "stream",
     "text": [
      ":: loading settings :: url = jar:file:/home/w3e103/Downloads/project/inventroy-cron/env/lib/python3.12/site-packages/pyspark/jars/ivy-2.5.1.jar!/org/apache/ivy/core/settings/ivysettings.xml\n"
     ]
    },
    {
     "name": "stderr",
     "output_type": "stream",
     "text": [
      "Ivy Default Cache set to: /home/w3e103/.ivy2/cache\n",
      "The jars for the packages stored in: /home/w3e103/.ivy2/jars\n",
      "org.apache.iceberg#iceberg-spark-runtime-3.5_2.12 added as a dependency\n",
      ":: resolving dependencies :: org.apache.spark#spark-submit-parent-274383ad-458e-4c13-b045-ff338fc85f5c;1.0\n",
      "\tconfs: [default]\n",
      "\tfound org.apache.iceberg#iceberg-spark-runtime-3.5_2.12;1.5.2 in central\n",
      ":: resolution report :: resolve 286ms :: artifacts dl 6ms\n",
      "\t:: modules in use:\n",
      "\torg.apache.iceberg#iceberg-spark-runtime-3.5_2.12;1.5.2 from central in [default]\n",
      "\t---------------------------------------------------------------------\n",
      "\t|                  |            modules            ||   artifacts   |\n",
      "\t|       conf       | number| search|dwnlded|evicted|| number|dwnlded|\n",
      "\t---------------------------------------------------------------------\n",
      "\t|      default     |   1   |   0   |   0   |   0   ||   1   |   0   |\n",
      "\t---------------------------------------------------------------------\n",
      ":: retrieving :: org.apache.spark#spark-submit-parent-274383ad-458e-4c13-b045-ff338fc85f5c\n",
      "\tconfs: [default]\n",
      "\t0 artifacts copied, 1 already retrieved (0kB/10ms)\n",
      "25/02/18 17:36:48 WARN NativeCodeLoader: Unable to load native-hadoop library for your platform... using builtin-java classes where applicable\n",
      "Setting default log level to \"WARN\".\n",
      "To adjust logging level use sc.setLogLevel(newLevel). For SparkR, use setLogLevel(newLevel).\n"
     ]
    }
   ],
   "source": [
    "processor = Processor()"
   ]
  },
  {
   "cell_type": "markdown",
   "metadata": {},
   "source": [
    "# read details data"
   ]
  },
  {
   "cell_type": "code",
   "execution_count": 3,
   "metadata": {},
   "outputs": [
    {
     "name": "stderr",
     "output_type": "stream",
     "text": [
      "2025-02-18 17:36:52,944 - INFO - Loading Details Data =======\n",
      "2025-02-18 17:39:12,247 - INFO - Details Data Loaded =======                    \n"
     ]
    }
   ],
   "source": [
    "df_details=processor.read_df_details()"
   ]
  },
  {
   "cell_type": "code",
   "execution_count": 4,
   "metadata": {},
   "outputs": [
    {
     "name": "stderr",
     "output_type": "stream",
     "text": [
      "                                                                                \r"
     ]
    },
    {
     "data": {
      "text/plain": [
       "530865"
      ]
     },
     "execution_count": 4,
     "metadata": {},
     "output_type": "execute_result"
    }
   ],
   "source": [
    "df_details.count()"
   ]
  },
  {
   "cell_type": "markdown",
   "metadata": {},
   "source": [
    "# read reviews score data"
   ]
  },
  {
   "cell_type": "code",
   "execution_count": 5,
   "metadata": {},
   "outputs": [
    {
     "name": "stderr",
     "output_type": "stream",
     "text": [
      "2025-02-18 17:40:35,790 - INFO - Loading Reviews Scores Data =======\n",
      "2025-02-18 17:41:53,207 - INFO - Reviews Scores Data Loaded =======             \n"
     ]
    }
   ],
   "source": [
    "df_reviews_scores=processor.read_df_reviews_scores()"
   ]
  },
  {
   "cell_type": "code",
   "execution_count": 6,
   "metadata": {},
   "outputs": [
    {
     "name": "stderr",
     "output_type": "stream",
     "text": [
      "                                                                                \r"
     ]
    },
    {
     "data": {
      "text/plain": [
       "410729"
      ]
     },
     "execution_count": 6,
     "metadata": {},
     "output_type": "execute_result"
    }
   ],
   "source": [
    "df_reviews_scores.count()"
   ]
  },
  {
   "cell_type": "markdown",
   "metadata": {},
   "source": [
    "# read search data"
   ]
  },
  {
   "cell_type": "code",
   "execution_count": null,
   "metadata": {},
   "outputs": [
    {
     "name": "stderr",
     "output_type": "stream",
     "text": [
      "2025-02-18 17:41:58,390 - INFO - Loading Reviews Scores Data =======\n",
      "[Stage 8:===============================================>           (4 + 1) / 5]\r"
     ]
    }
   ],
   "source": [
    "df_search=processor.read_df_search()"
   ]
  },
  {
   "cell_type": "code",
   "execution_count": null,
   "metadata": {},
   "outputs": [],
   "source": [
    "df_search.count()"
   ]
  },
  {
   "cell_type": "markdown",
   "metadata": {},
   "source": [
    "# read chain and brand data"
   ]
  },
  {
   "cell_type": "code",
   "execution_count": null,
   "metadata": {},
   "outputs": [
    {
     "name": "stderr",
     "output_type": "stream",
     "text": [
      "2025-02-18 16:50:32,354 - INFO - Chain and Brand Data Loaded =======\n"
     ]
    }
   ],
   "source": [
    "df_chain_and_brand=processor.read_df_chain_and_brand()"
   ]
  },
  {
   "cell_type": "code",
   "execution_count": null,
   "metadata": {},
   "outputs": [],
   "source": [
    "df_chain_and_brand.count()"
   ]
  },
  {
   "cell_type": "markdown",
   "metadata": {},
   "source": [
    "# read reviews data"
   ]
  },
  {
   "cell_type": "code",
   "execution_count": null,
   "metadata": {},
   "outputs": [
    {
     "name": "stderr",
     "output_type": "stream",
     "text": [
      "2025-02-18 16:50:32,880 - INFO - Reviews Data Loaded =======\n",
      "                                                                                \r"
     ]
    }
   ],
   "source": [
    "df_reviews=processor.read_df_reviews()"
   ]
  },
  {
   "cell_type": "code",
   "execution_count": null,
   "metadata": {},
   "outputs": [],
   "source": [
    "df_reviews.count()"
   ]
  },
  {
   "cell_type": "markdown",
   "metadata": {},
   "source": [
    "# read processed data"
   ]
  },
  {
   "cell_type": "code",
   "execution_count": null,
   "metadata": {},
   "outputs": [
    {
     "name": "stderr",
     "output_type": "stream",
     "text": [
      "2025-02-18 16:50:47,103 - INFO - Processed Data Loaded =======\n",
      "                                                                                \r"
     ]
    }
   ],
   "source": [
    "df_processed,count_df_null_location_id = processor.read_df_processed(df_details)"
   ]
  },
  {
   "cell_type": "code",
   "execution_count": null,
   "metadata": {},
   "outputs": [],
   "source": [
    "df_processed.count()"
   ]
  },
  {
   "cell_type": "markdown",
   "metadata": {},
   "source": [
    "# delete duplicate data"
   ]
  },
  {
   "cell_type": "code",
   "execution_count": null,
   "metadata": {},
   "outputs": [
    {
     "name": "stderr",
     "output_type": "stream",
     "text": [
      "2025-02-18 16:51:16,514 - INFO - !!!Data count !!!\n"
     ]
    },
    {
     "name": "stderr",
     "output_type": "stream",
     "text": [
      "2025-02-18 16:51:22,285 - INFO - ====== Duplicates Removed =======              \n"
     ]
    },
    {
     "name": "stdout",
     "output_type": "stream",
     "text": [
      "100\n"
     ]
    }
   ],
   "source": [
    "df_details = df_details.dropDuplicates([\"id\"]).limit(100)\n",
    "df_reviews_scores = df_reviews_scores.dropDuplicates([\"id\"]).limit(100)\n",
    "df_search = df_search.dropDuplicates([\"id\"]).limit(100)\n",
    "df_reviews = df_reviews.dropDuplicates([\"id\"]).limit(100)\n",
    "logging.info(\"!!!Data count !!!\")\n",
    "print(df_details.count())\n",
    "logging.info(\"====== Duplicates Removed =======\")"
   ]
  },
  {
   "cell_type": "markdown",
   "metadata": {},
   "source": [
    "# load broadcast"
   ]
  },
  {
   "cell_type": "code",
   "execution_count": null,
   "metadata": {},
   "outputs": [
    {
     "name": "stderr",
     "output_type": "stream",
     "text": [
      "2025-02-18 16:51:22,360 - INFO - ====== Broadcasting Data =======\n",
      "2025-02-18 16:51:22,605 - INFO - ====== Broadcasted Data =======\n"
     ]
    }
   ],
   "source": [
    "processor.BroadCast()"
   ]
  },
  {
   "cell_type": "markdown",
   "metadata": {},
   "source": [
    "# preprocess basic data"
   ]
  },
  {
   "cell_type": "code",
   "execution_count": null,
   "metadata": {},
   "outputs": [
    {
     "name": "stderr",
     "output_type": "stream",
     "text": [
      "2025-02-18 16:51:22,723 - INFO - ====== Details Data process started =======\n",
      "2025-02-18 16:51:22,732 - INFO - ======== Basic data process started ========\n",
      "2025-02-18 16:51:22,793 - INFO - >> sub-process : property_name() completed =====\n",
      "2025-02-18 16:51:23,305 - INFO - >> sub-process : process_rating_and_score() completed =====\n",
      "2025-02-18 16:51:23,537 - INFO - >> sub-process : process_checkin_checkout_times() completed =====\n",
      "2025-02-18 16:51:23,820 - INFO - >> sub-process : process_property_slug() completed =====\n",
      "2025-02-18 16:51:24,134 - INFO - >> sub-process : process_property_type() completed =====\n",
      "2025-02-18 16:51:24,328 - INFO - >> sub-process : process_property_type_category() completed =====\n",
      "2025-02-18 16:51:24,527 - INFO - >> sub-process : process_property_type_categories() completed =====\n",
      "2025-02-18 16:51:24,617 - INFO - >> sub-process : process_room_type() completed =====\n",
      "2025-02-18 16:51:28,892 - INFO - >> sub-process : process_amenities_data() completed =====\n",
      "2025-02-18 16:51:30,929 - INFO - >> sub-process : process_policies_data() completed =====\n",
      "2025-02-18 16:51:31,055 - INFO - >> sub-process : process_min_stay() completed =====\n",
      "2025-02-18 16:51:32,395 - INFO - >> sub-process : process_hotel_photos() completed =====\n",
      "2025-02-18 16:51:35,488 - INFO - >> sub-process : process_rooms_data() completed =====\n",
      "2025-02-18 16:51:36,245 - INFO - >> sub-process : process_feed_provider_url_and_licence() completed =====\n",
      "2025-02-18 16:51:36,576 - INFO - >> sub-process : prepare_is_published() completed =====\n",
      "2025-02-18 16:51:36,579 - INFO - =======: df_processed : =====\n"
     ]
    }
   ],
   "source": [
    "df_processed = processor.preprocess_basic_data(df_details, df_reviews_scores, df_chain_and_brand, df_search)"
   ]
  },
  {
   "cell_type": "code",
   "execution_count": null,
   "metadata": {},
   "outputs": [],
   "source": [
    "#df_processed.show(5)"
   ]
  },
  {
   "cell_type": "markdown",
   "metadata": {},
   "source": [
    "# preprocess review scores data"
   ]
  },
  {
   "cell_type": "code",
   "execution_count": null,
   "metadata": {},
   "outputs": [
    {
     "name": "stderr",
     "output_type": "stream",
     "text": [
      "2025-02-18 16:51:36,689 - INFO - ======== Before Review data process start ========\n"
     ]
    },
    {
     "name": "stderr",
     "output_type": "stream",
     "text": [
      "2025-02-18 16:51:38,460 - INFO - ======== Before Review data process ended ========\n",
      "2025-02-18 16:51:38,466 - INFO - ======== After Review data process start ========\n",
      "2025-02-18 16:51:39,572 - INFO - ==== : After process reviews data : ======\n",
      "2025-02-18 16:51:39,574 - INFO - ======== After Review data process ended ========\n"
     ]
    }
   ],
   "source": [
    "before_df_reviews,after_df_reviews = processor.preprocess_reviews_data(df_processed,df_reviews_scores, df_chain_and_brand, df_search)"
   ]
  },
  {
   "cell_type": "code",
   "execution_count": null,
   "metadata": {},
   "outputs": [
    {
     "name": "stderr",
     "output_type": "stream",
     "text": [
      "25/02/18 16:51:42 WARN SparkStringUtils: Truncated the string representation of a plan since it was too large. This behavior can be adjusted by setting 'spark.sql.debug.maxToStringFields'.\n",
      "25/02/18 16:52:03 WARN DAGScheduler: Broadcasting large task binary with size 1961.3 KiB\n",
      "25/02/18 16:52:48 WARN DAGScheduler: Broadcasting large task binary with size 2.1 MiB\n",
      "                                                                                \r"
     ]
    },
    {
     "name": "stdout",
     "output_type": "stream",
     "text": [
      "+--------+------------------+------+----------------------+--------+--------------------+--------------------+--------------------+----------------+--------------------+--------------------+---------------+--------------------+--------------------+--------------------+--------------+----------+--------------------+--------------------+--------------------+--------------------+--------------------+--------------------+----------------+-----------+------------+--------------------+------------+------------+----------+-------------+-----------+--------------------+----------+-------------+----------------------+------------------------+------------+--------------------+--------------------+--------------------+--------------------+----------------------+---------------------------+--------------------+--------------------+--------+--------------------+--------------------+-------------+--------------+-------------+--------------+--------+---------+--------------------+----------------+-------------------+---------+-------------+\n",
      "|      id|accommodation_type|brands|checkin_checkout_times|currency|       deep_link_url|         description|          facilities|is_work_friendly|            location|                name|number_of_rooms|             payment|              photos|            policies|price_category|programmes|              rating|               rooms|    spoken_languages|              themes|                 url|       property_name|number_of_review|star_rating|review_score|review_score_general|is_preferred|checkin_from|checkin_to|checkout_from|checkout_to|       property_slug|updated_at|property_type|property_type_category|property_type_categories|   room_type|       themes_id_map|         amenity_ids|      amenity_id_map|           amenities|new_amenity_categories|flat_new_amenity_categories|  amenity_categories|              policy|min_stay|              images|       feature_image|bedroom_count|bathroom_count|max_occupancy|room_size_sqft|bedrooms|occupancy|   feed_provider_url|  license_number|          languages|published|review_scores|\n",
      "+--------+------------------+------+----------------------+--------+--------------------+--------------------+--------------------+----------------+--------------------+--------------------+---------------+--------------------+--------------------+--------------------+--------------+----------+--------------------+--------------------+--------------------+--------------------+--------------------+--------------------+----------------+-----------+------------+--------------------+------------+------------+----------+-------------+-----------+--------------------+----------+-------------+----------------------+------------------------+------------+--------------------+--------------------+--------------------+--------------------+----------------------+---------------------------+--------------------+--------------------+--------+--------------------+--------------------+-------------+--------------+-------------+--------------+--------+---------+--------------------+----------------+-------------------+---------+-------------+\n",
      "| 3671593|               213|[3292]|  {16:00:00, 21:00:...|     EUR|booking://hotel/3...|{{Check your Belv...|[{[], 2}, {[], 4}...|           false|{{NULL, NULL, NUL...|{Belvilla by OYO ...|              1|{false, true, {[1...|[{true, {https://...|{[], NULL, NULL, ...|             $|   {false}|{2, false, 3.5, 4...|[{[non_smoking], ...| [de, en-gb, fr, nl]|[Accommodations, ...|https://www.booki...|Belvilla by OYO C...|               2|          4|         3.5|                1.75|       false|    16:00:00|  21:00:00|     09:00:00|   10:00:00|belvilla-by-oyo-c...|2025-02-18|       Villas|                 Villa|                    NULL|        NULL|{1 -> Apartments,...|[2, 4, 7, 9, 12, ...|{2 -> Parking, 3 ...|[Parking, Pet fri...|  [[View, Sports/ac...|       [View, Sports/act...|[View, Sports/act...|{Check your Belvi...|       1|[https://q-xx.bst...|https://q-xx.bsta...|            3|             5|            6|       2690.98|     [3]|        6|https://www.booki...|22000/2018/17484|[en-us, fr, es, de]|     true|         NULL|\n",
      "|13469972|               201|    []|  {14:00:00, 21:00:...|     BGN|booking://hotel/1...|{{In dieser Unter...|[{[], 2}, {[], 4}...|           false|{{zh.k. Meden rud...|{Apartment Bela, ...|              1|{false, true, {[]...|[{true, {https://...|{[], NULL, NULL, ...|              |   {false}|{0, false, NULL, ...|[{[non_smoking], ...|                [bg]|                  []|https://www.booki...|      Apartment Bela|               0|          0|         0.0|                0.00|       false|    14:00:00|  21:00:00|     10:00:00|   12:00:00|      apartment-bela|2025-02-18|   Apartments|             Apartment|                    NULL|Shared space|{1 -> Apartments,...|[2, 4, 46, 47, 96...|{2 -> Parking, 3 ...|[Parking, Pet fri...|  [[Pet Friendly], ...|       [Pet Friendly, Pa...|[Pet Friendly, Pa...|{This property do...|       1|[https://q-xx.bst...|https://q-xx.bsta...|            3|             1|            6|        796.53|     [3]|        6|https://www.booki...|   БУ-0ШР-8ЮЩ-А0|[en-us, fr, es, de]|     true|         NULL|\n",
      "| 3825887|               201|    []|  {14:00:00, 18:00:...|     NAD|booking://hotel/3...|{{In dieser Unter...|[{[], 2}, {[], 15...|           false|{{Anton Lubowski ...|{Vista Mare, Vist...|              1|{false, false, {[...|[{true, {https://...|{[], NULL, NULL, ...|            $$|   {false}|{105, true, 9.2, ...|[{[non_smoking], ...|         [af, en-gb]|[Apartments, Acco...|https://www.booki...|          Vista Mare|             105|          4|         9.2|                4.60|        true|    14:00:00|  18:00:00|     07:00:00|   10:00:00|          vista-mare|2025-02-18|   Apartments|             Apartment|             [Apartment]|        NULL|{1 -> Apartments,...|[2, 15, 16, 19, 4...|{2 -> Parking, 3 ...|[Parking, Terrace...|  [[Sports/activiti...|       [Sports/activitie...|[Sports/activitie...|{This property do...|       1|[https://q-xx.bst...|https://q-xx.bsta...|            2|             2|            4|       1614.59|     [2]|        4|https://www.booki...|                |[en-us, fr, es, de]|     true|         NULL|\n",
      "| 2948293|               220|[3531]|  {16:00:00, 20:00:...|     EUR|booking://hotel/2...|{{Bitte beachten ...|[{[], 2}, {[], 4}...|           false|{{NULL, NULL, NUL...|{La Querciola, La...|              1|{false, true, {[2...|[{true, {https://...|{[], NULL, 99, 18...|              |   {false}|{0, false, NULL, ...|[{[non_smoking], ...|[da, de, en-gb, e...|[Accommodations, ...|https://www.booki...|        La Querciola|               0|          3|         0.0|                0.00|       false|    16:00:00|  20:00:00|     00:01:00|   10:00:00|        la-querciola|2025-02-18|Holiday homes|                 House|                 [House]|        NULL|{1 -> Apartments,...|[2, 4, 46, 47, 72...|{2 -> Parking, 3 ...|[Parking, Pet fri...|  [[Balcony/terrace...|       [Balcony/terrace,...|[Balcony/terrace,...|{Please note that...|       1|[https://q-xx.bst...|https://q-xx.bsta...|            3|             1|            6|       1291.67|     [3]|        6|https://www.booki...|                |[en-us, fr, es, de]|     true|         NULL|\n",
      "|11017652|               201|    []|  {17:00:00, 23:00:...|     EUR|booking://hotel/1...|{{In dieser Unter...|[{[], 16}, {[], 4...|           false|{{2 Rue François ...|{Evasion romantiq...|              1|{false, true, {[]...|[{true, {https://...|{[], {350.0, EUR,...|              |   {false}|{29, true, 7.5, 3...|[{[non_smoking], ...|[en-gb, es, fr, p...|[Apartments, Budg...|https://www.booki...|Evasion romantiqu...|              29|          3|         7.5|                3.75|        true|    17:00:00|  23:00:00|         NULL|   12:00:00|evasion-romantiqu...|2025-02-18|   Apartments|             Apartment|             [Apartment]|        NULL|{1 -> Apartments,...|[16, 47, 63, 80, ...|{2 -> Parking, 3 ...|[Non-smoking room...|  [[Fireplace/Heati...|       [Fireplace/Heatin...|[Fireplace/Heatin...|{This property do...|       1|[https://q-xx.bst...|https://q-xx.bsta...|            1|             1|            2|        322.92|     [1]|        2|https://www.booki...|                |[en-us, fr, es, de]|     true|         NULL|\n",
      "+--------+------------------+------+----------------------+--------+--------------------+--------------------+--------------------+----------------+--------------------+--------------------+---------------+--------------------+--------------------+--------------------+--------------+----------+--------------------+--------------------+--------------------+--------------------+--------------------+--------------------+----------------+-----------+------------+--------------------+------------+------------+----------+-------------+-----------+--------------------+----------+-------------+----------------------+------------------------+------------+--------------------+--------------------+--------------------+--------------------+----------------------+---------------------------+--------------------+--------------------+--------+--------------------+--------------------+-------------+--------------+-------------+--------------+--------+---------+--------------------+----------------+-------------------+---------+-------------+\n",
      "only showing top 5 rows\n",
      "\n"
     ]
    }
   ],
   "source": [
    "#before_df_reviews.show(5)"
   ]
  },
  {
   "cell_type": "code",
   "execution_count": null,
   "metadata": {},
   "outputs": [
    {
     "name": "stderr",
     "output_type": "stream",
     "text": [
      "25/02/18 16:53:18 WARN DAGScheduler: Broadcasting large task binary with size 1961.3 KiB\n",
      "25/02/18 16:53:47 WARN DAGScheduler: Broadcasting large task binary with size 2.1 MiB\n",
      "[Stage 69:>                                                         (0 + 1) / 1]\r"
     ]
    },
    {
     "name": "stdout",
     "output_type": "stream",
     "text": [
      "+--------+------------------+------+----------------------+--------+--------------------+--------------------+--------------------+----------------+--------------------+--------------------+---------------+--------------------+--------------------+--------------------+--------------+----------+--------------------+--------------------+--------------------+--------------------+--------------------+--------------------+----------------+-----------+------------+--------------------+------------+------------+----------+-------------+-----------+--------------------+----------+-------------+----------------------+------------------------+------------+--------------------+--------------------+--------------------+--------------------+----------------------+---------------------------+--------------------+--------------------+--------+--------------------+--------------------+-------------+--------------+-------------+--------------+--------+---------+--------------------+----------------+-------------------+---------+-------------+\n",
      "|      id|accommodation_type|brands|checkin_checkout_times|currency|       deep_link_url|         description|          facilities|is_work_friendly|            location|                name|number_of_rooms|             payment|              photos|            policies|price_category|programmes|              rating|               rooms|    spoken_languages|              themes|                 url|       property_name|number_of_review|star_rating|review_score|review_score_general|is_preferred|checkin_from|checkin_to|checkout_from|checkout_to|       property_slug|updated_at|property_type|property_type_category|property_type_categories|   room_type|       themes_id_map|         amenity_ids|      amenity_id_map|           amenities|new_amenity_categories|flat_new_amenity_categories|  amenity_categories|              policy|min_stay|              images|       feature_image|bedroom_count|bathroom_count|max_occupancy|room_size_sqft|bedrooms|occupancy|   feed_provider_url|  license_number|          languages|published|review_scores|\n",
      "+--------+------------------+------+----------------------+--------+--------------------+--------------------+--------------------+----------------+--------------------+--------------------+---------------+--------------------+--------------------+--------------------+--------------+----------+--------------------+--------------------+--------------------+--------------------+--------------------+--------------------+----------------+-----------+------------+--------------------+------------+------------+----------+-------------+-----------+--------------------+----------+-------------+----------------------+------------------------+------------+--------------------+--------------------+--------------------+--------------------+----------------------+---------------------------+--------------------+--------------------+--------+--------------------+--------------------+-------------+--------------+-------------+--------------+--------+---------+--------------------+----------------+-------------------+---------+-------------+\n",
      "| 3671593|               213|[3292]|  {16:00:00, 21:00:...|     EUR|booking://hotel/3...|{{Check your Belv...|[{[], 2}, {[], 4}...|           false|{{NULL, NULL, NUL...|{Belvilla by OYO ...|              1|{false, true, {[1...|[{true, {https://...|{[], NULL, NULL, ...|             $|   {false}|{2, false, 3.5, 4...|[{[non_smoking], ...| [de, en-gb, fr, nl]|[Accommodations, ...|https://www.booki...|Belvilla by OYO C...|               2|          4|         3.5|                1.75|       false|    16:00:00|  21:00:00|     09:00:00|   10:00:00|belvilla-by-oyo-c...|2025-02-18|       Villas|                 Villa|                    NULL|        NULL|{1 -> Apartments,...|[2, 4, 7, 9, 12, ...|{2 -> Parking, 3 ...|[Parking, Pet fri...|  [[View, Sports/ac...|       [View, Sports/act...|[View, Sports/act...|{Check your Belvi...|       1|[https://q-xx.bst...|https://q-xx.bsta...|            3|             5|            6|       2690.98|     [3]|        6|https://www.booki...|22000/2018/17484|[en-us, fr, es, de]|     true|         NULL|\n",
      "|13469972|               201|    []|  {14:00:00, 21:00:...|     BGN|booking://hotel/1...|{{In dieser Unter...|[{[], 2}, {[], 4}...|           false|{{zh.k. Meden rud...|{Apartment Bela, ...|              1|{false, true, {[]...|[{true, {https://...|{[], NULL, NULL, ...|              |   {false}|{0, false, NULL, ...|[{[non_smoking], ...|                [bg]|                  []|https://www.booki...|      Apartment Bela|               0|          0|         0.0|                0.00|       false|    14:00:00|  21:00:00|     10:00:00|   12:00:00|      apartment-bela|2025-02-18|   Apartments|             Apartment|                    NULL|Shared space|{1 -> Apartments,...|[2, 4, 46, 47, 96...|{2 -> Parking, 3 ...|[Parking, Pet fri...|  [[Pet Friendly], ...|       [Pet Friendly, Pa...|[Pet Friendly, Pa...|{This property do...|       1|[https://q-xx.bst...|https://q-xx.bsta...|            3|             1|            6|        796.53|     [3]|        6|https://www.booki...|   БУ-0ШР-8ЮЩ-А0|[en-us, fr, es, de]|     true|         NULL|\n",
      "| 3825887|               201|    []|  {14:00:00, 18:00:...|     NAD|booking://hotel/3...|{{In dieser Unter...|[{[], 2}, {[], 15...|           false|{{Anton Lubowski ...|{Vista Mare, Vist...|              1|{false, false, {[...|[{true, {https://...|{[], NULL, NULL, ...|            $$|   {false}|{105, true, 9.2, ...|[{[non_smoking], ...|         [af, en-gb]|[Apartments, Acco...|https://www.booki...|          Vista Mare|             105|          4|         9.2|                4.60|        true|    14:00:00|  18:00:00|     07:00:00|   10:00:00|          vista-mare|2025-02-18|   Apartments|             Apartment|             [Apartment]|        NULL|{1 -> Apartments,...|[2, 15, 16, 19, 4...|{2 -> Parking, 3 ...|[Parking, Terrace...|  [[Sports/activiti...|       [Sports/activitie...|[Sports/activitie...|{This property do...|       1|[https://q-xx.bst...|https://q-xx.bsta...|            2|             2|            4|       1614.59|     [2]|        4|https://www.booki...|                |[en-us, fr, es, de]|     true|         NULL|\n",
      "| 2948293|               220|[3531]|  {16:00:00, 20:00:...|     EUR|booking://hotel/2...|{{Bitte beachten ...|[{[], 2}, {[], 4}...|           false|{{NULL, NULL, NUL...|{La Querciola, La...|              1|{false, true, {[2...|[{true, {https://...|{[], NULL, 99, 18...|              |   {false}|{0, false, NULL, ...|[{[non_smoking], ...|[da, de, en-gb, e...|[Accommodations, ...|https://www.booki...|        La Querciola|               0|          3|         0.0|                0.00|       false|    16:00:00|  20:00:00|     00:01:00|   10:00:00|        la-querciola|2025-02-18|Holiday homes|                 House|                 [House]|        NULL|{1 -> Apartments,...|[2, 4, 46, 47, 72...|{2 -> Parking, 3 ...|[Parking, Pet fri...|  [[Balcony/terrace...|       [Balcony/terrace,...|[Balcony/terrace,...|{Please note that...|       1|[https://q-xx.bst...|https://q-xx.bsta...|            3|             1|            6|       1291.67|     [3]|        6|https://www.booki...|                |[en-us, fr, es, de]|     true|         NULL|\n",
      "|11017652|               201|    []|  {17:00:00, 23:00:...|     EUR|booking://hotel/1...|{{In dieser Unter...|[{[], 16}, {[], 4...|           false|{{2 Rue François ...|{Evasion romantiq...|              1|{false, true, {[]...|[{true, {https://...|{[], {350.0, EUR,...|              |   {false}|{29, true, 7.5, 3...|[{[non_smoking], ...|[en-gb, es, fr, p...|[Apartments, Budg...|https://www.booki...|Evasion romantiqu...|              29|          3|         7.5|                3.75|        true|    17:00:00|  23:00:00|         NULL|   12:00:00|evasion-romantiqu...|2025-02-18|   Apartments|             Apartment|             [Apartment]|        NULL|{1 -> Apartments,...|[16, 47, 63, 80, ...|{2 -> Parking, 3 ...|[Non-smoking room...|  [[Fireplace/Heati...|       [Fireplace/Heatin...|[Fireplace/Heatin...|{This property do...|       1|[https://q-xx.bst...|https://q-xx.bsta...|            1|             1|            2|        322.92|     [1]|        2|https://www.booki...|                |[en-us, fr, es, de]|     true|         NULL|\n",
      "+--------+------------------+------+----------------------+--------+--------------------+--------------------+--------------------+----------------+--------------------+--------------------+---------------+--------------------+--------------------+--------------------+--------------+----------+--------------------+--------------------+--------------------+--------------------+--------------------+--------------------+----------------+-----------+------------+--------------------+------------+------------+----------+-------------+-----------+--------------------+----------+-------------+----------------------+------------------------+------------+--------------------+--------------------+--------------------+--------------------+----------------------+---------------------------+--------------------+--------------------+--------+--------------------+--------------------+-------------+--------------+-------------+--------------+--------+---------+--------------------+----------------+-------------------+---------+-------------+\n",
      "only showing top 5 rows\n",
      "\n"
     ]
    },
    {
     "name": "stderr",
     "output_type": "stream",
     "text": [
      "                                                                                \r"
     ]
    }
   ],
   "source": [
    "# after_df_reviews.show(5)"
   ]
  },
  {
   "cell_type": "code",
   "execution_count": null,
   "metadata": {},
   "outputs": [],
   "source": [
    "df_processed=before_df_reviews"
   ]
  },
  {
   "cell_type": "markdown",
   "metadata": {},
   "source": [
    "# process property flag data"
   ]
  },
  {
   "cell_type": "code",
   "execution_count": null,
   "metadata": {},
   "outputs": [
    {
     "name": "stderr",
     "output_type": "stream",
     "text": [
      "2025-02-18 16:53:50,194 - INFO - ======== Before Property Flags data process Started ========\n",
      "2025-02-18 16:53:55,525 - INFO - ======== Before Property Flags data process ended ========\n",
      "2025-02-18 16:53:55,746 - INFO - ======== After Property Flags data process Started ========\n",
      "2025-02-18 16:53:59,644 - INFO - ===== : Optimized process Property Flags Data Complete : =====\n",
      "2025-02-18 16:53:59,645 - INFO - ======== After Property Flags data process ended ========\n"
     ]
    }
   ],
   "source": [
    "before_df_property_flag,after_df_property_flag = processor.preprocess_property_flags_data(df_processed,df_reviews_scores, df_chain_and_brand, df_search)"
   ]
  },
  {
   "cell_type": "code",
   "execution_count": null,
   "metadata": {},
   "outputs": [
    {
     "name": "stderr",
     "output_type": "stream",
     "text": [
      "25/02/18 16:54:19 WARN DAGScheduler: Broadcasting large task binary with size 1961.3 KiB\n",
      "25/02/18 16:54:42 WARN DAGScheduler: Broadcasting large task binary with size 2.1 MiB\n",
      "[Stage 97:>                                                         (0 + 1) / 1]\r"
     ]
    },
    {
     "name": "stdout",
     "output_type": "stream",
     "text": [
      "+--------+------------------+------+----------------------+--------+--------------------+--------------------+--------------------+----------------+--------------------+--------------------+---------------+--------------------+--------------------+--------------------+--------------+----------+--------------------+--------------------+--------------------+--------------------+--------------------+--------------------+----------------+-----------+------------+--------------------+------------+------------+----------+-------------+-----------+--------------------+----------+-------------+----------------------+------------------------+------------+--------------------+--------------------+--------------------+--------------------+----------------------+---------------------------+--------------------+--------------------+--------+--------------------+--------------------+-------------+--------------+-------------+--------------+--------+---------+--------------------+----------------+-------------------+---------+-------------+--------------------+\n",
      "|      id|accommodation_type|brands|checkin_checkout_times|currency|       deep_link_url|         description|          facilities|is_work_friendly|            location|                name|number_of_rooms|             payment|              photos|            policies|price_category|programmes|              rating|               rooms|    spoken_languages|              themes|                 url|       property_name|number_of_review|star_rating|review_score|review_score_general|is_preferred|checkin_from|checkin_to|checkout_from|checkout_to|       property_slug|updated_at|property_type|property_type_category|property_type_categories|   room_type|       themes_id_map|         amenity_ids|      amenity_id_map|           amenities|new_amenity_categories|flat_new_amenity_categories|  amenity_categories|              policy|min_stay|              images|       feature_image|bedroom_count|bathroom_count|max_occupancy|room_size_sqft|bedrooms|occupancy|   feed_provider_url|  license_number|          languages|published|review_scores|      property_flags|\n",
      "+--------+------------------+------+----------------------+--------+--------------------+--------------------+--------------------+----------------+--------------------+--------------------+---------------+--------------------+--------------------+--------------------+--------------+----------+--------------------+--------------------+--------------------+--------------------+--------------------+--------------------+----------------+-----------+------------+--------------------+------------+------------+----------+-------------+-----------+--------------------+----------+-------------+----------------------+------------------------+------------+--------------------+--------------------+--------------------+--------------------+----------------------+---------------------------+--------------------+--------------------+--------+--------------------+--------------------+-------------+--------------+-------------+--------------+--------+---------+--------------------+----------------+-------------------+---------+-------------+--------------------+\n",
      "| 3671593|               213|[3292]|  {16:00:00, 21:00:...|     EUR|booking://hotel/3...|{{Check your Belv...|[{[], 2}, {[], 4}...|           false|{{NULL, NULL, NUL...|{Belvilla by OYO ...|              1|{false, true, {[1...|[{true, {https://...|{[], NULL, NULL, ...|             $|   {false}|{2, false, 3.5, 4...|[{[non_smoking], ...| [de, en-gb, fr, nl]|[Accommodations, ...|https://www.booki...|Belvilla by OYO C...|               2|          4|         3.5|                1.75|       false|    16:00:00|  21:00:00|     09:00:00|   10:00:00|belvilla-by-oyo-c...|2025-02-18|       Villas|                 Villa|                    NULL|        NULL|{1 -> Apartments,...|[2, 4, 7, 9, 12, ...|{2 -> Parking, 3 ...|[Parking, Pet fri...|  [[View, Sports/ac...|       [View, Sports/act...|[View, Sports/act...|{Check your Belvi...|       1|[https://q-xx.bst...|https://q-xx.bsta...|            3|             5|            6|       2690.98|     [3]|        6|https://www.booki...|22000/2018/17484|[en-us, fr, es, de]|     true|         NULL|{true, true, true...|\n",
      "|13469972|               201|    []|  {14:00:00, 21:00:...|     BGN|booking://hotel/1...|{{In dieser Unter...|[{[], 2}, {[], 4}...|           false|{{zh.k. Meden rud...|{Apartment Bela, ...|              1|{false, true, {[]...|[{true, {https://...|{[], NULL, NULL, ...|              |   {false}|{0, false, NULL, ...|[{[non_smoking], ...|                [bg]|                  []|https://www.booki...|      Apartment Bela|               0|          0|         0.0|                0.00|       false|    14:00:00|  21:00:00|     10:00:00|   12:00:00|      apartment-bela|2025-02-18|   Apartments|             Apartment|                    NULL|Shared space|{1 -> Apartments,...|[2, 4, 46, 47, 96...|{2 -> Parking, 3 ...|[Parking, Pet fri...|  [[Pet Friendly], ...|       [Pet Friendly, Pa...|[Pet Friendly, Pa...|{This property do...|       1|[https://q-xx.bst...|https://q-xx.bsta...|            3|             1|            6|        796.53|     [3]|        6|https://www.booki...|   БУ-0ШР-8ЮЩ-А0|[en-us, fr, es, de]|     true|         NULL|{false, false, fa...|\n",
      "| 3825887|               201|    []|  {14:00:00, 18:00:...|     NAD|booking://hotel/3...|{{In dieser Unter...|[{[], 2}, {[], 15...|           false|{{Anton Lubowski ...|{Vista Mare, Vist...|              1|{false, false, {[...|[{true, {https://...|{[], NULL, NULL, ...|            $$|   {false}|{105, true, 9.2, ...|[{[non_smoking], ...|         [af, en-gb]|[Apartments, Acco...|https://www.booki...|          Vista Mare|             105|          4|         9.2|                4.60|        true|    14:00:00|  18:00:00|     07:00:00|   10:00:00|          vista-mare|2025-02-18|   Apartments|             Apartment|             [Apartment]|        NULL|{1 -> Apartments,...|[2, 15, 16, 19, 4...|{2 -> Parking, 3 ...|[Parking, Terrace...|  [[Sports/activiti...|       [Sports/activitie...|[Sports/activitie...|{This property do...|       1|[https://q-xx.bst...|https://q-xx.bsta...|            2|             2|            4|       1614.59|     [2]|        4|https://www.booki...|                |[en-us, fr, es, de]|     true|         NULL|{true, true, fals...|\n",
      "| 2948293|               220|[3531]|  {16:00:00, 20:00:...|     EUR|booking://hotel/2...|{{Bitte beachten ...|[{[], 2}, {[], 4}...|           false|{{NULL, NULL, NUL...|{La Querciola, La...|              1|{false, true, {[2...|[{true, {https://...|{[], NULL, 99, 18...|              |   {false}|{0, false, NULL, ...|[{[non_smoking], ...|[da, de, en-gb, e...|[Accommodations, ...|https://www.booki...|        La Querciola|               0|          3|         0.0|                0.00|       false|    16:00:00|  20:00:00|     00:01:00|   10:00:00|        la-querciola|2025-02-18|Holiday homes|                 House|                 [House]|        NULL|{1 -> Apartments,...|[2, 4, 46, 47, 72...|{2 -> Parking, 3 ...|[Parking, Pet fri...|  [[Balcony/terrace...|       [Balcony/terrace,...|[Balcony/terrace,...|{Please note that...|       1|[https://q-xx.bst...|https://q-xx.bsta...|            3|             1|            6|       1291.67|     [3]|        6|https://www.booki...|                |[en-us, fr, es, de]|     true|         NULL|{true, false, fal...|\n",
      "|11017652|               201|    []|  {17:00:00, 23:00:...|     EUR|booking://hotel/1...|{{In dieser Unter...|[{[], 16}, {[], 4...|           false|{{2 Rue François ...|{Evasion romantiq...|              1|{false, true, {[]...|[{true, {https://...|{[], {350.0, EUR,...|              |   {false}|{29, true, 7.5, 3...|[{[non_smoking], ...|[en-gb, es, fr, p...|[Apartments, Budg...|https://www.booki...|Evasion romantiqu...|              29|          3|         7.5|                3.75|        true|    17:00:00|  23:00:00|         NULL|   12:00:00|evasion-romantiqu...|2025-02-18|   Apartments|             Apartment|             [Apartment]|        NULL|{1 -> Apartments,...|[16, 47, 63, 80, ...|{2 -> Parking, 3 ...|[Non-smoking room...|  [[Fireplace/Heati...|       [Fireplace/Heatin...|[Fireplace/Heatin...|{This property do...|       1|[https://q-xx.bst...|https://q-xx.bsta...|            1|             1|            2|        322.92|     [1]|        2|https://www.booki...|                |[en-us, fr, es, de]|     true|         NULL|{true, false, fal...|\n",
      "+--------+------------------+------+----------------------+--------+--------------------+--------------------+--------------------+----------------+--------------------+--------------------+---------------+--------------------+--------------------+--------------------+--------------+----------+--------------------+--------------------+--------------------+--------------------+--------------------+--------------------+----------------+-----------+------------+--------------------+------------+------------+----------+-------------+-----------+--------------------+----------+-------------+----------------------+------------------------+------------+--------------------+--------------------+--------------------+--------------------+----------------------+---------------------------+--------------------+--------------------+--------+--------------------+--------------------+-------------+--------------+-------------+--------------+--------+---------+--------------------+----------------+-------------------+---------+-------------+--------------------+\n",
      "only showing top 5 rows\n",
      "\n"
     ]
    },
    {
     "name": "stderr",
     "output_type": "stream",
     "text": [
      "                                                                                \r"
     ]
    }
   ],
   "source": [
    "#before_df_property_flag.show(5)"
   ]
  },
  {
   "cell_type": "code",
   "execution_count": null,
   "metadata": {},
   "outputs": [
    {
     "name": "stderr",
     "output_type": "stream",
     "text": [
      "25/02/18 16:55:00 WARN DAGScheduler: Broadcasting large task binary with size 1961.3 KiB\n",
      "25/02/18 16:55:21 WARN DAGScheduler: Broadcasting large task binary with size 2.1 MiB\n",
      "[Stage 125:>                                                        (0 + 1) / 1]\r"
     ]
    },
    {
     "name": "stdout",
     "output_type": "stream",
     "text": [
      "+--------+------------------+------+----------------------+--------+--------------------+--------------------+--------------------+----------------+--------------------+--------------------+---------------+--------------------+--------------------+--------------------+--------------+----------+--------------------+--------------------+--------------------+--------------------+--------------------+--------------------+----------------+-----------+------------+--------------------+------------+------------+----------+-------------+-----------+--------------------+----------+-------------+----------------------+------------------------+------------+--------------------+--------------------+--------------------+--------------------+----------------------+---------------------------+--------------------+--------------------+--------+--------------------+--------------------+-------------+--------------+-------------+--------------+--------+---------+--------------------+----------------+-------------------+---------+-------------+--------------------+\n",
      "|      id|accommodation_type|brands|checkin_checkout_times|currency|       deep_link_url|         description|          facilities|is_work_friendly|            location|                name|number_of_rooms|             payment|              photos|            policies|price_category|programmes|              rating|               rooms|    spoken_languages|              themes|                 url|       property_name|number_of_review|star_rating|review_score|review_score_general|is_preferred|checkin_from|checkin_to|checkout_from|checkout_to|       property_slug|updated_at|property_type|property_type_category|property_type_categories|   room_type|       themes_id_map|         amenity_ids|      amenity_id_map|           amenities|new_amenity_categories|flat_new_amenity_categories|  amenity_categories|              policy|min_stay|              images|       feature_image|bedroom_count|bathroom_count|max_occupancy|room_size_sqft|bedrooms|occupancy|   feed_provider_url|  license_number|          languages|published|review_scores|      property_flags|\n",
      "+--------+------------------+------+----------------------+--------+--------------------+--------------------+--------------------+----------------+--------------------+--------------------+---------------+--------------------+--------------------+--------------------+--------------+----------+--------------------+--------------------+--------------------+--------------------+--------------------+--------------------+----------------+-----------+------------+--------------------+------------+------------+----------+-------------+-----------+--------------------+----------+-------------+----------------------+------------------------+------------+--------------------+--------------------+--------------------+--------------------+----------------------+---------------------------+--------------------+--------------------+--------+--------------------+--------------------+-------------+--------------+-------------+--------------+--------+---------+--------------------+----------------+-------------------+---------+-------------+--------------------+\n",
      "| 3671593|               213|[3292]|  {16:00:00, 21:00:...|     EUR|booking://hotel/3...|{{Check your Belv...|[{[], 2}, {[], 4}...|           false|{{NULL, NULL, NUL...|{Belvilla by OYO ...|              1|{false, true, {[1...|[{true, {https://...|{[], NULL, NULL, ...|             $|   {false}|{2, false, 3.5, 4...|[{[non_smoking], ...| [de, en-gb, fr, nl]|[Accommodations, ...|https://www.booki...|Belvilla by OYO C...|               2|          4|         3.5|                1.75|       false|    16:00:00|  21:00:00|     09:00:00|   10:00:00|belvilla-by-oyo-c...|2025-02-18|       Villas|                 Villa|                    NULL|        NULL|{1 -> Apartments,...|[2, 4, 7, 9, 12, ...|{2 -> Parking, 3 ...|[Parking, Pet fri...|  [[View, Sports/ac...|       [View, Sports/act...|[View, Sports/act...|{Check your Belvi...|       1|[https://q-xx.bst...|https://q-xx.bsta...|            3|             5|            6|       2690.98|     [3]|        6|https://www.booki...|22000/2018/17484|[en-us, fr, es, de]|     true|         NULL|{true, true, true...|\n",
      "|13469972|               201|    []|  {14:00:00, 21:00:...|     BGN|booking://hotel/1...|{{In dieser Unter...|[{[], 2}, {[], 4}...|           false|{{zh.k. Meden rud...|{Apartment Bela, ...|              1|{false, true, {[]...|[{true, {https://...|{[], NULL, NULL, ...|              |   {false}|{0, false, NULL, ...|[{[non_smoking], ...|                [bg]|                  []|https://www.booki...|      Apartment Bela|               0|          0|         0.0|                0.00|       false|    14:00:00|  21:00:00|     10:00:00|   12:00:00|      apartment-bela|2025-02-18|   Apartments|             Apartment|                    NULL|Shared space|{1 -> Apartments,...|[2, 4, 46, 47, 96...|{2 -> Parking, 3 ...|[Parking, Pet fri...|  [[Pet Friendly], ...|       [Pet Friendly, Pa...|[Pet Friendly, Pa...|{This property do...|       1|[https://q-xx.bst...|https://q-xx.bsta...|            3|             1|            6|        796.53|     [3]|        6|https://www.booki...|   БУ-0ШР-8ЮЩ-А0|[en-us, fr, es, de]|     true|         NULL|{false, false, fa...|\n",
      "| 3825887|               201|    []|  {14:00:00, 18:00:...|     NAD|booking://hotel/3...|{{In dieser Unter...|[{[], 2}, {[], 15...|           false|{{Anton Lubowski ...|{Vista Mare, Vist...|              1|{false, false, {[...|[{true, {https://...|{[], NULL, NULL, ...|            $$|   {false}|{105, true, 9.2, ...|[{[non_smoking], ...|         [af, en-gb]|[Apartments, Acco...|https://www.booki...|          Vista Mare|             105|          4|         9.2|                4.60|        true|    14:00:00|  18:00:00|     07:00:00|   10:00:00|          vista-mare|2025-02-18|   Apartments|             Apartment|             [Apartment]|        NULL|{1 -> Apartments,...|[2, 15, 16, 19, 4...|{2 -> Parking, 3 ...|[Parking, Terrace...|  [[Sports/activiti...|       [Sports/activitie...|[Sports/activitie...|{This property do...|       1|[https://q-xx.bst...|https://q-xx.bsta...|            2|             2|            4|       1614.59|     [2]|        4|https://www.booki...|                |[en-us, fr, es, de]|     true|         NULL|{true, true, fals...|\n",
      "| 2948293|               220|[3531]|  {16:00:00, 20:00:...|     EUR|booking://hotel/2...|{{Bitte beachten ...|[{[], 2}, {[], 4}...|           false|{{NULL, NULL, NUL...|{La Querciola, La...|              1|{false, true, {[2...|[{true, {https://...|{[], NULL, 99, 18...|              |   {false}|{0, false, NULL, ...|[{[non_smoking], ...|[da, de, en-gb, e...|[Accommodations, ...|https://www.booki...|        La Querciola|               0|          3|         0.0|                0.00|       false|    16:00:00|  20:00:00|     00:01:00|   10:00:00|        la-querciola|2025-02-18|Holiday homes|                 House|                 [House]|        NULL|{1 -> Apartments,...|[2, 4, 46, 47, 72...|{2 -> Parking, 3 ...|[Parking, Pet fri...|  [[Balcony/terrace...|       [Balcony/terrace,...|[Balcony/terrace,...|{Please note that...|       1|[https://q-xx.bst...|https://q-xx.bsta...|            3|             1|            6|       1291.67|     [3]|        6|https://www.booki...|                |[en-us, fr, es, de]|     true|         NULL|{true, false, fal...|\n",
      "|11017652|               201|    []|  {17:00:00, 23:00:...|     EUR|booking://hotel/1...|{{In dieser Unter...|[{[], 16}, {[], 4...|           false|{{2 Rue François ...|{Evasion romantiq...|              1|{false, true, {[]...|[{true, {https://...|{[], {350.0, EUR,...|              |   {false}|{29, true, 7.5, 3...|[{[non_smoking], ...|[en-gb, es, fr, p...|[Apartments, Budg...|https://www.booki...|Evasion romantiqu...|              29|          3|         7.5|                3.75|        true|    17:00:00|  23:00:00|         NULL|   12:00:00|evasion-romantiqu...|2025-02-18|   Apartments|             Apartment|             [Apartment]|        NULL|{1 -> Apartments,...|[16, 47, 63, 80, ...|{2 -> Parking, 3 ...|[Non-smoking room...|  [[Fireplace/Heati...|       [Fireplace/Heatin...|[Fireplace/Heatin...|{This property do...|       1|[https://q-xx.bst...|https://q-xx.bsta...|            1|             1|            2|        322.92|     [1]|        2|https://www.booki...|                |[en-us, fr, es, de]|     true|         NULL|{true, false, fal...|\n",
      "+--------+------------------+------+----------------------+--------+--------------------+--------------------+--------------------+----------------+--------------------+--------------------+---------------+--------------------+--------------------+--------------------+--------------+----------+--------------------+--------------------+--------------------+--------------------+--------------------+--------------------+----------------+-----------+------------+--------------------+------------+------------+----------+-------------+-----------+--------------------+----------+-------------+----------------------+------------------------+------------+--------------------+--------------------+--------------------+--------------------+----------------------+---------------------------+--------------------+--------------------+--------+--------------------+--------------------+-------------+--------------+-------------+--------------+--------+---------+--------------------+----------------+-------------------+---------+-------------+--------------------+\n",
      "only showing top 5 rows\n",
      "\n"
     ]
    },
    {
     "name": "stderr",
     "output_type": "stream",
     "text": [
      "                                                                                \r"
     ]
    }
   ],
   "source": [
    "#after_df_property_flag.show(5)"
   ]
  },
  {
   "cell_type": "code",
   "execution_count": null,
   "metadata": {},
   "outputs": [],
   "source": [
    "df_processed=before_df_property_flag"
   ]
  },
  {
   "cell_type": "markdown",
   "metadata": {},
   "source": [
    "# process chain and brand data"
   ]
  },
  {
   "cell_type": "code",
   "execution_count": null,
   "metadata": {},
   "outputs": [
    {
     "name": "stderr",
     "output_type": "stream",
     "text": [
      "2025-02-18 16:55:22,632 - INFO - ======== Before Chain and Brand data process Started ========\n"
     ]
    },
    {
     "name": "stderr",
     "output_type": "stream",
     "text": [
      "2025-02-18 16:55:23,589 - INFO - ======== Before Chain and Brand data process Ended ========\n",
      "2025-02-18 16:55:23,607 - INFO - ======== After Chain and Brand data process Started ========\n",
      "2025-02-18 16:55:24,074 - INFO - === : After Process Chain and Brand Data :====\n",
      "2025-02-18 16:55:24,076 - INFO - ======== After Chain and Brand data process Ended ========\n"
     ]
    }
   ],
   "source": [
    "before_df_chian_brand,after_df_chian_brand = processor.preprocess_basic_dataprocess_chain_and_brand_data(df_processed,df_reviews_scores, df_chain_and_brand, df_search)"
   ]
  },
  {
   "cell_type": "code",
   "execution_count": null,
   "metadata": {},
   "outputs": [
    {
     "name": "stderr",
     "output_type": "stream",
     "text": [
      "25/02/18 16:55:40 WARN DAGScheduler: Broadcasting large task binary with size 1961.3 KiB\n",
      "25/02/18 16:56:00 WARN DAGScheduler: Broadcasting large task binary with size 2.1 MiB\n",
      "[Stage 156:>                                                        (0 + 1) / 1]\r"
     ]
    },
    {
     "name": "stdout",
     "output_type": "stream",
     "text": [
      "+--------+------------------+------+----------------------+--------+--------------------+--------------------+--------------------+----------------+--------------------+--------------------+---------------+--------------------+--------------------+--------------------+--------------+----------+--------------------+--------------------+--------------------+--------------------+--------------------+--------------------+----------------+-----------+------------+--------------------+------------+------------+----------+-------------+-----------+--------------------+----------+-------------+----------------------+------------------------+------------+--------------------+--------------------+--------------------+--------------------+----------------------+---------------------------+--------------------+--------------------+--------+--------------------+--------------------+-------------+--------------+-------------+--------------+--------+---------+--------------------+----------------+-------------------+---------+-------------+--------------------+--------+--------------------+\n",
      "|      id|accommodation_type|brands|checkin_checkout_times|currency|       deep_link_url|         description|          facilities|is_work_friendly|            location|                name|number_of_rooms|             payment|              photos|            policies|price_category|programmes|              rating|               rooms|    spoken_languages|              themes|                 url|       property_name|number_of_review|star_rating|review_score|review_score_general|is_preferred|checkin_from|checkin_to|checkout_from|checkout_to|       property_slug|updated_at|property_type|property_type_category|property_type_categories|   room_type|       themes_id_map|         amenity_ids|      amenity_id_map|           amenities|new_amenity_categories|flat_new_amenity_categories|  amenity_categories|              policy|min_stay|              images|       feature_image|bedroom_count|bathroom_count|max_occupancy|room_size_sqft|bedrooms|occupancy|   feed_provider_url|  license_number|          languages|published|review_scores|      property_flags|brand_id|     chain_and_brand|\n",
      "+--------+------------------+------+----------------------+--------+--------------------+--------------------+--------------------+----------------+--------------------+--------------------+---------------+--------------------+--------------------+--------------------+--------------+----------+--------------------+--------------------+--------------------+--------------------+--------------------+--------------------+----------------+-----------+------------+--------------------+------------+------------+----------+-------------+-----------+--------------------+----------+-------------+----------------------+------------------------+------------+--------------------+--------------------+--------------------+--------------------+----------------------+---------------------------+--------------------+--------------------+--------+--------------------+--------------------+-------------+--------------+-------------+--------------+--------+---------+--------------------+----------------+-------------------+---------+-------------+--------------------+--------+--------------------+\n",
      "| 3671593|               213|[3292]|  {16:00:00, 21:00:...|     EUR|booking://hotel/3...|{{Check your Belv...|[{[], 2}, {[], 4}...|           false|{{NULL, NULL, NUL...|{Belvilla by OYO ...|              1|{false, true, {[1...|[{true, {https://...|{[], NULL, NULL, ...|             $|   {false}|{2, false, 3.5, 4...|[{[non_smoking], ...| [de, en-gb, fr, nl]|[Accommodations, ...|https://www.booki...|Belvilla by OYO C...|               2|          4|         3.5|                1.75|       false|    16:00:00|  21:00:00|     09:00:00|   10:00:00|belvilla-by-oyo-c...|2025-02-18|       Villas|                 Villa|                    NULL|        NULL|{1 -> Apartments,...|[2, 4, 7, 9, 12, ...|{2 -> Parking, 3 ...|[Parking, Pet fri...|  [[View, Sports/ac...|       [View, Sports/act...|[View, Sports/act...|{Check your Belvi...|       1|[https://q-xx.bst...|https://q-xx.bsta...|            3|             5|            6|       2690.98|     [3]|        6|https://www.booki...|22000/2018/17484|[en-us, fr, es, de]|     true|         NULL|{true, true, true...|    NULL|{NULL, NULL, NULL...|\n",
      "|13469972|               201|    []|  {14:00:00, 21:00:...|     BGN|booking://hotel/1...|{{In dieser Unter...|[{[], 2}, {[], 4}...|           false|{{zh.k. Meden rud...|{Apartment Bela, ...|              1|{false, true, {[]...|[{true, {https://...|{[], NULL, NULL, ...|              |   {false}|{0, false, NULL, ...|[{[non_smoking], ...|                [bg]|                  []|https://www.booki...|      Apartment Bela|               0|          0|         0.0|                0.00|       false|    14:00:00|  21:00:00|     10:00:00|   12:00:00|      apartment-bela|2025-02-18|   Apartments|             Apartment|                    NULL|Shared space|{1 -> Apartments,...|[2, 4, 46, 47, 96...|{2 -> Parking, 3 ...|[Parking, Pet fri...|  [[Pet Friendly], ...|       [Pet Friendly, Pa...|[Pet Friendly, Pa...|{This property do...|       1|[https://q-xx.bst...|https://q-xx.bsta...|            3|             1|            6|        796.53|     [3]|        6|https://www.booki...|   БУ-0ШР-8ЮЩ-А0|[en-us, fr, es, de]|     true|         NULL|{false, false, fa...|    NULL|{NULL, NULL, NULL...|\n",
      "| 3825887|               201|    []|  {14:00:00, 18:00:...|     NAD|booking://hotel/3...|{{In dieser Unter...|[{[], 2}, {[], 15...|           false|{{Anton Lubowski ...|{Vista Mare, Vist...|              1|{false, false, {[...|[{true, {https://...|{[], NULL, NULL, ...|            $$|   {false}|{105, true, 9.2, ...|[{[non_smoking], ...|         [af, en-gb]|[Apartments, Acco...|https://www.booki...|          Vista Mare|             105|          4|         9.2|                4.60|        true|    14:00:00|  18:00:00|     07:00:00|   10:00:00|          vista-mare|2025-02-18|   Apartments|             Apartment|             [Apartment]|        NULL|{1 -> Apartments,...|[2, 15, 16, 19, 4...|{2 -> Parking, 3 ...|[Parking, Terrace...|  [[Sports/activiti...|       [Sports/activitie...|[Sports/activitie...|{This property do...|       1|[https://q-xx.bst...|https://q-xx.bsta...|            2|             2|            4|       1614.59|     [2]|        4|https://www.booki...|                |[en-us, fr, es, de]|     true|         NULL|{true, true, fals...|    NULL|{NULL, NULL, NULL...|\n",
      "| 2948293|               220|[3531]|  {16:00:00, 20:00:...|     EUR|booking://hotel/2...|{{Bitte beachten ...|[{[], 2}, {[], 4}...|           false|{{NULL, NULL, NUL...|{La Querciola, La...|              1|{false, true, {[2...|[{true, {https://...|{[], NULL, 99, 18...|              |   {false}|{0, false, NULL, ...|[{[non_smoking], ...|[da, de, en-gb, e...|[Accommodations, ...|https://www.booki...|        La Querciola|               0|          3|         0.0|                0.00|       false|    16:00:00|  20:00:00|     00:01:00|   10:00:00|        la-querciola|2025-02-18|Holiday homes|                 House|                 [House]|        NULL|{1 -> Apartments,...|[2, 4, 46, 47, 72...|{2 -> Parking, 3 ...|[Parking, Pet fri...|  [[Balcony/terrace...|       [Balcony/terrace,...|[Balcony/terrace,...|{Please note that...|       1|[https://q-xx.bst...|https://q-xx.bsta...|            3|             1|            6|       1291.67|     [3]|        6|https://www.booki...|                |[en-us, fr, es, de]|     true|         NULL|{true, false, fal...|    NULL|{NULL, NULL, NULL...|\n",
      "|11017652|               201|    []|  {17:00:00, 23:00:...|     EUR|booking://hotel/1...|{{In dieser Unter...|[{[], 16}, {[], 4...|           false|{{2 Rue François ...|{Evasion romantiq...|              1|{false, true, {[]...|[{true, {https://...|{[], {350.0, EUR,...|              |   {false}|{29, true, 7.5, 3...|[{[non_smoking], ...|[en-gb, es, fr, p...|[Apartments, Budg...|https://www.booki...|Evasion romantiqu...|              29|          3|         7.5|                3.75|        true|    17:00:00|  23:00:00|         NULL|   12:00:00|evasion-romantiqu...|2025-02-18|   Apartments|             Apartment|             [Apartment]|        NULL|{1 -> Apartments,...|[16, 47, 63, 80, ...|{2 -> Parking, 3 ...|[Non-smoking room...|  [[Fireplace/Heati...|       [Fireplace/Heatin...|[Fireplace/Heatin...|{This property do...|       1|[https://q-xx.bst...|https://q-xx.bsta...|            1|             1|            2|        322.92|     [1]|        2|https://www.booki...|                |[en-us, fr, es, de]|     true|         NULL|{true, false, fal...|    NULL|{NULL, NULL, NULL...|\n",
      "+--------+------------------+------+----------------------+--------+--------------------+--------------------+--------------------+----------------+--------------------+--------------------+---------------+--------------------+--------------------+--------------------+--------------+----------+--------------------+--------------------+--------------------+--------------------+--------------------+--------------------+----------------+-----------+------------+--------------------+------------+------------+----------+-------------+-----------+--------------------+----------+-------------+----------------------+------------------------+------------+--------------------+--------------------+--------------------+--------------------+----------------------+---------------------------+--------------------+--------------------+--------+--------------------+--------------------+-------------+--------------+-------------+--------------+--------+---------+--------------------+----------------+-------------------+---------+-------------+--------------------+--------+--------------------+\n",
      "only showing top 5 rows\n",
      "\n"
     ]
    },
    {
     "name": "stderr",
     "output_type": "stream",
     "text": [
      "                                                                                \r"
     ]
    }
   ],
   "source": [
    "before_df_chian_brand.show(5)"
   ]
  },
  {
   "cell_type": "code",
   "execution_count": null,
   "metadata": {},
   "outputs": [
    {
     "name": "stderr",
     "output_type": "stream",
     "text": [
      "25/02/18 16:56:19 WARN DAGScheduler: Broadcasting large task binary with size 1961.3 KiB\n",
      "25/02/18 16:56:41 WARN DAGScheduler: Broadcasting large task binary with size 2.1 MiB\n",
      "[Stage 187:>                                                        (0 + 1) / 1]\r"
     ]
    },
    {
     "name": "stdout",
     "output_type": "stream",
     "text": [
      "+--------+------------------+------+----------------------+--------+--------------------+--------------------+--------------------+----------------+--------------------+--------------------+---------------+--------------------+--------------------+--------------------+--------------+----------+--------------------+--------------------+--------------------+--------------------+--------------------+--------------------+----------------+-----------+------------+--------------------+------------+------------+----------+-------------+-----------+--------------------+----------+-------------+----------------------+------------------------+------------+--------------------+--------------------+--------------------+--------------------+----------------------+---------------------------+--------------------+--------------------+--------+--------------------+--------------------+-------------+--------------+-------------+--------------+--------+---------+--------------------+----------------+-------------------+---------+-------------+--------------------+--------+--------------------+\n",
      "|      id|accommodation_type|brands|checkin_checkout_times|currency|       deep_link_url|         description|          facilities|is_work_friendly|            location|                name|number_of_rooms|             payment|              photos|            policies|price_category|programmes|              rating|               rooms|    spoken_languages|              themes|                 url|       property_name|number_of_review|star_rating|review_score|review_score_general|is_preferred|checkin_from|checkin_to|checkout_from|checkout_to|       property_slug|updated_at|property_type|property_type_category|property_type_categories|   room_type|       themes_id_map|         amenity_ids|      amenity_id_map|           amenities|new_amenity_categories|flat_new_amenity_categories|  amenity_categories|              policy|min_stay|              images|       feature_image|bedroom_count|bathroom_count|max_occupancy|room_size_sqft|bedrooms|occupancy|   feed_provider_url|  license_number|          languages|published|review_scores|      property_flags|brand_id|     chain_and_brand|\n",
      "+--------+------------------+------+----------------------+--------+--------------------+--------------------+--------------------+----------------+--------------------+--------------------+---------------+--------------------+--------------------+--------------------+--------------+----------+--------------------+--------------------+--------------------+--------------------+--------------------+--------------------+----------------+-----------+------------+--------------------+------------+------------+----------+-------------+-----------+--------------------+----------+-------------+----------------------+------------------------+------------+--------------------+--------------------+--------------------+--------------------+----------------------+---------------------------+--------------------+--------------------+--------+--------------------+--------------------+-------------+--------------+-------------+--------------+--------+---------+--------------------+----------------+-------------------+---------+-------------+--------------------+--------+--------------------+\n",
      "| 3671593|               213|[3292]|  {16:00:00, 21:00:...|     EUR|booking://hotel/3...|{{Check your Belv...|[{[], 2}, {[], 4}...|           false|{{NULL, NULL, NUL...|{Belvilla by OYO ...|              1|{false, true, {[1...|[{true, {https://...|{[], NULL, NULL, ...|             $|   {false}|{2, false, 3.5, 4...|[{[non_smoking], ...| [de, en-gb, fr, nl]|[Accommodations, ...|https://www.booki...|Belvilla by OYO C...|               2|          4|         3.5|                1.75|       false|    16:00:00|  21:00:00|     09:00:00|   10:00:00|belvilla-by-oyo-c...|2025-02-18|       Villas|                 Villa|                    NULL|        NULL|{1 -> Apartments,...|[2, 4, 7, 9, 12, ...|{2 -> Parking, 3 ...|[Parking, Pet fri...|  [[View, Sports/ac...|       [View, Sports/act...|[View, Sports/act...|{Check your Belvi...|       1|[https://q-xx.bst...|https://q-xx.bsta...|            3|             5|            6|       2690.98|     [3]|        6|https://www.booki...|22000/2018/17484|[en-us, fr, es, de]|     true|         NULL|{true, true, true...|    NULL|{NULL, NULL, NULL...|\n",
      "|13469972|               201|    []|  {14:00:00, 21:00:...|     BGN|booking://hotel/1...|{{In dieser Unter...|[{[], 2}, {[], 4}...|           false|{{zh.k. Meden rud...|{Apartment Bela, ...|              1|{false, true, {[]...|[{true, {https://...|{[], NULL, NULL, ...|              |   {false}|{0, false, NULL, ...|[{[non_smoking], ...|                [bg]|                  []|https://www.booki...|      Apartment Bela|               0|          0|         0.0|                0.00|       false|    14:00:00|  21:00:00|     10:00:00|   12:00:00|      apartment-bela|2025-02-18|   Apartments|             Apartment|                    NULL|Shared space|{1 -> Apartments,...|[2, 4, 46, 47, 96...|{2 -> Parking, 3 ...|[Parking, Pet fri...|  [[Pet Friendly], ...|       [Pet Friendly, Pa...|[Pet Friendly, Pa...|{This property do...|       1|[https://q-xx.bst...|https://q-xx.bsta...|            3|             1|            6|        796.53|     [3]|        6|https://www.booki...|   БУ-0ШР-8ЮЩ-А0|[en-us, fr, es, de]|     true|         NULL|{false, false, fa...|    NULL|{NULL, NULL, NULL...|\n",
      "| 3825887|               201|    []|  {14:00:00, 18:00:...|     NAD|booking://hotel/3...|{{In dieser Unter...|[{[], 2}, {[], 15...|           false|{{Anton Lubowski ...|{Vista Mare, Vist...|              1|{false, false, {[...|[{true, {https://...|{[], NULL, NULL, ...|            $$|   {false}|{105, true, 9.2, ...|[{[non_smoking], ...|         [af, en-gb]|[Apartments, Acco...|https://www.booki...|          Vista Mare|             105|          4|         9.2|                4.60|        true|    14:00:00|  18:00:00|     07:00:00|   10:00:00|          vista-mare|2025-02-18|   Apartments|             Apartment|             [Apartment]|        NULL|{1 -> Apartments,...|[2, 15, 16, 19, 4...|{2 -> Parking, 3 ...|[Parking, Terrace...|  [[Sports/activiti...|       [Sports/activitie...|[Sports/activitie...|{This property do...|       1|[https://q-xx.bst...|https://q-xx.bsta...|            2|             2|            4|       1614.59|     [2]|        4|https://www.booki...|                |[en-us, fr, es, de]|     true|         NULL|{true, true, fals...|    NULL|{NULL, NULL, NULL...|\n",
      "| 2948293|               220|[3531]|  {16:00:00, 20:00:...|     EUR|booking://hotel/2...|{{Bitte beachten ...|[{[], 2}, {[], 4}...|           false|{{NULL, NULL, NUL...|{La Querciola, La...|              1|{false, true, {[2...|[{true, {https://...|{[], NULL, 99, 18...|              |   {false}|{0, false, NULL, ...|[{[non_smoking], ...|[da, de, en-gb, e...|[Accommodations, ...|https://www.booki...|        La Querciola|               0|          3|         0.0|                0.00|       false|    16:00:00|  20:00:00|     00:01:00|   10:00:00|        la-querciola|2025-02-18|Holiday homes|                 House|                 [House]|        NULL|{1 -> Apartments,...|[2, 4, 46, 47, 72...|{2 -> Parking, 3 ...|[Parking, Pet fri...|  [[Balcony/terrace...|       [Balcony/terrace,...|[Balcony/terrace,...|{Please note that...|       1|[https://q-xx.bst...|https://q-xx.bsta...|            3|             1|            6|       1291.67|     [3]|        6|https://www.booki...|                |[en-us, fr, es, de]|     true|         NULL|{true, false, fal...|    NULL|{NULL, NULL, NULL...|\n",
      "|11017652|               201|    []|  {17:00:00, 23:00:...|     EUR|booking://hotel/1...|{{In dieser Unter...|[{[], 16}, {[], 4...|           false|{{2 Rue François ...|{Evasion romantiq...|              1|{false, true, {[]...|[{true, {https://...|{[], {350.0, EUR,...|              |   {false}|{29, true, 7.5, 3...|[{[non_smoking], ...|[en-gb, es, fr, p...|[Apartments, Budg...|https://www.booki...|Evasion romantiqu...|              29|          3|         7.5|                3.75|        true|    17:00:00|  23:00:00|         NULL|   12:00:00|evasion-romantiqu...|2025-02-18|   Apartments|             Apartment|             [Apartment]|        NULL|{1 -> Apartments,...|[16, 47, 63, 80, ...|{2 -> Parking, 3 ...|[Non-smoking room...|  [[Fireplace/Heati...|       [Fireplace/Heatin...|[Fireplace/Heatin...|{This property do...|       1|[https://q-xx.bst...|https://q-xx.bsta...|            1|             1|            2|        322.92|     [1]|        2|https://www.booki...|                |[en-us, fr, es, de]|     true|         NULL|{true, false, fal...|    NULL|{NULL, NULL, NULL...|\n",
      "+--------+------------------+------+----------------------+--------+--------------------+--------------------+--------------------+----------------+--------------------+--------------------+---------------+--------------------+--------------------+--------------------+--------------+----------+--------------------+--------------------+--------------------+--------------------+--------------------+--------------------+----------------+-----------+------------+--------------------+------------+------------+----------+-------------+-----------+--------------------+----------+-------------+----------------------+------------------------+------------+--------------------+--------------------+--------------------+--------------------+----------------------+---------------------------+--------------------+--------------------+--------+--------------------+--------------------+-------------+--------------+-------------+--------------+--------+---------+--------------------+----------------+-------------------+---------+-------------+--------------------+--------+--------------------+\n",
      "only showing top 5 rows\n",
      "\n"
     ]
    },
    {
     "name": "stderr",
     "output_type": "stream",
     "text": [
      "                                                                                \r"
     ]
    }
   ],
   "source": [
    "after_df_chian_brand.show(5)"
   ]
  },
  {
   "cell_type": "code",
   "execution_count": null,
   "metadata": {},
   "outputs": [],
   "source": [
    "df_processed=before_df_chian_brand"
   ]
  },
  {
   "cell_type": "markdown",
   "metadata": {},
   "source": [
    "# process commission and meal plan data"
   ]
  },
  {
   "cell_type": "code",
   "execution_count": null,
   "metadata": {},
   "outputs": [
    {
     "name": "stderr",
     "output_type": "stream",
     "text": [
      "2025-02-18 16:56:42,831 - INFO - ======== Before Commission and meal plan data process Started ========\n"
     ]
    },
    {
     "name": "stderr",
     "output_type": "stream",
     "text": [
      "2025-02-18 16:56:43,749 - INFO - ======== After Commission and meal plan data process Ended ========\n",
      "2025-02-18 16:56:43,775 - INFO - ======== After Commission and meal plan data process Started ========\n",
      "2025-02-18 16:56:44,178 - INFO - ===== : Optimized process Commission and Meal Plan Data Complete : =====\n",
      "2025-02-18 16:56:44,179 - INFO - ======== After Commission and meal plan data process Ended ========\n"
     ]
    }
   ],
   "source": [
    "before_df_commission_meal,after_df_commission_meal = processor.preprocess_commission_and_meal_plan_data(df_processed,df_reviews_scores, df_chain_and_brand, df_search)"
   ]
  },
  {
   "cell_type": "code",
   "execution_count": null,
   "metadata": {},
   "outputs": [
    {
     "name": "stderr",
     "output_type": "stream",
     "text": [
      "25/02/18 16:57:00 WARN DAGScheduler: Broadcasting large task binary with size 1961.3 KiB\n",
      "25/02/18 16:57:24 WARN DAGScheduler: Broadcasting large task binary with size 2.1 MiB\n",
      "[Stage 221:>                                                        (0 + 1) / 1]\r"
     ]
    },
    {
     "name": "stdout",
     "output_type": "stream",
     "text": [
      "+--------+------------------+------+----------------------+--------+--------------------+--------------------+--------------------+----------------+--------------------+--------------------+---------------+--------------------+--------------------+--------------------+--------------+----------+--------------------+--------------------+--------------------+--------------------+--------------------+--------------------+----------------+-----------+------------+--------------------+------------+------------+----------+-------------+-----------+--------------------+----------+-------------+----------------------+------------------------+------------+--------------------+--------------------+--------------------+--------------------+----------------------+---------------------------+--------------------+--------------------+--------+--------------------+--------------------+-------------+--------------+-------------+--------------+--------+---------+--------------------+----------------+-------------------+---------+-------------+--------------------+--------+--------------------+----------+--------+---------+\n",
      "|      id|accommodation_type|brands|checkin_checkout_times|currency|       deep_link_url|         description|          facilities|is_work_friendly|            location|                name|number_of_rooms|             payment|              photos|            policies|price_category|programmes|              rating|               rooms|    spoken_languages|              themes|                 url|       property_name|number_of_review|star_rating|review_score|review_score_general|is_preferred|checkin_from|checkin_to|checkout_from|checkout_to|       property_slug|updated_at|property_type|property_type_category|property_type_categories|   room_type|       themes_id_map|         amenity_ids|      amenity_id_map|           amenities|new_amenity_categories|flat_new_amenity_categories|  amenity_categories|              policy|min_stay|              images|       feature_image|bedroom_count|bathroom_count|max_occupancy|room_size_sqft|bedrooms|occupancy|   feed_provider_url|  license_number|          languages|published|review_scores|      property_flags|brand_id|     chain_and_brand|commission|products|meal_plan|\n",
      "+--------+------------------+------+----------------------+--------+--------------------+--------------------+--------------------+----------------+--------------------+--------------------+---------------+--------------------+--------------------+--------------------+--------------+----------+--------------------+--------------------+--------------------+--------------------+--------------------+--------------------+----------------+-----------+------------+--------------------+------------+------------+----------+-------------+-----------+--------------------+----------+-------------+----------------------+------------------------+------------+--------------------+--------------------+--------------------+--------------------+----------------------+---------------------------+--------------------+--------------------+--------+--------------------+--------------------+-------------+--------------+-------------+--------------+--------+---------+--------------------+----------------+-------------------+---------+-------------+--------------------+--------+--------------------+----------+--------+---------+\n",
      "| 3671593|               213|[3292]|  {16:00:00, 21:00:...|     EUR|booking://hotel/3...|{{Check your Belv...|[{[], 2}, {[], 4}...|           false|{{NULL, NULL, NUL...|{Belvilla by OYO ...|              1|{false, true, {[1...|[{true, {https://...|{[], NULL, NULL, ...|             $|   {false}|{2, false, 3.5, 4...|[{[non_smoking], ...| [de, en-gb, fr, nl]|[Accommodations, ...|https://www.booki...|Belvilla by OYO C...|               2|          4|         3.5|                1.75|       false|    16:00:00|  21:00:00|     09:00:00|   10:00:00|belvilla-by-oyo-c...|2025-02-18|       Villas|                 Villa|                    NULL|        NULL|{1 -> Apartments,...|[2, 4, 7, 9, 12, ...|{2 -> Parking, 3 ...|[Parking, Pet fri...|  [[View, Sports/ac...|       [View, Sports/act...|[View, Sports/act...|{Check your Belvi...|       1|[https://q-xx.bst...|https://q-xx.bsta...|            3|             5|            6|       2690.98|     [3]|        6|https://www.booki...|22000/2018/17484|[en-us, fr, es, de]|     true|         NULL|{true, true, true...|    NULL|{NULL, NULL, NULL...|      NULL|    NULL|     NULL|\n",
      "|13469972|               201|    []|  {14:00:00, 21:00:...|     BGN|booking://hotel/1...|{{In dieser Unter...|[{[], 2}, {[], 4}...|           false|{{zh.k. Meden rud...|{Apartment Bela, ...|              1|{false, true, {[]...|[{true, {https://...|{[], NULL, NULL, ...|              |   {false}|{0, false, NULL, ...|[{[non_smoking], ...|                [bg]|                  []|https://www.booki...|      Apartment Bela|               0|          0|         0.0|                0.00|       false|    14:00:00|  21:00:00|     10:00:00|   12:00:00|      apartment-bela|2025-02-18|   Apartments|             Apartment|                    NULL|Shared space|{1 -> Apartments,...|[2, 4, 46, 47, 96...|{2 -> Parking, 3 ...|[Parking, Pet fri...|  [[Pet Friendly], ...|       [Pet Friendly, Pa...|[Pet Friendly, Pa...|{This property do...|       1|[https://q-xx.bst...|https://q-xx.bsta...|            3|             1|            6|        796.53|     [3]|        6|https://www.booki...|   БУ-0ШР-8ЮЩ-А0|[en-us, fr, es, de]|     true|         NULL|{false, false, fa...|    NULL|{NULL, NULL, NULL...|      NULL|    NULL|     NULL|\n",
      "| 3825887|               201|    []|  {14:00:00, 18:00:...|     NAD|booking://hotel/3...|{{In dieser Unter...|[{[], 2}, {[], 15...|           false|{{Anton Lubowski ...|{Vista Mare, Vist...|              1|{false, false, {[...|[{true, {https://...|{[], NULL, NULL, ...|            $$|   {false}|{105, true, 9.2, ...|[{[non_smoking], ...|         [af, en-gb]|[Apartments, Acco...|https://www.booki...|          Vista Mare|             105|          4|         9.2|                4.60|        true|    14:00:00|  18:00:00|     07:00:00|   10:00:00|          vista-mare|2025-02-18|   Apartments|             Apartment|             [Apartment]|        NULL|{1 -> Apartments,...|[2, 15, 16, 19, 4...|{2 -> Parking, 3 ...|[Parking, Terrace...|  [[Sports/activiti...|       [Sports/activitie...|[Sports/activitie...|{This property do...|       1|[https://q-xx.bst...|https://q-xx.bsta...|            2|             2|            4|       1614.59|     [2]|        4|https://www.booki...|                |[en-us, fr, es, de]|     true|         NULL|{true, true, fals...|    NULL|{NULL, NULL, NULL...|      NULL|    NULL|     NULL|\n",
      "| 2948293|               220|[3531]|  {16:00:00, 20:00:...|     EUR|booking://hotel/2...|{{Bitte beachten ...|[{[], 2}, {[], 4}...|           false|{{NULL, NULL, NUL...|{La Querciola, La...|              1|{false, true, {[2...|[{true, {https://...|{[], NULL, 99, 18...|              |   {false}|{0, false, NULL, ...|[{[non_smoking], ...|[da, de, en-gb, e...|[Accommodations, ...|https://www.booki...|        La Querciola|               0|          3|         0.0|                0.00|       false|    16:00:00|  20:00:00|     00:01:00|   10:00:00|        la-querciola|2025-02-18|Holiday homes|                 House|                 [House]|        NULL|{1 -> Apartments,...|[2, 4, 46, 47, 72...|{2 -> Parking, 3 ...|[Parking, Pet fri...|  [[Balcony/terrace...|       [Balcony/terrace,...|[Balcony/terrace,...|{Please note that...|       1|[https://q-xx.bst...|https://q-xx.bsta...|            3|             1|            6|       1291.67|     [3]|        6|https://www.booki...|                |[en-us, fr, es, de]|     true|         NULL|{true, false, fal...|    NULL|{NULL, NULL, NULL...|      NULL|    NULL|     NULL|\n",
      "|11017652|               201|    []|  {17:00:00, 23:00:...|     EUR|booking://hotel/1...|{{In dieser Unter...|[{[], 16}, {[], 4...|           false|{{2 Rue François ...|{Evasion romantiq...|              1|{false, true, {[]...|[{true, {https://...|{[], {350.0, EUR,...|              |   {false}|{29, true, 7.5, 3...|[{[non_smoking], ...|[en-gb, es, fr, p...|[Apartments, Budg...|https://www.booki...|Evasion romantiqu...|              29|          3|         7.5|                3.75|        true|    17:00:00|  23:00:00|         NULL|   12:00:00|evasion-romantiqu...|2025-02-18|   Apartments|             Apartment|             [Apartment]|        NULL|{1 -> Apartments,...|[16, 47, 63, 80, ...|{2 -> Parking, 3 ...|[Non-smoking room...|  [[Fireplace/Heati...|       [Fireplace/Heatin...|[Fireplace/Heatin...|{This property do...|       1|[https://q-xx.bst...|https://q-xx.bsta...|            1|             1|            2|        322.92|     [1]|        2|https://www.booki...|                |[en-us, fr, es, de]|     true|         NULL|{true, false, fal...|    NULL|{NULL, NULL, NULL...|      NULL|    NULL|     NULL|\n",
      "+--------+------------------+------+----------------------+--------+--------------------+--------------------+--------------------+----------------+--------------------+--------------------+---------------+--------------------+--------------------+--------------------+--------------+----------+--------------------+--------------------+--------------------+--------------------+--------------------+--------------------+----------------+-----------+------------+--------------------+------------+------------+----------+-------------+-----------+--------------------+----------+-------------+----------------------+------------------------+------------+--------------------+--------------------+--------------------+--------------------+----------------------+---------------------------+--------------------+--------------------+--------+--------------------+--------------------+-------------+--------------+-------------+--------------+--------+---------+--------------------+----------------+-------------------+---------+-------------+--------------------+--------+--------------------+----------+--------+---------+\n",
      "only showing top 5 rows\n",
      "\n"
     ]
    },
    {
     "name": "stderr",
     "output_type": "stream",
     "text": [
      "                                                                                \r"
     ]
    }
   ],
   "source": [
    "# before_df_commission_meal.show(5)"
   ]
  },
  {
   "cell_type": "code",
   "execution_count": null,
   "metadata": {},
   "outputs": [
    {
     "name": "stderr",
     "output_type": "stream",
     "text": [
      "25/02/18 16:57:43 WARN DAGScheduler: Broadcasting large task binary with size 1961.3 KiB\n",
      "25/02/18 16:58:05 WARN DAGScheduler: Broadcasting large task binary with size 2.1 MiB\n",
      "[Stage 255:>                                                        (0 + 1) / 1]\r"
     ]
    },
    {
     "name": "stdout",
     "output_type": "stream",
     "text": [
      "+--------+------------------+------+----------------------+--------+--------------------+--------------------+--------------------+----------------+--------------------+--------------------+---------------+--------------------+--------------------+--------------------+--------------+----------+--------------------+--------------------+--------------------+--------------------+--------------------+--------------------+----------------+-----------+------------+--------------------+------------+------------+----------+-------------+-----------+--------------------+----------+-------------+----------------------+------------------------+------------+--------------------+--------------------+--------------------+--------------------+----------------------+---------------------------+--------------------+--------------------+--------+--------------------+--------------------+-------------+--------------+-------------+--------------+--------+---------+--------------------+----------------+-------------------+---------+-------------+--------------------+--------+--------------------+----------+--------+---------+\n",
      "|      id|accommodation_type|brands|checkin_checkout_times|currency|       deep_link_url|         description|          facilities|is_work_friendly|            location|                name|number_of_rooms|             payment|              photos|            policies|price_category|programmes|              rating|               rooms|    spoken_languages|              themes|                 url|       property_name|number_of_review|star_rating|review_score|review_score_general|is_preferred|checkin_from|checkin_to|checkout_from|checkout_to|       property_slug|updated_at|property_type|property_type_category|property_type_categories|   room_type|       themes_id_map|         amenity_ids|      amenity_id_map|           amenities|new_amenity_categories|flat_new_amenity_categories|  amenity_categories|              policy|min_stay|              images|       feature_image|bedroom_count|bathroom_count|max_occupancy|room_size_sqft|bedrooms|occupancy|   feed_provider_url|  license_number|          languages|published|review_scores|      property_flags|brand_id|     chain_and_brand|commission|products|meal_plan|\n",
      "+--------+------------------+------+----------------------+--------+--------------------+--------------------+--------------------+----------------+--------------------+--------------------+---------------+--------------------+--------------------+--------------------+--------------+----------+--------------------+--------------------+--------------------+--------------------+--------------------+--------------------+----------------+-----------+------------+--------------------+------------+------------+----------+-------------+-----------+--------------------+----------+-------------+----------------------+------------------------+------------+--------------------+--------------------+--------------------+--------------------+----------------------+---------------------------+--------------------+--------------------+--------+--------------------+--------------------+-------------+--------------+-------------+--------------+--------+---------+--------------------+----------------+-------------------+---------+-------------+--------------------+--------+--------------------+----------+--------+---------+\n",
      "| 3671593|               213|[3292]|  {16:00:00, 21:00:...|     EUR|booking://hotel/3...|{{Check your Belv...|[{[], 2}, {[], 4}...|           false|{{NULL, NULL, NUL...|{Belvilla by OYO ...|              1|{false, true, {[1...|[{true, {https://...|{[], NULL, NULL, ...|             $|   {false}|{2, false, 3.5, 4...|[{[non_smoking], ...| [de, en-gb, fr, nl]|[Accommodations, ...|https://www.booki...|Belvilla by OYO C...|               2|          4|         3.5|                1.75|       false|    16:00:00|  21:00:00|     09:00:00|   10:00:00|belvilla-by-oyo-c...|2025-02-18|       Villas|                 Villa|                    NULL|        NULL|{1 -> Apartments,...|[2, 4, 7, 9, 12, ...|{2 -> Parking, 3 ...|[Parking, Pet fri...|  [[View, Sports/ac...|       [View, Sports/act...|[View, Sports/act...|{Check your Belvi...|       1|[https://q-xx.bst...|https://q-xx.bsta...|            3|             5|            6|       2690.98|     [3]|        6|https://www.booki...|22000/2018/17484|[en-us, fr, es, de]|     true|         NULL|{true, true, true...|    NULL|{NULL, NULL, NULL...|      NULL|    NULL|     NULL|\n",
      "|13469972|               201|    []|  {14:00:00, 21:00:...|     BGN|booking://hotel/1...|{{In dieser Unter...|[{[], 2}, {[], 4}...|           false|{{zh.k. Meden rud...|{Apartment Bela, ...|              1|{false, true, {[]...|[{true, {https://...|{[], NULL, NULL, ...|              |   {false}|{0, false, NULL, ...|[{[non_smoking], ...|                [bg]|                  []|https://www.booki...|      Apartment Bela|               0|          0|         0.0|                0.00|       false|    14:00:00|  21:00:00|     10:00:00|   12:00:00|      apartment-bela|2025-02-18|   Apartments|             Apartment|                    NULL|Shared space|{1 -> Apartments,...|[2, 4, 46, 47, 96...|{2 -> Parking, 3 ...|[Parking, Pet fri...|  [[Pet Friendly], ...|       [Pet Friendly, Pa...|[Pet Friendly, Pa...|{This property do...|       1|[https://q-xx.bst...|https://q-xx.bsta...|            3|             1|            6|        796.53|     [3]|        6|https://www.booki...|   БУ-0ШР-8ЮЩ-А0|[en-us, fr, es, de]|     true|         NULL|{false, false, fa...|    NULL|{NULL, NULL, NULL...|      NULL|    NULL|     NULL|\n",
      "| 3825887|               201|    []|  {14:00:00, 18:00:...|     NAD|booking://hotel/3...|{{In dieser Unter...|[{[], 2}, {[], 15...|           false|{{Anton Lubowski ...|{Vista Mare, Vist...|              1|{false, false, {[...|[{true, {https://...|{[], NULL, NULL, ...|            $$|   {false}|{105, true, 9.2, ...|[{[non_smoking], ...|         [af, en-gb]|[Apartments, Acco...|https://www.booki...|          Vista Mare|             105|          4|         9.2|                4.60|        true|    14:00:00|  18:00:00|     07:00:00|   10:00:00|          vista-mare|2025-02-18|   Apartments|             Apartment|             [Apartment]|        NULL|{1 -> Apartments,...|[2, 15, 16, 19, 4...|{2 -> Parking, 3 ...|[Parking, Terrace...|  [[Sports/activiti...|       [Sports/activitie...|[Sports/activitie...|{This property do...|       1|[https://q-xx.bst...|https://q-xx.bsta...|            2|             2|            4|       1614.59|     [2]|        4|https://www.booki...|                |[en-us, fr, es, de]|     true|         NULL|{true, true, fals...|    NULL|{NULL, NULL, NULL...|      NULL|    NULL|     NULL|\n",
      "| 2948293|               220|[3531]|  {16:00:00, 20:00:...|     EUR|booking://hotel/2...|{{Bitte beachten ...|[{[], 2}, {[], 4}...|           false|{{NULL, NULL, NUL...|{La Querciola, La...|              1|{false, true, {[2...|[{true, {https://...|{[], NULL, 99, 18...|              |   {false}|{0, false, NULL, ...|[{[non_smoking], ...|[da, de, en-gb, e...|[Accommodations, ...|https://www.booki...|        La Querciola|               0|          3|         0.0|                0.00|       false|    16:00:00|  20:00:00|     00:01:00|   10:00:00|        la-querciola|2025-02-18|Holiday homes|                 House|                 [House]|        NULL|{1 -> Apartments,...|[2, 4, 46, 47, 72...|{2 -> Parking, 3 ...|[Parking, Pet fri...|  [[Balcony/terrace...|       [Balcony/terrace,...|[Balcony/terrace,...|{Please note that...|       1|[https://q-xx.bst...|https://q-xx.bsta...|            3|             1|            6|       1291.67|     [3]|        6|https://www.booki...|                |[en-us, fr, es, de]|     true|         NULL|{true, false, fal...|    NULL|{NULL, NULL, NULL...|      NULL|    NULL|     NULL|\n",
      "|11017652|               201|    []|  {17:00:00, 23:00:...|     EUR|booking://hotel/1...|{{In dieser Unter...|[{[], 16}, {[], 4...|           false|{{2 Rue François ...|{Evasion romantiq...|              1|{false, true, {[]...|[{true, {https://...|{[], {350.0, EUR,...|              |   {false}|{29, true, 7.5, 3...|[{[non_smoking], ...|[en-gb, es, fr, p...|[Apartments, Budg...|https://www.booki...|Evasion romantiqu...|              29|          3|         7.5|                3.75|        true|    17:00:00|  23:00:00|         NULL|   12:00:00|evasion-romantiqu...|2025-02-18|   Apartments|             Apartment|             [Apartment]|        NULL|{1 -> Apartments,...|[16, 47, 63, 80, ...|{2 -> Parking, 3 ...|[Non-smoking room...|  [[Fireplace/Heati...|       [Fireplace/Heatin...|[Fireplace/Heatin...|{This property do...|       1|[https://q-xx.bst...|https://q-xx.bsta...|            1|             1|            2|        322.92|     [1]|        2|https://www.booki...|                |[en-us, fr, es, de]|     true|         NULL|{true, false, fal...|    NULL|{NULL, NULL, NULL...|      NULL|    NULL|     NULL|\n",
      "+--------+------------------+------+----------------------+--------+--------------------+--------------------+--------------------+----------------+--------------------+--------------------+---------------+--------------------+--------------------+--------------------+--------------+----------+--------------------+--------------------+--------------------+--------------------+--------------------+--------------------+----------------+-----------+------------+--------------------+------------+------------+----------+-------------+-----------+--------------------+----------+-------------+----------------------+------------------------+------------+--------------------+--------------------+--------------------+--------------------+----------------------+---------------------------+--------------------+--------------------+--------+--------------------+--------------------+-------------+--------------+-------------+--------------+--------+---------+--------------------+----------------+-------------------+---------+-------------+--------------------+--------+--------------------+----------+--------+---------+\n",
      "only showing top 5 rows\n",
      "\n"
     ]
    },
    {
     "name": "stderr",
     "output_type": "stream",
     "text": [
      "                                                                                \r"
     ]
    }
   ],
   "source": [
    "# after_df_commission_meal.show(5)"
   ]
  },
  {
   "cell_type": "code",
   "execution_count": null,
   "metadata": {},
   "outputs": [],
   "source": [
    "df_processed=before_df_commission_meal"
   ]
  },
  {
   "cell_type": "markdown",
   "metadata": {},
   "source": [
    "# "
   ]
  }
 ],
 "metadata": {
  "kernelspec": {
   "display_name": "env",
   "language": "python",
   "name": "python3"
  },
  "language_info": {
   "codemirror_mode": {
    "name": "ipython",
    "version": 3
   },
   "file_extension": ".py",
   "mimetype": "text/x-python",
   "name": "python",
   "nbconvert_exporter": "python",
   "pygments_lexer": "ipython3",
   "version": "3.12.3"
  }
 },
 "nbformat": 4,
 "nbformat_minor": 2
}
