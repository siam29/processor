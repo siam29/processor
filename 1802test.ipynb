{
 "cells": [
  {
   "cell_type": "markdown",
   "metadata": {},
   "source": [
    "# processor.py"
   ]
  },
  {
   "cell_type": "code",
   "execution_count": 1,
   "metadata": {},
   "outputs": [],
   "source": [
    "from asyncio.log import logger\n",
    "import os, ast\n",
    "from config import Config\n",
    "from datetime import datetime, timezone\n",
    "import logging\n",
    "import boto3\n",
    "from pyspark.sql import SparkSession\n",
    "from path import *\n",
    "from sub_processor1802 import SubProcessor\n",
    "from iceberg_catalog import IcebergCatalog\n",
    "from broadcast import BroadCast\n",
    "from udf import load_broadcast\n",
    "import asyncio\n",
    "\n",
    "import gc\n",
    "\n",
    "# Config\n",
    "AWS_PROFILE = Config.AWS_PROFILE\n",
    "\n",
    "FILE_NAME = f\"processor_execution_logs_{CURRENT_DATE}.log\"\n",
    "LOG_DIR = os.path.join(\"logs\", CURRENT_DATE)\n",
    "os.makedirs(LOG_DIR, exist_ok=True)\n",
    "LOG_FILE = os.path.join(LOG_DIR, FILE_NAME)\n",
    "\n",
    "logging.basicConfig(\n",
    "    level=logging.INFO,\n",
    "    format=\"%(asctime)s - %(levelname)s - %(message)s\",\n",
    "    handlers=[logging.FileHandler(LOG_FILE), logging.StreamHandler()],\n",
    ")\n",
    "\n",
    "class Processor:\n",
    "    def __init__(self):\n",
    "\n",
    "        self.broadcast = BroadCast()\n",
    "        self.sub_processor = SubProcessor(self.broadcast)\n",
    "        self.iceberg_catalog = IcebergCatalog()\n",
    "\n",
    "\n",
    "        # Prepare Session\n",
    "        if DEBUG:\n",
    "            self.spark_session = (\n",
    "                SparkSession.builder.appName(\"Details Data Process\")\n",
    "                .master(\"local[*]\")\n",
    "                .config(\"spark.executor.memory\", \"3g\")\n",
    "                #.config(\"spark.memory.fraction\", \"0.7\")\n",
    "                .config(\"spark.driver.memory\", \"4g\")\n",
    "                #.config(\"spark.executor.cores\", \"2\")\n",
    "                # .config(\"spark.driver.cores\", \"1\")\n",
    "                # .config(\"spark.executor.instances\", \"1\")\n",
    "                # .config(\"spark.memory.offHeap.enabled\", \"true\")\n",
    "                # .config(\"spark.memory.offHeap.size\", \"2g\")\n",
    "                .config(\n",
    "                    \"spark.jars.packages\",\n",
    "                    \"org.apache.iceberg:iceberg-spark-runtime-3.5_2.12:1.5.2,\"\n",
    "                )\n",
    "                .config(\n",
    "                    \"spark.sql.extensions\",\n",
    "                    \"org.apache.iceberg.spark.extensions.IcebergSparkSessionExtensions\",\n",
    "                )\n",
    "                .config(\"spark.sql.catalog.local\", \"org.apache.iceberg.spark.SparkCatalog\")\n",
    "                .config(\"spark.sql.catalog.local.type\", \"hadoop\")\n",
    "                .config(\"spark.sql.catalog.local.warehouse\", CURATED_ZONE)\n",
    "                # .config(\"spark.executor.memoryOverhead\", \"1g\")\n",
    "                # .config(\"spark.driver.memoryOverhead\", \"1g\")\n",
    "                # .config(\"spark.driver.cores\", \"1\")\n",
    "                .getOrCreate()\n",
    "            )\n",
    "\n",
    "        else:\n",
    "            # Get AWS Profile Credentials\n",
    "            self.boto3_session = boto3.Session(profile_name=AWS_PROFILE)\n",
    "            self.credentials = self.boto3_session.get_credentials()\n",
    "            self.aws_access_key_id = self.credentials.access_key\n",
    "            self.aws_secret_access_key = self.credentials.secret_key\n",
    "            self.aws_session_token = self.credentials.token\n",
    "\n",
    "            self.spark_session = (\n",
    "                SparkSession.builder.appName(\"Details Data Process\")\n",
    "                .config(\n",
    "                    \"spark.jars.packages\",\n",
    "                    \"org.apache.iceberg:iceberg-spark-runtime-3.5_2.12:1.5.2,\"\n",
    "                    \"org.apache.hadoop:hadoop-aws:2.10.1,\"\n",
    "                    \"com.amazonaws:aws-java-sdk-bundle:1.11.1026\",\n",
    "                )\n",
    "                .config(\n",
    "                    \"spark.sql.extensions\",\n",
    "                    \"org.apache.iceberg.spark.extensions.IcebergSparkSessionExtensions\",\n",
    "                )\n",
    "                .config(\"spark.sql.catalog.local\", \"org.apache.iceberg.spark.SparkCatalog\")\n",
    "                .config(\"spark.sql.catalog.local.type\", \"hadoop\")\n",
    "                .config(\"spark.sql.catalog.local.warehouse\", CURATED_ZONE)\n",
    "                .config(\n",
    "                    \"spark.sql.catalog.local.hadoop.fs.s3a.access.key\",\n",
    "                    self.aws_access_key_id,\n",
    "                )\n",
    "                .config(\n",
    "                    \"spark.sql.catalog.local.hadoop.fs.s3a.secret.key\",\n",
    "                    self.aws_secret_access_key,\n",
    "                )\n",
    "                .config(\n",
    "                    \"spark.sql.catalog.local.hadoop.fs.s3a.session.token\",\n",
    "                    self.aws_session_token,\n",
    "                )\n",
    "                .config(\n",
    "                    \"spark.hadoop.fs.s3a.impl\", \"org.apache.hadoop.fs.s3a.S3AFileSystem\"\n",
    "                )\n",
    "                .config(\"spark.hadoop.fs.s3a.endpoint\", \"s3.us-east-2.amazonaws.com\")\n",
    "                .config(\n",
    "                    \"spark.hadoop.fs.s3a.aws.credentials.provider\",\n",
    "                    \"com.amazonaws.auth.DefaultAWSCredentialsProviderChain\",\n",
    "                )\n",
    "                .config(\"spark.executor.memory\", \"7g\")\n",
    "                .config(\"spark.executor.memoryOverhead\", \"1g\")\n",
    "                .config(\"spark.driver.memory\", \"6g\")\n",
    "                .config(\"spark.driver.memoryOverhead\", \"1g\")\n",
    "                .config(\"spark.executor.cores\", \"3\")\n",
    "                .config(\"spark.driver.cores\", \"1\")\n",
    "                .config(\"spark.executor.instances\", \"8\")\n",
    "                .getOrCreate()\n",
    "            )\n",
    "    def preprocess_reviews_data(self,\n",
    "            df_details,\n",
    "            df_reviews_scores,\n",
    "            df_chain_and_brand,\n",
    "            df_search,\n",
    "            ):\n",
    "        df_processed = df_details\n",
    "        logging.info(\"======== Before Review data process start ========\")\n",
    "        before_df_processed = self.sub_processor.process_review_scores_data(\n",
    "            df_processed=df_processed, review_score_df=df_reviews_scores\n",
    "        )\n",
    "        logging.info(\"======== Before Review data process ended ========\")\n",
    "\n",
    "        logging.info(\"======== After Review data process start ========\")\n",
    "        after_df_processed = self.sub_processor.after_process_review_scores_data(\n",
    "            df_processed=df_processed, review_score_df=df_reviews_scores\n",
    "        )\n",
    "        logging.info(\"======== After Review data process ended ========\")\n",
    "\n",
    "        return before_df_processed,after_df_processed\n",
    "    def preprocess_property_flags_data(self,\n",
    "            df_details,\n",
    "            df_reviews_scores,\n",
    "            df_chain_and_brand,\n",
    "            df_search,):\n",
    "        df_processed = df_details\n",
    "        logging.info(\"======== Before Property Flags data process Started ========\")\n",
    "        befor_df_processed = self.sub_processor.process_property_flags_data(df_processed=df_processed)\n",
    "        logging.info(\"======== Before Property Flags data process ended ========\")\n",
    "\n",
    "        logging.info(\"======== After Property Flags data process Started ========\")\n",
    "        after_df_processed = self.sub_processor.after_process_property_flags_data(df_processed=df_processed)\n",
    "        logging.info(\"======== After Property Flags data process ended ========\")\n",
    "\n",
    "        return befor_df_processed,after_df_processed\n",
    "    def preprocess_basic_dataprocess_chain_and_brand_data(self,\n",
    "            df_details,\n",
    "            df_reviews_scores,\n",
    "            df_chain_and_brand,\n",
    "            df_search,):\n",
    "        df_processed = df_details\n",
    "        logging.info(\"======== Before Chain and Brand data process Started ========\")\n",
    "        before_df_processed = self.sub_processor.process_chain_and_brand_data(\n",
    "            df_processed=df_processed, df_chain_and_brand=df_chain_and_brand\n",
    "        )\n",
    "        logging.info(\"======== Before Chain and Brand data process Ended ========\")\n",
    "        \n",
    "        logging.info(\"======== After Chain and Brand data process Started ========\")\n",
    "        after_df_processed = self.sub_processor.after_process_chain_and_brand_data(\n",
    "            df_processed=df_processed, df_chain_and_brand=df_chain_and_brand\n",
    "        )\n",
    "        logging.info(\"======== After Chain and Brand data process Ended ========\") \n",
    "        return before_df_processed,after_df_processed \n",
    "    \n",
    "    def preprocess_commission_and_meal_plan_data(self,\n",
    "            df_details,\n",
    "            df_reviews_scores,\n",
    "            df_chain_and_brand,\n",
    "            df_search,):\n",
    "        df_processed = df_details\n",
    "        logging.info(\"======== Before Commission and meal plan data process Started ========\")\n",
    "        before_df_processed = self.sub_processor.process_commission_and_meal_plan_data(df_processed=df_processed, df_search=df_search)\n",
    "        logging.info(\"======== After Commission and meal plan data process Ended ========\")\n",
    "        \n",
    "        logging.info(\"======== After Commission and meal plan data process Started ========\")\n",
    "        after_df_processed = self.sub_processor.after_process_commission_and_meal_plan_data(df_processed=df_processed, df_search=df_search)\n",
    "        logging.info(\"======== After Commission and meal plan data process Ended ========\")\n",
    "        return before_df_processed,after_df_processed \n",
    "        \n",
    "    def process_details_data(\n",
    "            self,\n",
    "            df_details,\n",
    "            df_reviews_scores,\n",
    "            df_chain_and_brand,\n",
    "            df_search,\n",
    "    ):\n",
    "        df_processed = df_details\n",
    "\n",
    "        # Process Basic Data\n",
    "        # logging.info(\"======== Basic data process started ========\")\n",
    "        # df_processed = self.sub_processor.process_basic_data(df_processed=df_processed, spark_session=self.spark_session)\n",
    "        # logging.info(\"=======: df_processed : =====\")\n",
    "        # df_processed.show(5)\n",
    "        logging.info(\"======== Basic data process ended ========\")\n",
    "\n",
    "        logging.info(\"======== Basic data process Started ========\")\n",
    "        df_processed = self.sub_processor.process_review_scores_data(\n",
    "            df_processed=df_processed, review_score_df=df_reviews_scores\n",
    "        )\n",
    "        logging.info(\"======== Review data process ended ========\")\n",
    "\n",
    "        logging.info(\"======== Property Flags data process Started ========\")\n",
    "        df_processed = self.sub_processor.process_property_flags_data(df_processed=df_processed)\n",
    "        logging.info(\"======== Property Flags data process ended ========\")\n",
    "\n",
    "        logging.info(\"======== Chain and Brand data process Started ========\")\n",
    "        df_processed = self.sub_processor.process_chain_and_brand_data(\n",
    "            df_processed=df_processed, df_chain_and_brand=df_chain_and_brand\n",
    "        )\n",
    "        logging.info(\"======== Chain and Brand data process Ended ========\")\n",
    "\n",
    "        # df_processed = self.sub_processor.process_property_flags_data(df_processed=df_processed)\n",
    "\n",
    "        logging.info(\"======== Commission and meal plan data process Started ========\")\n",
    "        df_processed = self.sub_processor.process_commission_and_meal_plan_data(df_processed=df_processed, df_search=df_search)\n",
    "        logging.info(\"======== Commission and meal plan data process Ended ========\")\n",
    "\n",
    "        logging.info(\"======== USD price and price history data process Started ========\")\n",
    "        df_processed, df_price_history = self.sub_processor.process_usd_price_and_price_history(df_processed=df_processed, df_search=df_search, spark_session=self.spark_session)\n",
    "        logging.info(\"======== USD price and price history data process Ended ========\")\n",
    "\n",
    "        return df_processed, df_price_history\n",
    "\n",
    "    def process_details_localize_data(self, df_processed):\n",
    "        df_processed = self.sub_processor.process_localize_data(df_processed=df_processed, spark_session=self.spark_session)\n",
    "        return df_processed\n",
    "    \n",
    "    def read_df_details(self):\n",
    "        # # Load Details Data\n",
    "        logging.info(\"Loading Details Data =======\")\n",
    "        df_details = self.spark_session.read.format(\"json\").option(\"multiline\", \"true\").load(DETAILS_DATA_DIR).limit(50)\n",
    "        logging.info(\"Details Data Loaded =======\")\n",
    "        return df_details\n",
    "    \n",
    "    def read_df_reviews_scores(self):\n",
    "        logging.info(\"Loading Reviews Scores Data =======\")\n",
    "        df_reviews_scores = self.spark_session.read.format(\"json\").option(\"multiline\", \"true\").load(REVIEW_SCORES_DIR).limit(50)\n",
    "        logging.info(\"Reviews Scores Data Loaded =======\")\n",
    "        return df_reviews_scores\n",
    "\n",
    "                \n",
    "    def read_df_search(self):\n",
    "        logging.info(\"Loading Reviews Scores Data =======\")\n",
    "        df_search = self.spark_session.read.format(\"json\").option(\"multiline\", \"true\").load(ACCOMMODATION_SEARCH_DIR).limit(50)\n",
    "        logging.info(\"Search Data Loaded =======\")\n",
    "        return df_search\n",
    "    \n",
    "    def read_df_chain_and_brand(self):\n",
    "        logging.info(\"Chain and Brand Data Loaded =======\")\n",
    "        df_chain_and_brand = self.spark_session.read.format(\"json\").option(\"multiline\", \"true\").load(CHAIN_AND_BRAND).limit(50)\n",
    "        return df_chain_and_brand\n",
    "    \n",
    "    def read_df_reviews(self):\n",
    "        logging.info(\"Reviews Data Loaded =======\")\n",
    "        df_reviews = self.spark_session.read.format(\"json\").option(\"multiline\", \"true\").load(REVIEW_DIR).limit(50)\n",
    "        return df_reviews\n",
    "    \n",
    "    def read_df_processed(self,df_details):\n",
    "        logging.info(\"Processed Data Loaded =======\")\n",
    "        df_processed, count_df_null_location_id = self.sub_processor.process_location_data_bg(df_details, self.spark_session)\n",
    "        return df_processed,count_df_null_location_id\n",
    "    \n",
    "    def BroadCast(self):\n",
    "        # Load Broadcast Data\n",
    "        logging.info(\"====== Broadcasting Data =======\")\n",
    "        self.broadcast.prepare_broadcasted_data(spark_session=self.spark_session)\n",
    "        load_broadcast(self.broadcast)\n",
    "        logging.info(\"====== Broadcasted Data =======\") \n",
    "\n",
    "    def preprocess_basic_data(self,df_processed,df_reviews_scores,df_chain_and_brand,df_search):\n",
    "        logging.info(\"====== Details Data process started =======\")\n",
    "        df_processed = self.preprocess_details_data(\n",
    "            df_details=df_processed,\n",
    "            df_reviews_scores=df_reviews_scores,\n",
    "            df_chain_and_brand=df_chain_and_brand,\n",
    "            df_search=df_search\n",
    "        )\n",
    "        return df_processed\n",
    "    def first_process(self,df_details):\n",
    "        df_processed = df_details\n",
    "        logging.info(\"======== Basic data process started ========\")\n",
    "        first = self.sub_processor.first_process_basic_data(df_processed=df_processed, spark_session=self.spark_session)\n",
    "        logging.info(\"=======: df_processed : =====\")\n",
    "        return first\n",
    "    def second_process(self,df_details):\n",
    "        df_processed = df_details\n",
    "        logging.info(\"======== Basic data process started ========\")\n",
    "        second = self.sub_processor.second_process_basic_data(df_processed=df_processed, spark_session=self.spark_session)\n",
    "        logging.info(\"=======: df_processed : =====\")\n",
    "        return second\n",
    "    def third_process(self,df_details):\n",
    "        df_processed = df_details\n",
    "        logging.info(\"======== Basic data process started ========\")\n",
    "        third = self.sub_processor.third_process_basic_data(df_processed=df_processed, spark_session=self.spark_session)\n",
    "        logging.info(\"=======: df_processed : =====\")\n",
    "        return third\n",
    "    def fourth_process(self,df_details):\n",
    "        df_processed = df_details\n",
    "        logging.info(\"======== Basic data process started ========\")\n",
    "        four = self.sub_processor.fourth_process_basic_data(df_processed=df_processed, spark_session=self.spark_session)\n",
    "        logging.info(\"=======: df_processed : =====\")\n",
    "        return four\n",
    "    def fifth_process(self,df_details):\n",
    "        df_processed = df_details\n",
    "        logging.info(\"======== Basic data process started ========\")\n",
    "        fifth = self.sub_processor.fifth_process_basic_data(df_processed=df_processed, spark_session=self.spark_session)\n",
    "        logging.info(\"=======: df_processed : =====\")\n",
    "        return fifth\n",
    "    def sixth_process(self,df_details):         \n",
    "        df_processed = df_details\n",
    "        logging.info(\"======== Basic data process started ========\")\n",
    "        sixth = self.sub_processor.sixth_process_basic_data(df_processed=df_processed, spark_session=self.spark_session)\n",
    "        logging.info(\"=======: df_processed : =====\")\n",
    "        return sixth\n",
    "    def seventh_process(self,df_details):\n",
    "        df_processed = df_details\n",
    "        logging.info(\"======== Basic data process started ========\")\n",
    "        seventh = self.sub_processor.seventh_process_basic_data(df_processed=df_processed, spark_session=self.spark_session)\n",
    "        logging.info(\"=======: df_processed : =====\")\n",
    "        return seventh\n",
    "    def eighth_process(self,df_details):\n",
    "        df_processed = df_details\n",
    "        logging.info(\"======== Basic data process started ========\")\n",
    "        eighth = self.sub_processor.eighth_process_basic_data(df_processed=df_processed, spark_session=self.spark_session)\n",
    "        logging.info(\"=======: df_processed : =====\")\n",
    "        return eighth\n",
    "    def ninth_process(self,df_details):\n",
    "        df_processed = df_details\n",
    "        logging.info(\"======== Basic data process started ========\")\n",
    "        ninth = self.sub_processor.ninth_process_basic_data(df_processed=df_processed, spark_session=self.spark_session)\n",
    "        logging.info(\"=======: df_processed : =====\")\n",
    "        return ninth\n",
    "    def tenth_process(self,df_details):\n",
    "        df_processed = df_details\n",
    "        logging.info(\"======== Basic data process started ========\")\n",
    "        tenth = self.sub_processor.tenth_process_basic_data(df_processed=df_processed, spark_session=self.spark_session)        \n",
    "        logging.info(\"=======: df_processed : =====\")\n",
    "        return tenth\n",
    "    def eleventh_process(self,df_details):\n",
    "        df_processed = df_details\n",
    "        logging.info(\"======== Basic data process started ========\")\n",
    "        eleventh = self.sub_processor.eleventh_process_basic_data(df_processed=df_processed, spark_session=self.spark_session)\n",
    "        logging.info(\"=======: df_processed : =====\")\n",
    "        return eleventh\n",
    "    def twelveth_process(self,df_details):\n",
    "        df_processed = df_details\n",
    "        logging.info(\"======== Basic data process started ========\")\n",
    "        twelveth = self.sub_processor.twelveth_process_basic_data(df_processed=df_processed, spark_session=self.spark_session)\n",
    "        logging.info(\"=======: df_processed : =====\")\n",
    "        return twelveth\n",
    "    def thirteenth_process(self,df_details):\n",
    "        df_processed = df_details\n",
    "        logging.info(\"======== Basic data process started ========\")   \n",
    "        thirteenth = self.sub_processor.thirteenth_process_basic_data(df_processed=df_processed, spark_session=self.spark_session)\n",
    "        logging.info(\"=======: df_processed : =====\")\n",
    "        return thirteenth\n",
    "    def fourteenth_process(self,df_details):\n",
    "        df_processed = df_details\n",
    "        logging.info(\"======== Basic data process started ========\")\n",
    "        fourteenth = self.sub_processor.fourteenth_process_basic_data(df_processed=df_processed, spark_session=self.spark_session)\n",
    "        logging.info(\"=======: df_processed : =====\")\n",
    "        return fourteenth\n",
    "    def fifteenth_process(self,df_details):\n",
    "        df_processed = df_details\n",
    "        logging.info(\"======== Basic data process started ========\")\n",
    "        fifteenth = self.sub_processor.fifteenth_process_basic_data(df_processed=df_processed, spark_session=self.spark_session)\n",
    "        logging.info(\"=======: df_processed : =====\")\n",
    "        return fifteenth"
   ]
  },
  {
   "cell_type": "code",
   "execution_count": 2,
   "metadata": {},
   "outputs": [
    {
     "name": "stderr",
     "output_type": "stream",
     "text": [
      "25/02/18 23:39:48 WARN Utils: Your hostname, hp resolves to a loopback address: 127.0.1.1; using 192.168.0.107 instead (on interface enp1s0)\n",
      "25/02/18 23:39:48 WARN Utils: Set SPARK_LOCAL_IP if you need to bind to another address\n"
     ]
    },
    {
     "name": "stdout",
     "output_type": "stream",
     "text": [
      ":: loading settings :: url = jar:file:/home/siam/Downloads/inventroy-cron/env/lib/python3.12/site-packages/pyspark/jars/ivy-2.5.1.jar!/org/apache/ivy/core/settings/ivysettings.xml\n"
     ]
    },
    {
     "name": "stderr",
     "output_type": "stream",
     "text": [
      "Ivy Default Cache set to: /home/siam/.ivy2/cache\n",
      "The jars for the packages stored in: /home/siam/.ivy2/jars\n",
      "org.apache.iceberg#iceberg-spark-runtime-3.5_2.12 added as a dependency\n",
      ":: resolving dependencies :: org.apache.spark#spark-submit-parent-61a7de88-f68f-4131-b84c-48a886b9751c;1.0\n",
      "\tconfs: [default]\n",
      "\tfound org.apache.iceberg#iceberg-spark-runtime-3.5_2.12;1.5.2 in central\n",
      ":: resolution report :: resolve 233ms :: artifacts dl 4ms\n",
      "\t:: modules in use:\n",
      "\torg.apache.iceberg#iceberg-spark-runtime-3.5_2.12;1.5.2 from central in [default]\n",
      "\t---------------------------------------------------------------------\n",
      "\t|                  |            modules            ||   artifacts   |\n",
      "\t|       conf       | number| search|dwnlded|evicted|| number|dwnlded|\n",
      "\t---------------------------------------------------------------------\n",
      "\t|      default     |   1   |   0   |   0   |   0   ||   1   |   0   |\n",
      "\t---------------------------------------------------------------------\n",
      ":: retrieving :: org.apache.spark#spark-submit-parent-61a7de88-f68f-4131-b84c-48a886b9751c\n",
      "\tconfs: [default]\n",
      "\t0 artifacts copied, 1 already retrieved (0kB/6ms)\n",
      "25/02/18 23:39:49 WARN NativeCodeLoader: Unable to load native-hadoop library for your platform... using builtin-java classes where applicable\n",
      "Setting default log level to \"WARN\".\n",
      "To adjust logging level use sc.setLogLevel(newLevel). For SparkR, use setLogLevel(newLevel).\n"
     ]
    }
   ],
   "source": [
    "processor = Processor()"
   ]
  },
  {
   "cell_type": "markdown",
   "metadata": {},
   "source": [
    "# read details data"
   ]
  },
  {
   "cell_type": "code",
   "execution_count": 3,
   "metadata": {},
   "outputs": [
    {
     "name": "stderr",
     "output_type": "stream",
     "text": [
      "2025-02-18 23:39:53,074 - INFO - Loading Details Data =======\n",
      "2025-02-18 23:41:10,979 - INFO - Details Data Loaded =======                    \n"
     ]
    }
   ],
   "source": [
    "df_details=processor.read_df_details()"
   ]
  },
  {
   "cell_type": "code",
   "execution_count": 4,
   "metadata": {},
   "outputs": [
    {
     "name": "stderr",
     "output_type": "stream",
     "text": [
      "                                                                                \r"
     ]
    },
    {
     "name": "stdout",
     "output_type": "stream",
     "text": [
      "+------------------+------+----------------------+--------+--------------------+--------------------+--------------------+--------+----------------+--------------------+--------------------+---------------+--------------------+--------------------+--------------------+--------------+----------+--------------------+--------------------+--------------------+--------------------+--------------------+\n",
      "|accommodation_type|brands|checkin_checkout_times|currency|       deep_link_url|         description|          facilities|      id|is_work_friendly|            location|                name|number_of_rooms|             payment|              photos|            policies|price_category|programmes|              rating|               rooms|    spoken_languages|              themes|                 url|\n",
      "+------------------+------+----------------------+--------+--------------------+--------------------+--------------------+--------+----------------+--------------------+--------------------+---------------+--------------------+--------------------+--------------------+--------------+----------+--------------------+--------------------+--------------------+--------------------+--------------------+\n",
      "|               201|    []|  {15:00:00, NULL, ...|     GEL|booking://hotel/1...|{{In dieser Unter...|[{[], 16}, {[], 2...|13470335|           false|{{22/24 Krtsanisi...|{Brand New 2 Bedr...|              1|{false, false, {[...|[{true, {https://...|{[{{0, 3}, per_ni...|              |   {false}|{0, false, NULL, ...|[{[non_smoking], ...|[en-gb, ka, ru, e...|               [300]|https://www.booki...|\n",
      "|               204|    []|  {14:00:00, 22:00:...|     EUR|booking://hotel/1...|{{Bitte teilen Si...|[{[], 2}, {[], 3}...| 1068597|           false|{{Grza-Donja Mutn...|{Hotel Koliba na ...|             18|{false, false, {[...|[{true, {https://...|{[{{3, 16}, per_n...|              |   {false}|{5, true, 10.0, 1...|[{[non_smoking], ...|         [en-gb, sr]|[8, 16, 45, 57, 6...|https://www.booki...|\n",
      "|               201|[3531]|  {16:00:00, 20:00:...|     EUR|booking://hotel/2...|{{Bitte beachten ...|[{[], 2}, {[], 4}...| 2189984|           false|{{NULL, NULL, NUL...|{1 Bedroom Cozy A...|              1|{false, true, {[2...|[{true, {https://...|{[], {150.0, EUR,...|              |   {false}|{4, false, 8.0, 3...|[{[non_smoking], ...|[da, de, en-gb, e...|[1, 7, 8, 16, 45,...|https://www.booki...|\n",
      "|               220|[3531]|  {16:00:00, 20:00:...|     EUR|booking://hotel/3...|{{Bitte beachten ...|[{[], 2}, {[], 19...| 3700952|           false|{{NULL, NULL, NUL...|{Casa Nonna Dora,...|              1|{false, true, {[2...|[{true, {https://...|{[], NULL, 99, 18...|              |   {false}|{2, false, 10.0, ...|[{[non_smoking], ...|[da, de, en-gb, e...|[7, 8, 9, 16, 20,...|https://www.booki...|\n",
      "|               201|    []|  {15:00:00, 18:00:...|     EUR|booking://hotel/8...|{{In dieser Unter...|[{[], 3}, {[], 17...| 8354551|           false|{{62, flat 3 the ...|{One beautiful be...|              1|{false, true, {[]...|[{true, {https://...|{[], NULL, NULL, ...|              |   {false}|{39, false, 8.4, ...|[{[non_smoking], ...|         [en-gb, it]|[1, 7, 8, 45, 69,...|https://www.booki...|\n",
      "+------------------+------+----------------------+--------+--------------------+--------------------+--------------------+--------+----------------+--------------------+--------------------+---------------+--------------------+--------------------+--------------------+--------------+----------+--------------------+--------------------+--------------------+--------------------+--------------------+\n",
      "only showing top 5 rows\n",
      "\n"
     ]
    }
   ],
   "source": [
    "df_details.show(5)"
   ]
  },
  {
   "cell_type": "markdown",
   "metadata": {},
   "source": [
    "# read reviews score data"
   ]
  },
  {
   "cell_type": "code",
   "execution_count": 5,
   "metadata": {},
   "outputs": [
    {
     "name": "stderr",
     "output_type": "stream",
     "text": [
      "2025-02-18 23:41:14,672 - INFO - Loading Reviews Scores Data =======\n",
      "2025-02-18 23:42:00,986 - INFO - Reviews Scores Data Loaded =======             \n"
     ]
    }
   ],
   "source": [
    "df_reviews_scores=processor.read_df_reviews_scores()"
   ]
  },
  {
   "cell_type": "code",
   "execution_count": 6,
   "metadata": {},
   "outputs": [
    {
     "name": "stderr",
     "output_type": "stream",
     "text": [
      "                                                                                \r"
     ]
    },
    {
     "data": {
      "text/plain": [
       "50"
      ]
     },
     "execution_count": 6,
     "metadata": {},
     "output_type": "execute_result"
    }
   ],
   "source": [
    "df_reviews_scores.count()"
   ]
  },
  {
   "cell_type": "markdown",
   "metadata": {},
   "source": [
    "# read search data"
   ]
  },
  {
   "cell_type": "code",
   "execution_count": 7,
   "metadata": {},
   "outputs": [
    {
     "name": "stderr",
     "output_type": "stream",
     "text": [
      "2025-02-18 23:42:03,722 - INFO - Loading Reviews Scores Data =======\n",
      "2025-02-18 23:42:55,338 - INFO - Search Data Loaded =======                     \n"
     ]
    }
   ],
   "source": [
    "df_search=processor.read_df_search()"
   ]
  },
  {
   "cell_type": "code",
   "execution_count": 8,
   "metadata": {},
   "outputs": [
    {
     "name": "stderr",
     "output_type": "stream",
     "text": [
      "                                                                                \r"
     ]
    },
    {
     "data": {
      "text/plain": [
       "50"
      ]
     },
     "execution_count": 8,
     "metadata": {},
     "output_type": "execute_result"
    }
   ],
   "source": [
    "df_search.count()"
   ]
  },
  {
   "cell_type": "markdown",
   "metadata": {},
   "source": [
    "# read chain and brand data"
   ]
  },
  {
   "cell_type": "code",
   "execution_count": 9,
   "metadata": {},
   "outputs": [
    {
     "name": "stderr",
     "output_type": "stream",
     "text": [
      "2025-02-18 23:42:56,976 - INFO - Chain and Brand Data Loaded =======\n"
     ]
    }
   ],
   "source": [
    "df_chain_and_brand=processor.read_df_chain_and_brand()"
   ]
  },
  {
   "cell_type": "code",
   "execution_count": 10,
   "metadata": {},
   "outputs": [
    {
     "data": {
      "text/plain": [
       "50"
      ]
     },
     "execution_count": 10,
     "metadata": {},
     "output_type": "execute_result"
    }
   ],
   "source": [
    "df_chain_and_brand.count()"
   ]
  },
  {
   "cell_type": "markdown",
   "metadata": {},
   "source": [
    "# read reviews data"
   ]
  },
  {
   "cell_type": "code",
   "execution_count": 11,
   "metadata": {},
   "outputs": [
    {
     "name": "stderr",
     "output_type": "stream",
     "text": [
      "2025-02-18 23:42:57,342 - INFO - Reviews Data Loaded =======\n"
     ]
    },
    {
     "name": "stderr",
     "output_type": "stream",
     "text": [
      "                                                                                \r"
     ]
    }
   ],
   "source": [
    "df_reviews=processor.read_df_reviews()"
   ]
  },
  {
   "cell_type": "code",
   "execution_count": 12,
   "metadata": {},
   "outputs": [
    {
     "data": {
      "text/plain": [
       "50"
      ]
     },
     "execution_count": 12,
     "metadata": {},
     "output_type": "execute_result"
    }
   ],
   "source": [
    "df_reviews.count()"
   ]
  },
  {
   "cell_type": "markdown",
   "metadata": {},
   "source": [
    "# read processed data"
   ]
  },
  {
   "cell_type": "code",
   "execution_count": 13,
   "metadata": {},
   "outputs": [
    {
     "name": "stderr",
     "output_type": "stream",
     "text": [
      "2025-02-18 23:43:05,409 - INFO - Processed Data Loaded =======\n",
      "                                                                                \r"
     ]
    }
   ],
   "source": [
    "df_processed,count_df_null_location_id = processor.read_df_processed(df_details)"
   ]
  },
  {
   "cell_type": "code",
   "execution_count": 14,
   "metadata": {},
   "outputs": [
    {
     "name": "stderr",
     "output_type": "stream",
     "text": [
      "                                                                                \r"
     ]
    },
    {
     "data": {
      "text/plain": [
       "50"
      ]
     },
     "execution_count": 14,
     "metadata": {},
     "output_type": "execute_result"
    }
   ],
   "source": [
    "df_processed.count()"
   ]
  },
  {
   "cell_type": "markdown",
   "metadata": {},
   "source": [
    "# delete duplicate data"
   ]
  },
  {
   "cell_type": "code",
   "execution_count": 15,
   "metadata": {},
   "outputs": [
    {
     "name": "stderr",
     "output_type": "stream",
     "text": [
      "2025-02-18 23:43:20,207 - INFO - !!!Data count !!!\n",
      "2025-02-18 23:43:22,638 - INFO - ====== Duplicates Removed =======              \n"
     ]
    },
    {
     "name": "stdout",
     "output_type": "stream",
     "text": [
      "50\n"
     ]
    }
   ],
   "source": [
    "df_details = df_details.dropDuplicates([\"id\"])\n",
    "df_reviews_scores = df_reviews_scores.dropDuplicates([\"id\"])\n",
    "df_search = df_search.dropDuplicates([\"id\"])\n",
    "df_reviews = df_reviews.dropDuplicates([\"id\"])\n",
    "logging.info(\"!!!Data count !!!\")\n",
    "print(df_details.count())\n",
    "logging.info(\"====== Duplicates Removed =======\")"
   ]
  },
  {
   "cell_type": "markdown",
   "metadata": {},
   "source": [
    "# load broadcast"
   ]
  },
  {
   "cell_type": "code",
   "execution_count": 16,
   "metadata": {},
   "outputs": [
    {
     "name": "stderr",
     "output_type": "stream",
     "text": [
      "2025-02-18 23:43:22,652 - INFO - ====== Broadcasting Data =======\n",
      "2025-02-18 23:43:22,825 - INFO - ====== Broadcasted Data =======\n"
     ]
    }
   ],
   "source": [
    "processor.BroadCast()"
   ]
  },
  {
   "cell_type": "markdown",
   "metadata": {},
   "source": [
    "# preprocess basic data"
   ]
  },
  {
   "cell_type": "code",
   "execution_count": 17,
   "metadata": {},
   "outputs": [
    {
     "name": "stderr",
     "output_type": "stream",
     "text": [
      "2025-02-18 23:43:22,875 - INFO - ======== Basic data process started ========\n",
      "2025-02-18 23:43:22,912 - INFO - >> sub-process : property_name() completed =====\n",
      "2025-02-18 23:43:22,914 - INFO - =======: df_processed : =====\n",
      "25/02/18 23:43:23 WARN SparkStringUtils: Truncated the string representation of a plan since it was too large. This behavior can be adjusted by setting 'spark.sql.debug.maxToStringFields'.\n"
     ]
    },
    {
     "name": "stdout",
     "output_type": "stream",
     "text": [
      "+------------------+------+----------------------+--------+--------------------+--------------------+--------------------+-----------+----------------+--------------------+--------------------+---------------+--------------------+--------------------+--------------------+--------------+----------+--------------------+--------------------+--------------------+--------------------+--------------------+------------+----+----------------+--------+---------+---------+-----------+-----------+----------+-----+----------+--------------------+\n",
      "|accommodation_type|brands|checkin_checkout_times|currency|       deep_link_url|         description|          facilities|         id|is_work_friendly|            location|                name|number_of_rooms|             payment|              photos|            policies|price_category|programmes|              rating|               rooms|    spoken_languages|              themes|                 url|country_code|feed|feed_provider_id|owner_id|      lat|      lon|location_id|parent_path|categories|state|state_abbr|       property_name|\n",
      "+------------------+------+----------------------+--------+--------------------+--------------------+--------------------+-----------+----------------+--------------------+--------------------+---------------+--------------------+--------------------+--------------------+--------------+----------+--------------------+--------------------+--------------------+--------------------+--------------------+------------+----+----------------+--------+---------+---------+-----------+-----------+----------+-----+----------+--------------------+\n",
      "|               201|    []|  {15:00:00, NULL, ...|     GEL|booking://hotel/1...|{{In dieser Unter...|[{[], 16}, {[], 2...|BC-13470335|           false|{{22/24 Krtsanisi...|{Brand New 2 Bedr...|              1|{false, false, {[...|[{true, {https://...|{[{{0, 3}, per_ni...|              |   {false}|{0, false, NULL, ...|[{[non_smoking], ...|[en-gb, ka, ru, e...|               [300]|https://www.booki...|          GE|  11|        13470335|    NULL|41.674339|44.818948|       NULL|       NULL|      NULL| NULL|      NULL|Brand New 2 Bedro...|\n",
      "|               204|    []|  {14:00:00, 22:00:...|     EUR|booking://hotel/1...|{{Bitte teilen Si...|[{[], 2}, {[], 3}...| BC-1068597|           false|{{Grza-Donja Mutn...|{Hotel Koliba na ...|             18|{false, false, {[...|[{true, {https://...|{[{{3, 16}, per_n...|              |   {false}|{5, true, 10.0, 1...|[{[non_smoking], ...|         [en-gb, sr]|[8, 16, 45, 57, 6...|https://www.booki...|          RS|  11|         1068597|    NULL|43.865343|21.625214|       NULL|       NULL|      NULL| NULL|      NULL|Hotel Koliba na Grzi|\n",
      "|               201|[3531]|  {16:00:00, 20:00:...|     EUR|booking://hotel/2...|{{Bitte beachten ...|[{[], 2}, {[], 4}...| BC-2189984|           false|{{NULL, NULL, NUL...|{1 Bedroom Cozy A...|              1|{false, true, {[2...|[{true, {https://...|{[], {150.0, EUR,...|              |   {false}|{4, false, 8.0, 3...|[{[non_smoking], ...|[da, de, en-gb, e...|[1, 7, 8, 16, 45,...|https://www.booki...|          IT|  11|         2189984|    NULL|40.704678|14.544876|       NULL|       NULL|      NULL| NULL|      NULL|1 Bedroom Cozy Ap...|\n",
      "|               220|[3531]|  {16:00:00, 20:00:...|     EUR|booking://hotel/3...|{{Bitte beachten ...|[{[], 2}, {[], 19...| BC-3700952|           false|{{NULL, NULL, NUL...|{Casa Nonna Dora,...|              1|{false, true, {[2...|[{true, {https://...|{[], NULL, 99, 18...|              |   {false}|{2, false, 10.0, ...|[{[non_smoking], ...|[da, de, en-gb, e...|[7, 8, 9, 16, 20,...|https://www.booki...|          IT|  11|         3700952|    NULL|  43.9399|10.307287|       NULL|       NULL|      NULL| NULL|      NULL|     Casa Nonna Dora|\n",
      "|               201|    []|  {15:00:00, 18:00:...|     EUR|booking://hotel/8...|{{In dieser Unter...|[{[], 3}, {[], 17...| BC-8354551|           false|{{62, flat 3 the ...|{One beautiful be...|              1|{false, true, {[]...|[{true, {https://...|{[], NULL, NULL, ...|              |   {false}|{39, false, 8.4, ...|[{[non_smoking], ...|         [en-gb, it]|[1, 7, 8, 45, 69,...|https://www.booki...|          MT|  11|         8354551|    NULL|35.893986|14.490554|       NULL|       NULL|      NULL| NULL|      NULL|One beautiful bed...|\n",
      "+------------------+------+----------------------+--------+--------------------+--------------------+--------------------+-----------+----------------+--------------------+--------------------+---------------+--------------------+--------------------+--------------------+--------------+----------+--------------------+--------------------+--------------------+--------------------+--------------------+------------+----+----------------+--------+---------+---------+-----------+-----------+----------+-----+----------+--------------------+\n",
      "only showing top 5 rows\n",
      "\n"
     ]
    }
   ],
   "source": [
    "df_processed = processor.first_process(df_processed)\n",
    "df_processed.show(5)"
   ]
  },
  {
   "cell_type": "code",
   "execution_count": 18,
   "metadata": {},
   "outputs": [
    {
     "name": "stderr",
     "output_type": "stream",
     "text": [
      "2025-02-18 23:43:23,463 - INFO - ======== Basic data process started ========\n",
      "2025-02-18 23:43:23,775 - INFO - >> sub-process : process_rating_and_score() completed =====\n",
      "2025-02-18 23:43:23,775 - INFO - =======: df_processed : =====\n"
     ]
    },
    {
     "name": "stdout",
     "output_type": "stream",
     "text": [
      "+------------------+------+----------------------+--------+--------------------+--------------------+--------------------+-----------+----------------+--------------------+--------------------+---------------+--------------------+--------------------+--------------------+--------------+----------+--------------------+--------------------+--------------------+--------------------+--------------------+------------+----+----------------+--------+---------+---------+-----------+-----------+----------+-----+----------+--------------------+----------------+-----------+------------+--------------------+------------+\n",
      "|accommodation_type|brands|checkin_checkout_times|currency|       deep_link_url|         description|          facilities|         id|is_work_friendly|            location|                name|number_of_rooms|             payment|              photos|            policies|price_category|programmes|              rating|               rooms|    spoken_languages|              themes|                 url|country_code|feed|feed_provider_id|owner_id|      lat|      lon|location_id|parent_path|categories|state|state_abbr|       property_name|number_of_review|star_rating|review_score|review_score_general|is_preferred|\n",
      "+------------------+------+----------------------+--------+--------------------+--------------------+--------------------+-----------+----------------+--------------------+--------------------+---------------+--------------------+--------------------+--------------------+--------------+----------+--------------------+--------------------+--------------------+--------------------+--------------------+------------+----+----------------+--------+---------+---------+-----------+-----------+----------+-----+----------+--------------------+----------------+-----------+------------+--------------------+------------+\n",
      "|               201|    []|  {15:00:00, NULL, ...|     GEL|booking://hotel/1...|{{In dieser Unter...|[{[], 16}, {[], 2...|BC-13470335|           false|{{22/24 Krtsanisi...|{Brand New 2 Bedr...|              1|{false, false, {[...|[{true, {https://...|{[{{0, 3}, per_ni...|              |   {false}|{0, false, NULL, ...|[{[non_smoking], ...|[en-gb, ka, ru, e...|               [300]|https://www.booki...|          GE|  11|        13470335|    NULL|41.674339|44.818948|       NULL|       NULL|      NULL| NULL|      NULL|Brand New 2 Bedro...|               0|          0|         0.0|                0.00|       false|\n",
      "|               204|    []|  {14:00:00, 22:00:...|     EUR|booking://hotel/1...|{{Bitte teilen Si...|[{[], 2}, {[], 3}...| BC-1068597|           false|{{Grza-Donja Mutn...|{Hotel Koliba na ...|             18|{false, false, {[...|[{true, {https://...|{[{{3, 16}, per_n...|              |   {false}|{5, true, 10.0, 1...|[{[non_smoking], ...|         [en-gb, sr]|[8, 16, 45, 57, 6...|https://www.booki...|          RS|  11|         1068597|    NULL|43.865343|21.625214|       NULL|       NULL|      NULL| NULL|      NULL|Hotel Koliba na Grzi|               5|          1|        10.0|                5.00|        true|\n",
      "|               201|[3531]|  {16:00:00, 20:00:...|     EUR|booking://hotel/2...|{{Bitte beachten ...|[{[], 2}, {[], 4}...| BC-2189984|           false|{{NULL, NULL, NUL...|{1 Bedroom Cozy A...|              1|{false, true, {[2...|[{true, {https://...|{[], {150.0, EUR,...|              |   {false}|{4, false, 8.0, 3...|[{[non_smoking], ...|[da, de, en-gb, e...|[1, 7, 8, 16, 45,...|https://www.booki...|          IT|  11|         2189984|    NULL|40.704678|14.544876|       NULL|       NULL|      NULL| NULL|      NULL|1 Bedroom Cozy Ap...|               4|          3|         8.0|                4.00|       false|\n",
      "|               220|[3531]|  {16:00:00, 20:00:...|     EUR|booking://hotel/3...|{{Bitte beachten ...|[{[], 2}, {[], 19...| BC-3700952|           false|{{NULL, NULL, NUL...|{Casa Nonna Dora,...|              1|{false, true, {[2...|[{true, {https://...|{[], NULL, 99, 18...|              |   {false}|{2, false, 10.0, ...|[{[non_smoking], ...|[da, de, en-gb, e...|[7, 8, 9, 16, 20,...|https://www.booki...|          IT|  11|         3700952|    NULL|  43.9399|10.307287|       NULL|       NULL|      NULL| NULL|      NULL|     Casa Nonna Dora|               2|          3|        10.0|                5.00|       false|\n",
      "|               201|    []|  {15:00:00, 18:00:...|     EUR|booking://hotel/8...|{{In dieser Unter...|[{[], 3}, {[], 17...| BC-8354551|           false|{{62, flat 3 the ...|{One beautiful be...|              1|{false, true, {[]...|[{true, {https://...|{[], NULL, NULL, ...|              |   {false}|{39, false, 8.4, ...|[{[non_smoking], ...|         [en-gb, it]|[1, 7, 8, 45, 69,...|https://www.booki...|          MT|  11|         8354551|    NULL|35.893986|14.490554|       NULL|       NULL|      NULL| NULL|      NULL|One beautiful bed...|              39|          3|         8.4|                4.20|       false|\n",
      "+------------------+------+----------------------+--------+--------------------+--------------------+--------------------+-----------+----------------+--------------------+--------------------+---------------+--------------------+--------------------+--------------------+--------------+----------+--------------------+--------------------+--------------------+--------------------+--------------------+------------+----+----------------+--------+---------+---------+-----------+-----------+----------+-----+----------+--------------------+----------------+-----------+------------+--------------------+------------+\n",
      "only showing top 5 rows\n",
      "\n"
     ]
    }
   ],
   "source": [
    "df_processed = processor.second_process(df_processed)\n",
    "df_processed.show(5)"
   ]
  },
  {
   "cell_type": "code",
   "execution_count": 19,
   "metadata": {},
   "outputs": [
    {
     "name": "stderr",
     "output_type": "stream",
     "text": [
      "2025-02-18 23:43:24,741 - INFO - ======== Basic data process started ========\n",
      "2025-02-18 23:43:24,881 - INFO - >> sub-process : process_checkin_checkout_times() completed =====\n",
      "2025-02-18 23:43:24,882 - INFO - =======: df_processed : =====\n"
     ]
    },
    {
     "name": "stdout",
     "output_type": "stream",
     "text": [
      "+------------------+------+----------------------+--------+--------------------+--------------------+--------------------+-----------+----------------+--------------------+--------------------+---------------+--------------------+--------------------+--------------------+--------------+----------+--------------------+--------------------+--------------------+--------------------+--------------------+------------+----+----------------+--------+---------+---------+-----------+-----------+----------+-----+----------+--------------------+----------------+-----------+------------+--------------------+------------+------------+----------+-------------+-----------+\n",
      "|accommodation_type|brands|checkin_checkout_times|currency|       deep_link_url|         description|          facilities|         id|is_work_friendly|            location|                name|number_of_rooms|             payment|              photos|            policies|price_category|programmes|              rating|               rooms|    spoken_languages|              themes|                 url|country_code|feed|feed_provider_id|owner_id|      lat|      lon|location_id|parent_path|categories|state|state_abbr|       property_name|number_of_review|star_rating|review_score|review_score_general|is_preferred|checkin_from|checkin_to|checkout_from|checkout_to|\n",
      "+------------------+------+----------------------+--------+--------------------+--------------------+--------------------+-----------+----------------+--------------------+--------------------+---------------+--------------------+--------------------+--------------------+--------------+----------+--------------------+--------------------+--------------------+--------------------+--------------------+------------+----+----------------+--------+---------+---------+-----------+-----------+----------+-----+----------+--------------------+----------------+-----------+------------+--------------------+------------+------------+----------+-------------+-----------+\n",
      "|               201|    []|  {15:00:00, NULL, ...|     GEL|booking://hotel/1...|{{In dieser Unter...|[{[], 16}, {[], 2...|BC-13470335|           false|{{22/24 Krtsanisi...|{Brand New 2 Bedr...|              1|{false, false, {[...|[{true, {https://...|{[{{0, 3}, per_ni...|              |   {false}|{0, false, NULL, ...|[{[non_smoking], ...|[en-gb, ka, ru, e...|               [300]|https://www.booki...|          GE|  11|        13470335|    NULL|41.674339|44.818948|       NULL|       NULL|      NULL| NULL|      NULL|Brand New 2 Bedro...|               0|          0|         0.0|                0.00|       false|    15:00:00|      NULL|         NULL|   11:00:00|\n",
      "|               204|    []|  {14:00:00, 22:00:...|     EUR|booking://hotel/1...|{{Bitte teilen Si...|[{[], 2}, {[], 3}...| BC-1068597|           false|{{Grza-Donja Mutn...|{Hotel Koliba na ...|             18|{false, false, {[...|[{true, {https://...|{[{{3, 16}, per_n...|              |   {false}|{5, true, 10.0, 1...|[{[non_smoking], ...|         [en-gb, sr]|[8, 16, 45, 57, 6...|https://www.booki...|          RS|  11|         1068597|    NULL|43.865343|21.625214|       NULL|       NULL|      NULL| NULL|      NULL|Hotel Koliba na Grzi|               5|          1|        10.0|                5.00|        true|    14:00:00|  22:00:00|     08:00:00|   11:00:00|\n",
      "|               201|[3531]|  {16:00:00, 20:00:...|     EUR|booking://hotel/2...|{{Bitte beachten ...|[{[], 2}, {[], 4}...| BC-2189984|           false|{{NULL, NULL, NUL...|{1 Bedroom Cozy A...|              1|{false, true, {[2...|[{true, {https://...|{[], {150.0, EUR,...|              |   {false}|{4, false, 8.0, 3...|[{[non_smoking], ...|[da, de, en-gb, e...|[1, 7, 8, 16, 45,...|https://www.booki...|          IT|  11|         2189984|    NULL|40.704678|14.544876|       NULL|       NULL|      NULL| NULL|      NULL|1 Bedroom Cozy Ap...|               4|          3|         8.0|                4.00|       false|    16:00:00|  20:00:00|     00:01:00|   10:00:00|\n",
      "|               220|[3531]|  {16:00:00, 20:00:...|     EUR|booking://hotel/3...|{{Bitte beachten ...|[{[], 2}, {[], 19...| BC-3700952|           false|{{NULL, NULL, NUL...|{Casa Nonna Dora,...|              1|{false, true, {[2...|[{true, {https://...|{[], NULL, 99, 18...|              |   {false}|{2, false, 10.0, ...|[{[non_smoking], ...|[da, de, en-gb, e...|[7, 8, 9, 16, 20,...|https://www.booki...|          IT|  11|         3700952|    NULL|  43.9399|10.307287|       NULL|       NULL|      NULL| NULL|      NULL|     Casa Nonna Dora|               2|          3|        10.0|                5.00|       false|    16:00:00|  20:00:00|     00:01:00|   10:00:00|\n",
      "|               201|    []|  {15:00:00, 18:00:...|     EUR|booking://hotel/8...|{{In dieser Unter...|[{[], 3}, {[], 17...| BC-8354551|           false|{{62, flat 3 the ...|{One beautiful be...|              1|{false, true, {[]...|[{true, {https://...|{[], NULL, NULL, ...|              |   {false}|{39, false, 8.4, ...|[{[non_smoking], ...|         [en-gb, it]|[1, 7, 8, 45, 69,...|https://www.booki...|          MT|  11|         8354551|    NULL|35.893986|14.490554|       NULL|       NULL|      NULL| NULL|      NULL|One beautiful bed...|              39|          3|         8.4|                4.20|       false|    15:00:00|  18:00:00|     08:00:00|   11:00:00|\n",
      "+------------------+------+----------------------+--------+--------------------+--------------------+--------------------+-----------+----------------+--------------------+--------------------+---------------+--------------------+--------------------+--------------------+--------------+----------+--------------------+--------------------+--------------------+--------------------+--------------------+------------+----+----------------+--------+---------+---------+-----------+-----------+----------+-----+----------+--------------------+----------------+-----------+------------+--------------------+------------+------------+----------+-------------+-----------+\n",
      "only showing top 5 rows\n",
      "\n"
     ]
    }
   ],
   "source": [
    "df_processed = processor.third_process(df_processed)\n",
    "df_processed.show(5)"
   ]
  },
  {
   "cell_type": "code",
   "execution_count": 20,
   "metadata": {},
   "outputs": [
    {
     "name": "stderr",
     "output_type": "stream",
     "text": [
      "2025-02-18 23:43:25,421 - INFO - ======== Basic data process started ========\n",
      "2025-02-18 23:43:25,582 - INFO - >> sub-process : process_property_slug() completed =====\n",
      "2025-02-18 23:43:25,583 - INFO - =======: df_processed : =====\n"
     ]
    },
    {
     "name": "stdout",
     "output_type": "stream",
     "text": [
      "+------------------+------+----------------------+--------+--------------------+--------------------+--------------------+-----------+----------------+--------------------+--------------------+---------------+--------------------+--------------------+--------------------+--------------+----------+--------------------+--------------------+--------------------+--------------------+--------------------+------------+----+----------------+--------+---------+---------+-----------+-----------+----------+-----+----------+--------------------+----------------+-----------+------------+--------------------+------------+------------+----------+-------------+-----------+--------------------+----------+\n",
      "|accommodation_type|brands|checkin_checkout_times|currency|       deep_link_url|         description|          facilities|         id|is_work_friendly|            location|                name|number_of_rooms|             payment|              photos|            policies|price_category|programmes|              rating|               rooms|    spoken_languages|              themes|                 url|country_code|feed|feed_provider_id|owner_id|      lat|      lon|location_id|parent_path|categories|state|state_abbr|       property_name|number_of_review|star_rating|review_score|review_score_general|is_preferred|checkin_from|checkin_to|checkout_from|checkout_to|       property_slug|updated_at|\n",
      "+------------------+------+----------------------+--------+--------------------+--------------------+--------------------+-----------+----------------+--------------------+--------------------+---------------+--------------------+--------------------+--------------------+--------------+----------+--------------------+--------------------+--------------------+--------------------+--------------------+------------+----+----------------+--------+---------+---------+-----------+-----------+----------+-----+----------+--------------------+----------------+-----------+------------+--------------------+------------+------------+----------+-------------+-----------+--------------------+----------+\n",
      "|               201|    []|  {15:00:00, NULL, ...|     GEL|booking://hotel/1...|{{In dieser Unter...|[{[], 16}, {[], 2...|BC-13470335|           false|{{22/24 Krtsanisi...|{Brand New 2 Bedr...|              1|{false, false, {[...|[{true, {https://...|{[{{0, 3}, per_ni...|              |   {false}|{0, false, NULL, ...|[{[non_smoking], ...|[en-gb, ka, ru, e...|               [300]|https://www.booki...|          GE|  11|        13470335|    NULL|41.674339|44.818948|       NULL|       NULL|      NULL| NULL|      NULL|Brand New 2 Bedro...|               0|          0|         0.0|                0.00|       false|    15:00:00|      NULL|         NULL|   11:00:00|brand-new-2-bedro...|2025-02-18|\n",
      "|               204|    []|  {14:00:00, 22:00:...|     EUR|booking://hotel/1...|{{Bitte teilen Si...|[{[], 2}, {[], 3}...| BC-1068597|           false|{{Grza-Donja Mutn...|{Hotel Koliba na ...|             18|{false, false, {[...|[{true, {https://...|{[{{3, 16}, per_n...|              |   {false}|{5, true, 10.0, 1...|[{[non_smoking], ...|         [en-gb, sr]|[8, 16, 45, 57, 6...|https://www.booki...|          RS|  11|         1068597|    NULL|43.865343|21.625214|       NULL|       NULL|      NULL| NULL|      NULL|Hotel Koliba na Grzi|               5|          1|        10.0|                5.00|        true|    14:00:00|  22:00:00|     08:00:00|   11:00:00|hotel-koliba-na-grzi|2025-02-18|\n",
      "|               201|[3531]|  {16:00:00, 20:00:...|     EUR|booking://hotel/2...|{{Bitte beachten ...|[{[], 2}, {[], 4}...| BC-2189984|           false|{{NULL, NULL, NUL...|{1 Bedroom Cozy A...|              1|{false, true, {[2...|[{true, {https://...|{[], {150.0, EUR,...|              |   {false}|{4, false, 8.0, 3...|[{[non_smoking], ...|[da, de, en-gb, e...|[1, 7, 8, 16, 45,...|https://www.booki...|          IT|  11|         2189984|    NULL|40.704678|14.544876|       NULL|       NULL|      NULL| NULL|      NULL|1 Bedroom Cozy Ap...|               4|          3|         8.0|                4.00|       false|    16:00:00|  20:00:00|     00:01:00|   10:00:00|1-bedroom-cozy-ap...|2025-02-18|\n",
      "|               220|[3531]|  {16:00:00, 20:00:...|     EUR|booking://hotel/3...|{{Bitte beachten ...|[{[], 2}, {[], 19...| BC-3700952|           false|{{NULL, NULL, NUL...|{Casa Nonna Dora,...|              1|{false, true, {[2...|[{true, {https://...|{[], NULL, 99, 18...|              |   {false}|{2, false, 10.0, ...|[{[non_smoking], ...|[da, de, en-gb, e...|[7, 8, 9, 16, 20,...|https://www.booki...|          IT|  11|         3700952|    NULL|  43.9399|10.307287|       NULL|       NULL|      NULL| NULL|      NULL|     Casa Nonna Dora|               2|          3|        10.0|                5.00|       false|    16:00:00|  20:00:00|     00:01:00|   10:00:00|     casa-nonna-dora|2025-02-18|\n",
      "|               201|    []|  {15:00:00, 18:00:...|     EUR|booking://hotel/8...|{{In dieser Unter...|[{[], 3}, {[], 17...| BC-8354551|           false|{{62, flat 3 the ...|{One beautiful be...|              1|{false, true, {[]...|[{true, {https://...|{[], NULL, NULL, ...|              |   {false}|{39, false, 8.4, ...|[{[non_smoking], ...|         [en-gb, it]|[1, 7, 8, 45, 69,...|https://www.booki...|          MT|  11|         8354551|    NULL|35.893986|14.490554|       NULL|       NULL|      NULL| NULL|      NULL|One beautiful bed...|              39|          3|         8.4|                4.20|       false|    15:00:00|  18:00:00|     08:00:00|   11:00:00|one-beautiful-bed...|2025-02-18|\n",
      "+------------------+------+----------------------+--------+--------------------+--------------------+--------------------+-----------+----------------+--------------------+--------------------+---------------+--------------------+--------------------+--------------------+--------------+----------+--------------------+--------------------+--------------------+--------------------+--------------------+------------+----+----------------+--------+---------+---------+-----------+-----------+----------+-----+----------+--------------------+----------------+-----------+------------+--------------------+------------+------------+----------+-------------+-----------+--------------------+----------+\n",
      "only showing top 5 rows\n",
      "\n"
     ]
    }
   ],
   "source": [
    "df_processed = processor.fourth_process(df_processed)\n",
    "df_processed.show(5)"
   ]
  },
  {
   "cell_type": "code",
   "execution_count": 21,
   "metadata": {},
   "outputs": [
    {
     "name": "stderr",
     "output_type": "stream",
     "text": [
      "2025-02-18 23:43:26,119 - INFO - ======== Basic data process started ========\n",
      "2025-02-18 23:43:26,250 - INFO - >> sub-process : process_property_type() completed =====\n",
      "2025-02-18 23:43:26,253 - INFO - =======: df_processed : =====\n",
      "[Stage 34:>                                                         (0 + 1) / 1]\r"
     ]
    },
    {
     "name": "stdout",
     "output_type": "stream",
     "text": [
      "+------------------+------+----------------------+--------+--------------------+--------------------+--------------------+-----------+----------------+--------------------+--------------------+---------------+--------------------+--------------------+--------------------+--------------+----------+--------------------+--------------------+--------------------+--------------------+--------------------+------------+----+----------------+--------+---------+---------+-----------+-----------+----------+-----+----------+--------------------+----------------+-----------+------------+--------------------+------------+------------+----------+-------------+-----------+--------------------+----------+-------------+\n",
      "|accommodation_type|brands|checkin_checkout_times|currency|       deep_link_url|         description|          facilities|         id|is_work_friendly|            location|                name|number_of_rooms|             payment|              photos|            policies|price_category|programmes|              rating|               rooms|    spoken_languages|              themes|                 url|country_code|feed|feed_provider_id|owner_id|      lat|      lon|location_id|parent_path|categories|state|state_abbr|       property_name|number_of_review|star_rating|review_score|review_score_general|is_preferred|checkin_from|checkin_to|checkout_from|checkout_to|       property_slug|updated_at|property_type|\n",
      "+------------------+------+----------------------+--------+--------------------+--------------------+--------------------+-----------+----------------+--------------------+--------------------+---------------+--------------------+--------------------+--------------------+--------------+----------+--------------------+--------------------+--------------------+--------------------+--------------------+------------+----+----------------+--------+---------+---------+-----------+-----------+----------+-----+----------+--------------------+----------------+-----------+------------+--------------------+------------+------------+----------+-------------+-----------+--------------------+----------+-------------+\n",
      "|               201|    []|  {15:00:00, NULL, ...|     GEL|booking://hotel/1...|{{In dieser Unter...|[{[], 16}, {[], 2...|BC-13470335|           false|{{22/24 Krtsanisi...|{Brand New 2 Bedr...|              1|{false, false, {[...|[{true, {https://...|{[{{0, 3}, per_ni...|              |   {false}|{0, false, NULL, ...|[{[non_smoking], ...|[en-gb, ka, ru, e...|               [300]|https://www.booki...|          GE|  11|        13470335|    NULL|41.674339|44.818948|       NULL|       NULL|      NULL| NULL|      NULL|Brand New 2 Bedro...|               0|          0|         0.0|                0.00|       false|    15:00:00|      NULL|         NULL|   11:00:00|brand-new-2-bedro...|2025-02-18|   Apartments|\n",
      "|               204|    []|  {14:00:00, 22:00:...|     EUR|booking://hotel/1...|{{Bitte teilen Si...|[{[], 2}, {[], 3}...| BC-1068597|           false|{{Grza-Donja Mutn...|{Hotel Koliba na ...|             18|{false, false, {[...|[{true, {https://...|{[{{3, 16}, per_n...|              |   {false}|{5, true, 10.0, 1...|[{[non_smoking], ...|         [en-gb, sr]|[8, 16, 45, 57, 6...|https://www.booki...|          RS|  11|         1068597|    NULL|43.865343|21.625214|       NULL|       NULL|      NULL| NULL|      NULL|Hotel Koliba na Grzi|               5|          1|        10.0|                5.00|        true|    14:00:00|  22:00:00|     08:00:00|   11:00:00|hotel-koliba-na-grzi|2025-02-18|       Hotels|\n",
      "|               201|[3531]|  {16:00:00, 20:00:...|     EUR|booking://hotel/2...|{{Bitte beachten ...|[{[], 2}, {[], 4}...| BC-2189984|           false|{{NULL, NULL, NUL...|{1 Bedroom Cozy A...|              1|{false, true, {[2...|[{true, {https://...|{[], {150.0, EUR,...|              |   {false}|{4, false, 8.0, 3...|[{[non_smoking], ...|[da, de, en-gb, e...|[1, 7, 8, 16, 45,...|https://www.booki...|          IT|  11|         2189984|    NULL|40.704678|14.544876|       NULL|       NULL|      NULL| NULL|      NULL|1 Bedroom Cozy Ap...|               4|          3|         8.0|                4.00|       false|    16:00:00|  20:00:00|     00:01:00|   10:00:00|1-bedroom-cozy-ap...|2025-02-18|   Apartments|\n",
      "|               220|[3531]|  {16:00:00, 20:00:...|     EUR|booking://hotel/3...|{{Bitte beachten ...|[{[], 2}, {[], 19...| BC-3700952|           false|{{NULL, NULL, NUL...|{Casa Nonna Dora,...|              1|{false, true, {[2...|[{true, {https://...|{[], NULL, 99, 18...|              |   {false}|{2, false, 10.0, ...|[{[non_smoking], ...|[da, de, en-gb, e...|[7, 8, 9, 16, 20,...|https://www.booki...|          IT|  11|         3700952|    NULL|  43.9399|10.307287|       NULL|       NULL|      NULL| NULL|      NULL|     Casa Nonna Dora|               2|          3|        10.0|                5.00|       false|    16:00:00|  20:00:00|     00:01:00|   10:00:00|     casa-nonna-dora|2025-02-18|Holiday homes|\n",
      "|               201|    []|  {15:00:00, 18:00:...|     EUR|booking://hotel/8...|{{In dieser Unter...|[{[], 3}, {[], 17...| BC-8354551|           false|{{62, flat 3 the ...|{One beautiful be...|              1|{false, true, {[]...|[{true, {https://...|{[], NULL, NULL, ...|              |   {false}|{39, false, 8.4, ...|[{[non_smoking], ...|         [en-gb, it]|[1, 7, 8, 45, 69,...|https://www.booki...|          MT|  11|         8354551|    NULL|35.893986|14.490554|       NULL|       NULL|      NULL| NULL|      NULL|One beautiful bed...|              39|          3|         8.4|                4.20|       false|    15:00:00|  18:00:00|     08:00:00|   11:00:00|one-beautiful-bed...|2025-02-18|   Apartments|\n",
      "+------------------+------+----------------------+--------+--------------------+--------------------+--------------------+-----------+----------------+--------------------+--------------------+---------------+--------------------+--------------------+--------------------+--------------+----------+--------------------+--------------------+--------------------+--------------------+--------------------+------------+----+----------------+--------+---------+---------+-----------+-----------+----------+-----+----------+--------------------+----------------+-----------+------------+--------------------+------------+------------+----------+-------------+-----------+--------------------+----------+-------------+\n",
      "only showing top 5 rows\n",
      "\n"
     ]
    },
    {
     "name": "stderr",
     "output_type": "stream",
     "text": [
      "                                                                                \r"
     ]
    }
   ],
   "source": [
    "df_processed = processor.fifth_process(df_processed)\n",
    "df_processed.show(5)"
   ]
  },
  {
   "cell_type": "code",
   "execution_count": 22,
   "metadata": {},
   "outputs": [
    {
     "name": "stderr",
     "output_type": "stream",
     "text": [
      "2025-02-18 23:43:31,133 - INFO - ======== Basic data process started ========\n",
      "2025-02-18 23:43:31,223 - INFO - >> sub-process : process_property_type_category() completed =====\n",
      "2025-02-18 23:43:31,226 - INFO - =======: df_processed : =====\n",
      "25/02/18 23:43:31 WARN DAGScheduler: Broadcasting large task binary with size 1288.6 KiB\n",
      "[Stage 35:>                                                         (0 + 1) / 1]\r"
     ]
    },
    {
     "name": "stdout",
     "output_type": "stream",
     "text": [
      "+------------------+------+----------------------+--------+--------------------+--------------------+--------------------+-----------+----------------+--------------------+--------------------+---------------+--------------------+--------------------+--------------------+--------------+----------+--------------------+--------------------+--------------------+--------------------+--------------------+------------+----+----------------+--------+---------+---------+-----------+-----------+----------+-----+----------+--------------------+----------------+-----------+------------+--------------------+------------+------------+----------+-------------+-----------+--------------------+----------+-------------+----------------------+\n",
      "|accommodation_type|brands|checkin_checkout_times|currency|       deep_link_url|         description|          facilities|         id|is_work_friendly|            location|                name|number_of_rooms|             payment|              photos|            policies|price_category|programmes|              rating|               rooms|    spoken_languages|              themes|                 url|country_code|feed|feed_provider_id|owner_id|      lat|      lon|location_id|parent_path|categories|state|state_abbr|       property_name|number_of_review|star_rating|review_score|review_score_general|is_preferred|checkin_from|checkin_to|checkout_from|checkout_to|       property_slug|updated_at|property_type|property_type_category|\n",
      "+------------------+------+----------------------+--------+--------------------+--------------------+--------------------+-----------+----------------+--------------------+--------------------+---------------+--------------------+--------------------+--------------------+--------------+----------+--------------------+--------------------+--------------------+--------------------+--------------------+------------+----+----------------+--------+---------+---------+-----------+-----------+----------+-----+----------+--------------------+----------------+-----------+------------+--------------------+------------+------------+----------+-------------+-----------+--------------------+----------+-------------+----------------------+\n",
      "|               201|    []|  {15:00:00, NULL, ...|     GEL|booking://hotel/1...|{{In dieser Unter...|[{[], 16}, {[], 2...|BC-13470335|           false|{{22/24 Krtsanisi...|{Brand New 2 Bedr...|              1|{false, false, {[...|[{true, {https://...|{[{{0, 3}, per_ni...|              |   {false}|{0, false, NULL, ...|[{[non_smoking], ...|[en-gb, ka, ru, e...|               [300]|https://www.booki...|          GE|  11|        13470335|    NULL|41.674339|44.818948|       NULL|       NULL|      NULL| NULL|      NULL|Brand New 2 Bedro...|               0|          0|         0.0|                0.00|       false|    15:00:00|      NULL|         NULL|   11:00:00|brand-new-2-bedro...|2025-02-18|   Apartments|             Apartment|\n",
      "|               204|    []|  {14:00:00, 22:00:...|     EUR|booking://hotel/1...|{{Bitte teilen Si...|[{[], 2}, {[], 3}...| BC-1068597|           false|{{Grza-Donja Mutn...|{Hotel Koliba na ...|             18|{false, false, {[...|[{true, {https://...|{[{{3, 16}, per_n...|              |   {false}|{5, true, 10.0, 1...|[{[non_smoking], ...|         [en-gb, sr]|[8, 16, 45, 57, 6...|https://www.booki...|          RS|  11|         1068597|    NULL|43.865343|21.625214|       NULL|       NULL|      NULL| NULL|      NULL|Hotel Koliba na Grzi|               5|          1|        10.0|                5.00|        true|    14:00:00|  22:00:00|     08:00:00|   11:00:00|hotel-koliba-na-grzi|2025-02-18|       Hotels|                 Hotel|\n",
      "|               201|[3531]|  {16:00:00, 20:00:...|     EUR|booking://hotel/2...|{{Bitte beachten ...|[{[], 2}, {[], 4}...| BC-2189984|           false|{{NULL, NULL, NUL...|{1 Bedroom Cozy A...|              1|{false, true, {[2...|[{true, {https://...|{[], {150.0, EUR,...|              |   {false}|{4, false, 8.0, 3...|[{[non_smoking], ...|[da, de, en-gb, e...|[1, 7, 8, 16, 45,...|https://www.booki...|          IT|  11|         2189984|    NULL|40.704678|14.544876|       NULL|       NULL|      NULL| NULL|      NULL|1 Bedroom Cozy Ap...|               4|          3|         8.0|                4.00|       false|    16:00:00|  20:00:00|     00:01:00|   10:00:00|1-bedroom-cozy-ap...|2025-02-18|   Apartments|             Apartment|\n",
      "|               220|[3531]|  {16:00:00, 20:00:...|     EUR|booking://hotel/3...|{{Bitte beachten ...|[{[], 2}, {[], 19...| BC-3700952|           false|{{NULL, NULL, NUL...|{Casa Nonna Dora,...|              1|{false, true, {[2...|[{true, {https://...|{[], NULL, 99, 18...|              |   {false}|{2, false, 10.0, ...|[{[non_smoking], ...|[da, de, en-gb, e...|[7, 8, 9, 16, 20,...|https://www.booki...|          IT|  11|         3700952|    NULL|  43.9399|10.307287|       NULL|       NULL|      NULL| NULL|      NULL|     Casa Nonna Dora|               2|          3|        10.0|                5.00|       false|    16:00:00|  20:00:00|     00:01:00|   10:00:00|     casa-nonna-dora|2025-02-18|Holiday homes|                 House|\n",
      "|               201|    []|  {15:00:00, 18:00:...|     EUR|booking://hotel/8...|{{In dieser Unter...|[{[], 3}, {[], 17...| BC-8354551|           false|{{62, flat 3 the ...|{One beautiful be...|              1|{false, true, {[]...|[{true, {https://...|{[], NULL, NULL, ...|              |   {false}|{39, false, 8.4, ...|[{[non_smoking], ...|         [en-gb, it]|[1, 7, 8, 45, 69,...|https://www.booki...|          MT|  11|         8354551|    NULL|35.893986|14.490554|       NULL|       NULL|      NULL| NULL|      NULL|One beautiful bed...|              39|          3|         8.4|                4.20|       false|    15:00:00|  18:00:00|     08:00:00|   11:00:00|one-beautiful-bed...|2025-02-18|   Apartments|             Apartment|\n",
      "+------------------+------+----------------------+--------+--------------------+--------------------+--------------------+-----------+----------------+--------------------+--------------------+---------------+--------------------+--------------------+--------------------+--------------+----------+--------------------+--------------------+--------------------+--------------------+--------------------+------------+----+----------------+--------+---------+---------+-----------+-----------+----------+-----+----------+--------------------+----------------+-----------+------------+--------------------+------------+------------+----------+-------------+-----------+--------------------+----------+-------------+----------------------+\n",
      "only showing top 5 rows\n",
      "\n"
     ]
    },
    {
     "name": "stderr",
     "output_type": "stream",
     "text": [
      "                                                                                \r"
     ]
    }
   ],
   "source": [
    "df_processed = processor.sixth_process(df_processed)\n",
    "df_processed.show(5)"
   ]
  },
  {
   "cell_type": "code",
   "execution_count": 23,
   "metadata": {},
   "outputs": [
    {
     "name": "stderr",
     "output_type": "stream",
     "text": [
      "2025-02-18 23:43:33,528 - INFO - ======== Basic data process started ========\n",
      "2025-02-18 23:43:33,728 - INFO - >> sub-process : process_property_type_categories() completed =====\n",
      "2025-02-18 23:43:33,729 - INFO - =======: df_processed : =====\n",
      "25/02/18 23:43:34 WARN DAGScheduler: Broadcasting large task binary with size 1909.1 KiB\n",
      "[Stage 36:>                                                         (0 + 1) / 1]\r"
     ]
    },
    {
     "name": "stdout",
     "output_type": "stream",
     "text": [
      "+------------------+------+----------------------+--------+--------------------+--------------------+--------------------+-----------+----------------+--------------------+--------------------+---------------+--------------------+--------------------+--------------------+--------------+----------+--------------------+--------------------+--------------------+--------------------+--------------------+------------+----+----------------+--------+---------+---------+-----------+-----------+----------+-----+----------+--------------------+----------------+-----------+------------+--------------------+------------+------------+----------+-------------+-----------+--------------------+----------+-------------+----------------------+------------------------+\n",
      "|accommodation_type|brands|checkin_checkout_times|currency|       deep_link_url|         description|          facilities|         id|is_work_friendly|            location|                name|number_of_rooms|             payment|              photos|            policies|price_category|programmes|              rating|               rooms|    spoken_languages|              themes|                 url|country_code|feed|feed_provider_id|owner_id|      lat|      lon|location_id|parent_path|categories|state|state_abbr|       property_name|number_of_review|star_rating|review_score|review_score_general|is_preferred|checkin_from|checkin_to|checkout_from|checkout_to|       property_slug|updated_at|property_type|property_type_category|property_type_categories|\n",
      "+------------------+------+----------------------+--------+--------------------+--------------------+--------------------+-----------+----------------+--------------------+--------------------+---------------+--------------------+--------------------+--------------------+--------------+----------+--------------------+--------------------+--------------------+--------------------+--------------------+------------+----+----------------+--------+---------+---------+-----------+-----------+----------+-----+----------+--------------------+----------------+-----------+------------+--------------------+------------+------------+----------+-------------+-----------+--------------------+----------+-------------+----------------------+------------------------+\n",
      "|               201|    []|  {15:00:00, NULL, ...|     GEL|booking://hotel/1...|{{In dieser Unter...|[{[], 16}, {[], 2...|BC-13470335|           false|{{22/24 Krtsanisi...|{Brand New 2 Bedr...|              1|{false, false, {[...|[{true, {https://...|{[{{0, 3}, per_ni...|              |   {false}|{0, false, NULL, ...|[{[non_smoking], ...|[en-gb, ka, ru, e...|               [300]|https://www.booki...|          GE|  11|        13470335|    NULL|41.674339|44.818948|       NULL|       NULL|      NULL| NULL|      NULL|Brand New 2 Bedro...|               0|          0|         0.0|                0.00|       false|    15:00:00|      NULL|         NULL|   11:00:00|brand-new-2-bedro...|2025-02-18|   Apartments|             Apartment|             [Apartment]|\n",
      "|               204|    []|  {14:00:00, 22:00:...|     EUR|booking://hotel/1...|{{Bitte teilen Si...|[{[], 2}, {[], 3}...| BC-1068597|           false|{{Grza-Donja Mutn...|{Hotel Koliba na ...|             18|{false, false, {[...|[{true, {https://...|{[{{3, 16}, per_n...|              |   {false}|{5, true, 10.0, 1...|[{[non_smoking], ...|         [en-gb, sr]|[8, 16, 45, 57, 6...|https://www.booki...|          RS|  11|         1068597|    NULL|43.865343|21.625214|       NULL|       NULL|      NULL| NULL|      NULL|Hotel Koliba na Grzi|               5|          1|        10.0|                5.00|        true|    14:00:00|  22:00:00|     08:00:00|   11:00:00|hotel-koliba-na-grzi|2025-02-18|       Hotels|                 Hotel|                    NULL|\n",
      "|               201|[3531]|  {16:00:00, 20:00:...|     EUR|booking://hotel/2...|{{Bitte beachten ...|[{[], 2}, {[], 4}...| BC-2189984|           false|{{NULL, NULL, NUL...|{1 Bedroom Cozy A...|              1|{false, true, {[2...|[{true, {https://...|{[], {150.0, EUR,...|              |   {false}|{4, false, 8.0, 3...|[{[non_smoking], ...|[da, de, en-gb, e...|[1, 7, 8, 16, 45,...|https://www.booki...|          IT|  11|         2189984|    NULL|40.704678|14.544876|       NULL|       NULL|      NULL| NULL|      NULL|1 Bedroom Cozy Ap...|               4|          3|         8.0|                4.00|       false|    16:00:00|  20:00:00|     00:01:00|   10:00:00|1-bedroom-cozy-ap...|2025-02-18|   Apartments|             Apartment|                    NULL|\n",
      "|               220|[3531]|  {16:00:00, 20:00:...|     EUR|booking://hotel/3...|{{Bitte beachten ...|[{[], 2}, {[], 19...| BC-3700952|           false|{{NULL, NULL, NUL...|{Casa Nonna Dora,...|              1|{false, true, {[2...|[{true, {https://...|{[], NULL, 99, 18...|              |   {false}|{2, false, 10.0, ...|[{[non_smoking], ...|[da, de, en-gb, e...|[7, 8, 9, 16, 20,...|https://www.booki...|          IT|  11|         3700952|    NULL|  43.9399|10.307287|       NULL|       NULL|      NULL| NULL|      NULL|     Casa Nonna Dora|               2|          3|        10.0|                5.00|       false|    16:00:00|  20:00:00|     00:01:00|   10:00:00|     casa-nonna-dora|2025-02-18|Holiday homes|                 House|                 [House]|\n",
      "|               201|    []|  {15:00:00, 18:00:...|     EUR|booking://hotel/8...|{{In dieser Unter...|[{[], 3}, {[], 17...| BC-8354551|           false|{{62, flat 3 the ...|{One beautiful be...|              1|{false, true, {[]...|[{true, {https://...|{[], NULL, NULL, ...|              |   {false}|{39, false, 8.4, ...|[{[non_smoking], ...|         [en-gb, it]|[1, 7, 8, 45, 69,...|https://www.booki...|          MT|  11|         8354551|    NULL|35.893986|14.490554|       NULL|       NULL|      NULL| NULL|      NULL|One beautiful bed...|              39|          3|         8.4|                4.20|       false|    15:00:00|  18:00:00|     08:00:00|   11:00:00|one-beautiful-bed...|2025-02-18|   Apartments|             Apartment|             [Apartment]|\n",
      "+------------------+------+----------------------+--------+--------------------+--------------------+--------------------+-----------+----------------+--------------------+--------------------+---------------+--------------------+--------------------+--------------------+--------------+----------+--------------------+--------------------+--------------------+--------------------+--------------------+------------+----+----------------+--------+---------+---------+-----------+-----------+----------+-----+----------+--------------------+----------------+-----------+------------+--------------------+------------+------------+----------+-------------+-----------+--------------------+----------+-------------+----------------------+------------------------+\n",
      "only showing top 5 rows\n",
      "\n"
     ]
    },
    {
     "name": "stderr",
     "output_type": "stream",
     "text": [
      "                                                                                \r"
     ]
    }
   ],
   "source": [
    "df_processed = processor.seventh_process(df_processed)\n",
    "df_processed.show(5)"
   ]
  },
  {
   "cell_type": "code",
   "execution_count": 24,
   "metadata": {},
   "outputs": [
    {
     "name": "stderr",
     "output_type": "stream",
     "text": [
      "2025-02-18 23:43:36,452 - INFO - ======== Basic data process started ========\n",
      "2025-02-18 23:43:36,511 - INFO - >> sub-process : process_room_type() completed =====\n",
      "2025-02-18 23:43:36,513 - INFO - =======: df_processed : =====\n",
      "25/02/18 23:43:36 WARN DAGScheduler: Broadcasting large task binary with size 1909.6 KiB\n",
      "[Stage 37:>                                                         (0 + 1) / 1]\r"
     ]
    },
    {
     "name": "stdout",
     "output_type": "stream",
     "text": [
      "+------------------+------+----------------------+--------+--------------------+--------------------+--------------------+-----------+----------------+--------------------+--------------------+---------------+--------------------+--------------------+--------------------+--------------+----------+--------------------+--------------------+--------------------+--------------------+--------------------+------------+----+----------------+--------+---------+---------+-----------+-----------+----------+-----+----------+--------------------+----------------+-----------+------------+--------------------+------------+------------+----------+-------------+-----------+--------------------+----------+-------------+----------------------+------------------------+------------+\n",
      "|accommodation_type|brands|checkin_checkout_times|currency|       deep_link_url|         description|          facilities|         id|is_work_friendly|            location|                name|number_of_rooms|             payment|              photos|            policies|price_category|programmes|              rating|               rooms|    spoken_languages|              themes|                 url|country_code|feed|feed_provider_id|owner_id|      lat|      lon|location_id|parent_path|categories|state|state_abbr|       property_name|number_of_review|star_rating|review_score|review_score_general|is_preferred|checkin_from|checkin_to|checkout_from|checkout_to|       property_slug|updated_at|property_type|property_type_category|property_type_categories|   room_type|\n",
      "+------------------+------+----------------------+--------+--------------------+--------------------+--------------------+-----------+----------------+--------------------+--------------------+---------------+--------------------+--------------------+--------------------+--------------+----------+--------------------+--------------------+--------------------+--------------------+--------------------+------------+----+----------------+--------+---------+---------+-----------+-----------+----------+-----+----------+--------------------+----------------+-----------+------------+--------------------+------------+------------+----------+-------------+-----------+--------------------+----------+-------------+----------------------+------------------------+------------+\n",
      "|               201|    []|  {15:00:00, NULL, ...|     GEL|booking://hotel/1...|{{In dieser Unter...|[{[], 16}, {[], 2...|BC-13470335|           false|{{22/24 Krtsanisi...|{Brand New 2 Bedr...|              1|{false, false, {[...|[{true, {https://...|{[{{0, 3}, per_ni...|              |   {false}|{0, false, NULL, ...|[{[non_smoking], ...|[en-gb, ka, ru, e...|               [300]|https://www.booki...|          GE|  11|        13470335|    NULL|41.674339|44.818948|       NULL|       NULL|      NULL| NULL|      NULL|Brand New 2 Bedro...|               0|          0|         0.0|                0.00|       false|    15:00:00|      NULL|         NULL|   11:00:00|brand-new-2-bedro...|2025-02-18|   Apartments|             Apartment|             [Apartment]|Shared space|\n",
      "|               204|    []|  {14:00:00, 22:00:...|     EUR|booking://hotel/1...|{{Bitte teilen Si...|[{[], 2}, {[], 3}...| BC-1068597|           false|{{Grza-Donja Mutn...|{Hotel Koliba na ...|             18|{false, false, {[...|[{true, {https://...|{[{{3, 16}, per_n...|              |   {false}|{5, true, 10.0, 1...|[{[non_smoking], ...|         [en-gb, sr]|[8, 16, 45, 57, 6...|https://www.booki...|          RS|  11|         1068597|    NULL|43.865343|21.625214|       NULL|       NULL|      NULL| NULL|      NULL|Hotel Koliba na Grzi|               5|          1|        10.0|                5.00|        true|    14:00:00|  22:00:00|     08:00:00|   11:00:00|hotel-koliba-na-grzi|2025-02-18|       Hotels|                 Hotel|                    NULL|        NULL|\n",
      "|               201|[3531]|  {16:00:00, 20:00:...|     EUR|booking://hotel/2...|{{Bitte beachten ...|[{[], 2}, {[], 4}...| BC-2189984|           false|{{NULL, NULL, NUL...|{1 Bedroom Cozy A...|              1|{false, true, {[2...|[{true, {https://...|{[], {150.0, EUR,...|              |   {false}|{4, false, 8.0, 3...|[{[non_smoking], ...|[da, de, en-gb, e...|[1, 7, 8, 16, 45,...|https://www.booki...|          IT|  11|         2189984|    NULL|40.704678|14.544876|       NULL|       NULL|      NULL| NULL|      NULL|1 Bedroom Cozy Ap...|               4|          3|         8.0|                4.00|       false|    16:00:00|  20:00:00|     00:01:00|   10:00:00|1-bedroom-cozy-ap...|2025-02-18|   Apartments|             Apartment|                    NULL|Shared space|\n",
      "|               220|[3531]|  {16:00:00, 20:00:...|     EUR|booking://hotel/3...|{{Bitte beachten ...|[{[], 2}, {[], 19...| BC-3700952|           false|{{NULL, NULL, NUL...|{Casa Nonna Dora,...|              1|{false, true, {[2...|[{true, {https://...|{[], NULL, 99, 18...|              |   {false}|{2, false, 10.0, ...|[{[non_smoking], ...|[da, de, en-gb, e...|[7, 8, 9, 16, 20,...|https://www.booki...|          IT|  11|         3700952|    NULL|  43.9399|10.307287|       NULL|       NULL|      NULL| NULL|      NULL|     Casa Nonna Dora|               2|          3|        10.0|                5.00|       false|    16:00:00|  20:00:00|     00:01:00|   10:00:00|     casa-nonna-dora|2025-02-18|Holiday homes|                 House|                 [House]|        NULL|\n",
      "|               201|    []|  {15:00:00, 18:00:...|     EUR|booking://hotel/8...|{{In dieser Unter...|[{[], 3}, {[], 17...| BC-8354551|           false|{{62, flat 3 the ...|{One beautiful be...|              1|{false, true, {[]...|[{true, {https://...|{[], NULL, NULL, ...|              |   {false}|{39, false, 8.4, ...|[{[non_smoking], ...|         [en-gb, it]|[1, 7, 8, 45, 69,...|https://www.booki...|          MT|  11|         8354551|    NULL|35.893986|14.490554|       NULL|       NULL|      NULL| NULL|      NULL|One beautiful bed...|              39|          3|         8.4|                4.20|       false|    15:00:00|  18:00:00|     08:00:00|   11:00:00|one-beautiful-bed...|2025-02-18|   Apartments|             Apartment|             [Apartment]|Shared space|\n",
      "+------------------+------+----------------------+--------+--------------------+--------------------+--------------------+-----------+----------------+--------------------+--------------------+---------------+--------------------+--------------------+--------------------+--------------+----------+--------------------+--------------------+--------------------+--------------------+--------------------+------------+----+----------------+--------+---------+---------+-----------+-----------+----------+-----+----------+--------------------+----------------+-----------+------------+--------------------+------------+------------+----------+-------------+-----------+--------------------+----------+-------------+----------------------+------------------------+------------+\n",
      "only showing top 5 rows\n",
      "\n"
     ]
    },
    {
     "name": "stderr",
     "output_type": "stream",
     "text": [
      "                                                                                \r"
     ]
    }
   ],
   "source": [
    "df_processed = processor.eighth_process(df_processed)\n",
    "df_processed.show(5)"
   ]
  },
  {
   "cell_type": "code",
   "execution_count": null,
   "metadata": {},
   "outputs": [
    {
     "name": "stderr",
     "output_type": "stream",
     "text": [
      "2025-02-18 23:43:39,057 - INFO - ======== Basic data process started ========\n",
      "2025-02-18 23:43:41,332 - INFO - >> sub-process : process_amenities_data() completed =====\n",
      "2025-02-18 23:43:41,333 - INFO - =======: df_processed : =====\n",
      "25/02/18 23:43:42 WARN DAGScheduler: Broadcasting large task binary with size 1925.0 KiB\n",
      "[Stage 38:>(12 + 4) / 261][Stage 39:> (0 + 0) / 261][Stage 40:>   (0 + 0) / 4]1]\r"
     ]
    }
   ],
   "source": [
    "df_processed = processor.ninth_process(df_processed)\n",
    "df_processed.show(5)"
   ]
  },
  {
   "cell_type": "code",
   "execution_count": null,
   "metadata": {},
   "outputs": [
    {
     "name": "stderr",
     "output_type": "stream",
     "text": [
      "2025-02-18 23:09:43,364 - INFO - ======== Basic data process started ========\n",
      "2025-02-18 23:09:44,310 - INFO - >> sub-process : process_policies_data() completed =====\n",
      "2025-02-18 23:09:44,312 - INFO - =======: df_processed : =====\n",
      "25/02/18 23:09:50 WARN DAGScheduler: Broadcasting large task binary with size 1961.3 KiB\n",
      "25/02/18 23:09:56 WARN DAGScheduler: Broadcasting large task binary with size 2046.3 KiB\n"
     ]
    },
    {
     "name": "stdout",
     "output_type": "stream",
     "text": [
      "+--------+------------------+------+----------------------+--------+--------------------+--------------------+--------------------+----------------+--------------------+--------------------+---------------+--------------------+--------------------+--------------------+--------------+----------+--------------------+--------------------+--------------------+--------------------+--------------------+--------------------+----------------+-----------+------------+--------------------+------------+------------+----------+-------------+-----------+--------------------+----------+------------------+----------------------+------------------------+------------+--------------------+--------------------+--------------------+--------------------+----------------------+---------------------------+--------------------+--------------------+\n",
      "|      id|accommodation_type|brands|checkin_checkout_times|currency|       deep_link_url|         description|          facilities|is_work_friendly|            location|                name|number_of_rooms|             payment|              photos|            policies|price_category|programmes|              rating|               rooms|    spoken_languages|              themes|                 url|       property_name|number_of_review|star_rating|review_score|review_score_general|is_preferred|checkin_from|checkin_to|checkout_from|checkout_to|       property_slug|updated_at|     property_type|property_type_category|property_type_categories|   room_type|       themes_id_map|         amenity_ids|      amenity_id_map|           amenities|new_amenity_categories|flat_new_amenity_categories|  amenity_categories|              policy|\n",
      "+--------+------------------+------+----------------------+--------+--------------------+--------------------+--------------------+----------------+--------------------+--------------------+---------------+--------------------+--------------------+--------------------+--------------+----------+--------------------+--------------------+--------------------+--------------------+--------------------+--------------------+----------------+-----------+------------+--------------------+------------+------------+----------+-------------+-----------+--------------------+----------+------------------+----------------------+------------------------+------------+--------------------+--------------------+--------------------+--------------------+----------------------+---------------------------+--------------------+--------------------+\n",
      "| 2948293|               220|[3531]|  {16:00:00, 20:00:...|     EUR|booking://hotel/2...|{{Bitte beachten ...|[{[], 2}, {[], 4}...|           false|{{NULL, NULL, NUL...|{La Querciola, La...|              1|{false, true, {[2...|[{true, {https://...|{[], NULL, 99, 18...|              |   {false}|{0, false, NULL, ...|[{[non_smoking], ...|[da, de, en-gb, e...|[Accommodations, ...|https://www.booki...|        La Querciola|               0|          3|         0.0|                0.00|       false|    16:00:00|  20:00:00|     00:01:00|   10:00:00|        la-querciola|2025-02-18|     Holiday homes|                 House|                 [House]|        NULL|{1 -> Apartments,...|[2, 4, 46, 47, 72...|{2 -> Parking, 3 ...|[Parking, Pet fri...|  [[Balcony/terrace...|       [Balcony/terrace,...|[Balcony/terrace,...|{Please note that...|\n",
      "|11017652|               201|    []|  {17:00:00, 23:00:...|     EUR|booking://hotel/1...|{{In dieser Unter...|[{[], 16}, {[], 4...|           false|{{2 Rue François ...|{Evasion romantiq...|              1|{false, true, {[]...|[{true, {https://...|{[], {350.0, EUR,...|              |   {false}|{29, true, 7.5, 3...|[{[non_smoking], ...|[en-gb, es, fr, p...|[Apartments, Budg...|https://www.booki...|Evasion romantiqu...|              29|          3|         7.5|                3.75|        true|    17:00:00|  23:00:00|         NULL|   12:00:00|evasion-romantiqu...|2025-02-18|        Apartments|             Apartment|             [Apartment]|        NULL|{1 -> Apartments,...|[16, 47, 63, 80, ...|{2 -> Parking, 3 ...|[Non-smoking room...|  [[Fireplace/Heati...|       [Fireplace/Heatin...|[Fireplace/Heatin...|{This property do...|\n",
      "|11758849|               220|    []|  {16:00:00, NULL, ...|     USD|booking://hotel/1...|{{Guests will rec...|[{[], 2}, {[], 4}...|           false|{{NULL, NULL, NUL...|{Eden's Endless E...|              1|{false, true, {[2...|[{true, {https://...|{[], NULL, NULL, ...|              |   {false}|{0, false, NULL, ...|[{[non_smoking], ...|[cs, de, en-gb, e...|[Accommodations, ...|https://www.booki...|Eden's Endless Es...|               0|          4|         0.0|                0.00|       false|    16:00:00|      NULL|         NULL|   10:00:00|eden-s-endless-es...|2025-02-18|     Holiday homes|                 House|                 [House]|        NULL|{1 -> Apartments,...|[2, 4, 14, 16, 19...|{2 -> Parking, 3 ...|[Parking, Pet fri...|  [[Sports/activiti...|       [Sports/activitie...|[Sports/activitie...|{Guests will rece...|\n",
      "|  797593|               201|[3531]|  {16:00:00, 20:00:...|     EUR|booking://hotel/7...|{{Bitte beachten ...|[{[], 2}, {[], 4}...|           false|{{NULL, NULL, NUL...|{Lovely Apartment...|              1|{false, true, {[2...|[{true, {https://...|{[], {150.0, EUR,...|              |   {false}|{3, false, 5.3, 2...|[{[non_smoking], ...|[da, de, en-gb, e...|[Apartments, Acco...|https://www.booki...|Lovely Apartment ...|               3|          2|         5.3|                2.65|       false|    16:00:00|  20:00:00|     00:01:00|   10:00:00|lovely-apartment-...|2025-02-18|        Apartments|             Apartment|                    NULL|Shared space|{1 -> Apartments,...|[2, 4, 46, 80, 10...|{2 -> Parking, 3 ...|[Parking, Pet fri...|  [[Fireplace/Heati...|       [Fireplace/Heatin...|[Fireplace/Heatin...|{Please note that...|\n",
      "|11863619|               208|    []|  {15:00:00, 21:00:...|     CHF|booking://hotel/1...|{{Bitte teilen Si...|[{[], 2}, {[], 3}...|           false|{{1 Orta, 1 Orta,...|{Ustreia Orta, Us...|              2|{false, true, {[]...|[{true, {https://...|{[{{0, 3}, per_ni...|              |   {false}|{32, true, 9.6, 3...|[{[non_smoking], ...|         [de, en-gb]|[B&Bs, Budget, Ac...|https://www.booki...|        Ustreia Orta|              32|          3|         9.6|                4.80|        true|    15:00:00|  21:00:00|     07:00:00|   10:00:00|        ustreia-orta|2025-02-18|Bed and breakfasts|       Bed & Breakfast|       [Bed & Breakfast]|        NULL|{1 -> Apartments,...|[2, 3, 4, 14, 15,...|{2 -> Parking, 3 ...|[Parking, Restaur...|  [[Fireplace/Heati...|       [Fireplace/Heatin...|[Fireplace/Heatin...|{Please inform  o...|\n",
      "+--------+------------------+------+----------------------+--------+--------------------+--------------------+--------------------+----------------+--------------------+--------------------+---------------+--------------------+--------------------+--------------------+--------------+----------+--------------------+--------------------+--------------------+--------------------+--------------------+--------------------+----------------+-----------+------------+--------------------+------------+------------+----------+-------------+-----------+--------------------+----------+------------------+----------------------+------------------------+------------+--------------------+--------------------+--------------------+--------------------+----------------------+---------------------------+--------------------+--------------------+\n",
      "only showing top 5 rows\n",
      "\n"
     ]
    },
    {
     "name": "stderr",
     "output_type": "stream",
     "text": [
      "                                                                                \r"
     ]
    }
   ],
   "source": [
    "df_processed = processor.tenth_process(df_processed)\n",
    "df_processed.show(5)"
   ]
  },
  {
   "cell_type": "code",
   "execution_count": null,
   "metadata": {},
   "outputs": [
    {
     "name": "stderr",
     "output_type": "stream",
     "text": [
      "2025-02-18 23:09:56,625 - INFO - ======== Basic data process started ========\n",
      "2025-02-18 23:09:56,673 - INFO - >> sub-process : process_min_stay() completed =====\n",
      "2025-02-18 23:09:56,679 - INFO - =======: df_processed : =====\n",
      "25/02/18 23:10:02 WARN DAGScheduler: Broadcasting large task binary with size 1961.3 KiB\n",
      "25/02/18 23:10:06 WARN DAGScheduler: Broadcasting large task binary with size 2046.4 KiB\n"
     ]
    },
    {
     "name": "stdout",
     "output_type": "stream",
     "text": [
      "+--------+------------------+------+----------------------+--------+--------------------+--------------------+--------------------+----------------+--------------------+--------------------+---------------+--------------------+--------------------+--------------------+--------------+----------+--------------------+--------------------+--------------------+--------------------+--------------------+--------------------+----------------+-----------+------------+--------------------+------------+------------+----------+-------------+-----------+--------------------+----------+------------------+----------------------+------------------------+------------+--------------------+--------------------+--------------------+--------------------+----------------------+---------------------------+--------------------+--------------------+--------+\n",
      "|      id|accommodation_type|brands|checkin_checkout_times|currency|       deep_link_url|         description|          facilities|is_work_friendly|            location|                name|number_of_rooms|             payment|              photos|            policies|price_category|programmes|              rating|               rooms|    spoken_languages|              themes|                 url|       property_name|number_of_review|star_rating|review_score|review_score_general|is_preferred|checkin_from|checkin_to|checkout_from|checkout_to|       property_slug|updated_at|     property_type|property_type_category|property_type_categories|   room_type|       themes_id_map|         amenity_ids|      amenity_id_map|           amenities|new_amenity_categories|flat_new_amenity_categories|  amenity_categories|              policy|min_stay|\n",
      "+--------+------------------+------+----------------------+--------+--------------------+--------------------+--------------------+----------------+--------------------+--------------------+---------------+--------------------+--------------------+--------------------+--------------+----------+--------------------+--------------------+--------------------+--------------------+--------------------+--------------------+----------------+-----------+------------+--------------------+------------+------------+----------+-------------+-----------+--------------------+----------+------------------+----------------------+------------------------+------------+--------------------+--------------------+--------------------+--------------------+----------------------+---------------------------+--------------------+--------------------+--------+\n",
      "| 2948293|               220|[3531]|  {16:00:00, 20:00:...|     EUR|booking://hotel/2...|{{Bitte beachten ...|[{[], 2}, {[], 4}...|           false|{{NULL, NULL, NUL...|{La Querciola, La...|              1|{false, true, {[2...|[{true, {https://...|{[], NULL, 99, 18...|              |   {false}|{0, false, NULL, ...|[{[non_smoking], ...|[da, de, en-gb, e...|[Accommodations, ...|https://www.booki...|        La Querciola|               0|          3|         0.0|                0.00|       false|    16:00:00|  20:00:00|     00:01:00|   10:00:00|        la-querciola|2025-02-18|     Holiday homes|                 House|                 [House]|        NULL|{1 -> Apartments,...|[2, 4, 46, 47, 72...|{2 -> Parking, 3 ...|[Parking, Pet fri...|  [[Balcony/terrace...|       [Balcony/terrace,...|[Balcony/terrace,...|{Please note that...|       1|\n",
      "|11017652|               201|    []|  {17:00:00, 23:00:...|     EUR|booking://hotel/1...|{{In dieser Unter...|[{[], 16}, {[], 4...|           false|{{2 Rue François ...|{Evasion romantiq...|              1|{false, true, {[]...|[{true, {https://...|{[], {350.0, EUR,...|              |   {false}|{29, true, 7.5, 3...|[{[non_smoking], ...|[en-gb, es, fr, p...|[Apartments, Budg...|https://www.booki...|Evasion romantiqu...|              29|          3|         7.5|                3.75|        true|    17:00:00|  23:00:00|         NULL|   12:00:00|evasion-romantiqu...|2025-02-18|        Apartments|             Apartment|             [Apartment]|        NULL|{1 -> Apartments,...|[16, 47, 63, 80, ...|{2 -> Parking, 3 ...|[Non-smoking room...|  [[Fireplace/Heati...|       [Fireplace/Heatin...|[Fireplace/Heatin...|{This property do...|       1|\n",
      "|11758849|               220|    []|  {16:00:00, NULL, ...|     USD|booking://hotel/1...|{{Guests will rec...|[{[], 2}, {[], 4}...|           false|{{NULL, NULL, NUL...|{Eden's Endless E...|              1|{false, true, {[2...|[{true, {https://...|{[], NULL, NULL, ...|              |   {false}|{0, false, NULL, ...|[{[non_smoking], ...|[cs, de, en-gb, e...|[Accommodations, ...|https://www.booki...|Eden's Endless Es...|               0|          4|         0.0|                0.00|       false|    16:00:00|      NULL|         NULL|   10:00:00|eden-s-endless-es...|2025-02-18|     Holiday homes|                 House|                 [House]|        NULL|{1 -> Apartments,...|[2, 4, 14, 16, 19...|{2 -> Parking, 3 ...|[Parking, Pet fri...|  [[Sports/activiti...|       [Sports/activitie...|[Sports/activitie...|{Guests will rece...|       1|\n",
      "|  797593|               201|[3531]|  {16:00:00, 20:00:...|     EUR|booking://hotel/7...|{{Bitte beachten ...|[{[], 2}, {[], 4}...|           false|{{NULL, NULL, NUL...|{Lovely Apartment...|              1|{false, true, {[2...|[{true, {https://...|{[], {150.0, EUR,...|              |   {false}|{3, false, 5.3, 2...|[{[non_smoking], ...|[da, de, en-gb, e...|[Apartments, Acco...|https://www.booki...|Lovely Apartment ...|               3|          2|         5.3|                2.65|       false|    16:00:00|  20:00:00|     00:01:00|   10:00:00|lovely-apartment-...|2025-02-18|        Apartments|             Apartment|                    NULL|Shared space|{1 -> Apartments,...|[2, 4, 46, 80, 10...|{2 -> Parking, 3 ...|[Parking, Pet fri...|  [[Fireplace/Heati...|       [Fireplace/Heatin...|[Fireplace/Heatin...|{Please note that...|       1|\n",
      "|11863619|               208|    []|  {15:00:00, 21:00:...|     CHF|booking://hotel/1...|{{Bitte teilen Si...|[{[], 2}, {[], 3}...|           false|{{1 Orta, 1 Orta,...|{Ustreia Orta, Us...|              2|{false, true, {[]...|[{true, {https://...|{[{{0, 3}, per_ni...|              |   {false}|{32, true, 9.6, 3...|[{[non_smoking], ...|         [de, en-gb]|[B&Bs, Budget, Ac...|https://www.booki...|        Ustreia Orta|              32|          3|         9.6|                4.80|        true|    15:00:00|  21:00:00|     07:00:00|   10:00:00|        ustreia-orta|2025-02-18|Bed and breakfasts|       Bed & Breakfast|       [Bed & Breakfast]|        NULL|{1 -> Apartments,...|[2, 3, 4, 14, 15,...|{2 -> Parking, 3 ...|[Parking, Restaur...|  [[Fireplace/Heati...|       [Fireplace/Heatin...|[Fireplace/Heatin...|{Please inform  o...|       1|\n",
      "+--------+------------------+------+----------------------+--------+--------------------+--------------------+--------------------+----------------+--------------------+--------------------+---------------+--------------------+--------------------+--------------------+--------------+----------+--------------------+--------------------+--------------------+--------------------+--------------------+--------------------+----------------+-----------+------------+--------------------+------------+------------+----------+-------------+-----------+--------------------+----------+------------------+----------------------+------------------------+------------+--------------------+--------------------+--------------------+--------------------+----------------------+---------------------------+--------------------+--------------------+--------+\n",
      "only showing top 5 rows\n",
      "\n"
     ]
    }
   ],
   "source": [
    "df_processed = processor.eleventh_process(df_processed)\n",
    "df_processed.show(5)"
   ]
  },
  {
   "cell_type": "code",
   "execution_count": null,
   "metadata": {},
   "outputs": [
    {
     "name": "stderr",
     "output_type": "stream",
     "text": [
      "2025-02-18 23:10:06,486 - INFO - ======== Basic data process started ========\n",
      "2025-02-18 23:10:07,041 - INFO - >> sub-process : process_hotel_photos() completed =====\n",
      "2025-02-18 23:10:07,042 - INFO - =======: df_processed : =====\n",
      "25/02/18 23:10:12 WARN DAGScheduler: Broadcasting large task binary with size 1961.3 KiB\n",
      "25/02/18 23:10:18 WARN DAGScheduler: Broadcasting large task binary with size 2.0 MiB\n"
     ]
    },
    {
     "name": "stdout",
     "output_type": "stream",
     "text": [
      "+--------+------------------+------+----------------------+--------+--------------------+--------------------+--------------------+----------------+--------------------+--------------------+---------------+--------------------+--------------------+--------------------+--------------+----------+--------------------+--------------------+--------------------+--------------------+--------------------+--------------------+----------------+-----------+------------+--------------------+------------+------------+----------+-------------+-----------+--------------------+----------+------------------+----------------------+------------------------+------------+--------------------+--------------------+--------------------+--------------------+----------------------+---------------------------+--------------------+--------------------+--------+--------------------+--------------------+\n",
      "|      id|accommodation_type|brands|checkin_checkout_times|currency|       deep_link_url|         description|          facilities|is_work_friendly|            location|                name|number_of_rooms|             payment|              photos|            policies|price_category|programmes|              rating|               rooms|    spoken_languages|              themes|                 url|       property_name|number_of_review|star_rating|review_score|review_score_general|is_preferred|checkin_from|checkin_to|checkout_from|checkout_to|       property_slug|updated_at|     property_type|property_type_category|property_type_categories|   room_type|       themes_id_map|         amenity_ids|      amenity_id_map|           amenities|new_amenity_categories|flat_new_amenity_categories|  amenity_categories|              policy|min_stay|              images|       feature_image|\n",
      "+--------+------------------+------+----------------------+--------+--------------------+--------------------+--------------------+----------------+--------------------+--------------------+---------------+--------------------+--------------------+--------------------+--------------+----------+--------------------+--------------------+--------------------+--------------------+--------------------+--------------------+----------------+-----------+------------+--------------------+------------+------------+----------+-------------+-----------+--------------------+----------+------------------+----------------------+------------------------+------------+--------------------+--------------------+--------------------+--------------------+----------------------+---------------------------+--------------------+--------------------+--------+--------------------+--------------------+\n",
      "| 2948293|               220|[3531]|  {16:00:00, 20:00:...|     EUR|booking://hotel/2...|{{Bitte beachten ...|[{[], 2}, {[], 4}...|           false|{{NULL, NULL, NUL...|{La Querciola, La...|              1|{false, true, {[2...|[{true, {https://...|{[], NULL, 99, 18...|              |   {false}|{0, false, NULL, ...|[{[non_smoking], ...|[da, de, en-gb, e...|[Accommodations, ...|https://www.booki...|        La Querciola|               0|          3|         0.0|                0.00|       false|    16:00:00|  20:00:00|     00:01:00|   10:00:00|        la-querciola|2025-02-18|     Holiday homes|                 House|                 [House]|        NULL|{1 -> Apartments,...|[2, 4, 46, 47, 72...|{2 -> Parking, 3 ...|[Parking, Pet fri...|  [[Balcony/terrace...|       [Balcony/terrace,...|[Balcony/terrace,...|{Please note that...|       1|[https://q-xx.bst...|https://q-xx.bsta...|\n",
      "|11017652|               201|    []|  {17:00:00, 23:00:...|     EUR|booking://hotel/1...|{{In dieser Unter...|[{[], 16}, {[], 4...|           false|{{2 Rue François ...|{Evasion romantiq...|              1|{false, true, {[]...|[{true, {https://...|{[], {350.0, EUR,...|              |   {false}|{29, true, 7.5, 3...|[{[non_smoking], ...|[en-gb, es, fr, p...|[Apartments, Budg...|https://www.booki...|Evasion romantiqu...|              29|          3|         7.5|                3.75|        true|    17:00:00|  23:00:00|         NULL|   12:00:00|evasion-romantiqu...|2025-02-18|        Apartments|             Apartment|             [Apartment]|        NULL|{1 -> Apartments,...|[16, 47, 63, 80, ...|{2 -> Parking, 3 ...|[Non-smoking room...|  [[Fireplace/Heati...|       [Fireplace/Heatin...|[Fireplace/Heatin...|{This property do...|       1|[https://q-xx.bst...|https://q-xx.bsta...|\n",
      "|11758849|               220|    []|  {16:00:00, NULL, ...|     USD|booking://hotel/1...|{{Guests will rec...|[{[], 2}, {[], 4}...|           false|{{NULL, NULL, NUL...|{Eden's Endless E...|              1|{false, true, {[2...|[{true, {https://...|{[], NULL, NULL, ...|              |   {false}|{0, false, NULL, ...|[{[non_smoking], ...|[cs, de, en-gb, e...|[Accommodations, ...|https://www.booki...|Eden's Endless Es...|               0|          4|         0.0|                0.00|       false|    16:00:00|      NULL|         NULL|   10:00:00|eden-s-endless-es...|2025-02-18|     Holiday homes|                 House|                 [House]|        NULL|{1 -> Apartments,...|[2, 4, 14, 16, 19...|{2 -> Parking, 3 ...|[Parking, Pet fri...|  [[Sports/activiti...|       [Sports/activitie...|[Sports/activitie...|{Guests will rece...|       1|[https://q-xx.bst...|https://q-xx.bsta...|\n",
      "|  797593|               201|[3531]|  {16:00:00, 20:00:...|     EUR|booking://hotel/7...|{{Bitte beachten ...|[{[], 2}, {[], 4}...|           false|{{NULL, NULL, NUL...|{Lovely Apartment...|              1|{false, true, {[2...|[{true, {https://...|{[], {150.0, EUR,...|              |   {false}|{3, false, 5.3, 2...|[{[non_smoking], ...|[da, de, en-gb, e...|[Apartments, Acco...|https://www.booki...|Lovely Apartment ...|               3|          2|         5.3|                2.65|       false|    16:00:00|  20:00:00|     00:01:00|   10:00:00|lovely-apartment-...|2025-02-18|        Apartments|             Apartment|                    NULL|Shared space|{1 -> Apartments,...|[2, 4, 46, 80, 10...|{2 -> Parking, 3 ...|[Parking, Pet fri...|  [[Fireplace/Heati...|       [Fireplace/Heatin...|[Fireplace/Heatin...|{Please note that...|       1|[https://q-xx.bst...|https://q-xx.bsta...|\n",
      "|11863619|               208|    []|  {15:00:00, 21:00:...|     CHF|booking://hotel/1...|{{Bitte teilen Si...|[{[], 2}, {[], 3}...|           false|{{1 Orta, 1 Orta,...|{Ustreia Orta, Us...|              2|{false, true, {[]...|[{true, {https://...|{[{{0, 3}, per_ni...|              |   {false}|{32, true, 9.6, 3...|[{[non_smoking], ...|         [de, en-gb]|[B&Bs, Budget, Ac...|https://www.booki...|        Ustreia Orta|              32|          3|         9.6|                4.80|        true|    15:00:00|  21:00:00|     07:00:00|   10:00:00|        ustreia-orta|2025-02-18|Bed and breakfasts|       Bed & Breakfast|       [Bed & Breakfast]|        NULL|{1 -> Apartments,...|[2, 3, 4, 14, 15,...|{2 -> Parking, 3 ...|[Parking, Restaur...|  [[Fireplace/Heati...|       [Fireplace/Heatin...|[Fireplace/Heatin...|{Please inform  o...|       1|[https://q-xx.bst...|https://q-xx.bsta...|\n",
      "+--------+------------------+------+----------------------+--------+--------------------+--------------------+--------------------+----------------+--------------------+--------------------+---------------+--------------------+--------------------+--------------------+--------------+----------+--------------------+--------------------+--------------------+--------------------+--------------------+--------------------+----------------+-----------+------------+--------------------+------------+------------+----------+-------------+-----------+--------------------+----------+------------------+----------------------+------------------------+------------+--------------------+--------------------+--------------------+--------------------+----------------------+---------------------------+--------------------+--------------------+--------+--------------------+--------------------+\n",
      "only showing top 5 rows\n",
      "\n"
     ]
    }
   ],
   "source": [
    "df_processed = processor.twelveth_process(df_processed)\n",
    "df_processed.show(5)"
   ]
  },
  {
   "cell_type": "code",
   "execution_count": null,
   "metadata": {},
   "outputs": [
    {
     "name": "stderr",
     "output_type": "stream",
     "text": [
      "2025-02-18 23:10:18,430 - INFO - ======== Basic data process started ========\n",
      "2025-02-18 23:10:19,465 - INFO - >> sub-process : process_rooms_data() completed =====\n",
      "2025-02-18 23:10:19,499 - INFO - =======: df_processed : =====\n",
      "25/02/18 23:10:26 WARN DAGScheduler: Broadcasting large task binary with size 1961.3 KiB\n",
      "25/02/18 23:10:35 WARN DAGScheduler: Broadcasting large task binary with size 2.1 MiB\n"
     ]
    },
    {
     "name": "stdout",
     "output_type": "stream",
     "text": [
      "+--------+------------------+------+----------------------+--------+--------------------+--------------------+--------------------+----------------+--------------------+--------------------+---------------+--------------------+--------------------+--------------------+--------------+----------+--------------------+--------------------+--------------------+--------------------+--------------------+--------------------+----------------+-----------+------------+--------------------+------------+------------+----------+-------------+-----------+--------------------+----------+------------------+----------------------+------------------------+------------+--------------------+--------------------+--------------------+--------------------+----------------------+---------------------------+--------------------+--------------------+--------+--------------------+--------------------+-------------+--------------+-------------+--------------+--------+---------+\n",
      "|      id|accommodation_type|brands|checkin_checkout_times|currency|       deep_link_url|         description|          facilities|is_work_friendly|            location|                name|number_of_rooms|             payment|              photos|            policies|price_category|programmes|              rating|               rooms|    spoken_languages|              themes|                 url|       property_name|number_of_review|star_rating|review_score|review_score_general|is_preferred|checkin_from|checkin_to|checkout_from|checkout_to|       property_slug|updated_at|     property_type|property_type_category|property_type_categories|   room_type|       themes_id_map|         amenity_ids|      amenity_id_map|           amenities|new_amenity_categories|flat_new_amenity_categories|  amenity_categories|              policy|min_stay|              images|       feature_image|bedroom_count|bathroom_count|max_occupancy|room_size_sqft|bedrooms|occupancy|\n",
      "+--------+------------------+------+----------------------+--------+--------------------+--------------------+--------------------+----------------+--------------------+--------------------+---------------+--------------------+--------------------+--------------------+--------------+----------+--------------------+--------------------+--------------------+--------------------+--------------------+--------------------+----------------+-----------+------------+--------------------+------------+------------+----------+-------------+-----------+--------------------+----------+------------------+----------------------+------------------------+------------+--------------------+--------------------+--------------------+--------------------+----------------------+---------------------------+--------------------+--------------------+--------+--------------------+--------------------+-------------+--------------+-------------+--------------+--------+---------+\n",
      "| 2948293|               220|[3531]|  {16:00:00, 20:00:...|     EUR|booking://hotel/2...|{{Bitte beachten ...|[{[], 2}, {[], 4}...|           false|{{NULL, NULL, NUL...|{La Querciola, La...|              1|{false, true, {[2...|[{true, {https://...|{[], NULL, 99, 18...|              |   {false}|{0, false, NULL, ...|[{[non_smoking], ...|[da, de, en-gb, e...|[Accommodations, ...|https://www.booki...|        La Querciola|               0|          3|         0.0|                0.00|       false|    16:00:00|  20:00:00|     00:01:00|   10:00:00|        la-querciola|2025-02-18|     Holiday homes|                 House|                 [House]|        NULL|{1 -> Apartments,...|[2, 4, 46, 47, 72...|{2 -> Parking, 3 ...|[Parking, Pet fri...|  [[Balcony/terrace...|       [Balcony/terrace,...|[Balcony/terrace,...|{Please note that...|       1|[https://q-xx.bst...|https://q-xx.bsta...|            3|             1|            6|       1291.67|     [3]|        6|\n",
      "|11017652|               201|    []|  {17:00:00, 23:00:...|     EUR|booking://hotel/1...|{{In dieser Unter...|[{[], 16}, {[], 4...|           false|{{2 Rue François ...|{Evasion romantiq...|              1|{false, true, {[]...|[{true, {https://...|{[], {350.0, EUR,...|              |   {false}|{29, true, 7.5, 3...|[{[non_smoking], ...|[en-gb, es, fr, p...|[Apartments, Budg...|https://www.booki...|Evasion romantiqu...|              29|          3|         7.5|                3.75|        true|    17:00:00|  23:00:00|         NULL|   12:00:00|evasion-romantiqu...|2025-02-18|        Apartments|             Apartment|             [Apartment]|        NULL|{1 -> Apartments,...|[16, 47, 63, 80, ...|{2 -> Parking, 3 ...|[Non-smoking room...|  [[Fireplace/Heati...|       [Fireplace/Heatin...|[Fireplace/Heatin...|{This property do...|       1|[https://q-xx.bst...|https://q-xx.bsta...|            1|             1|            2|        322.92|     [1]|        2|\n",
      "|11758849|               220|    []|  {16:00:00, NULL, ...|     USD|booking://hotel/1...|{{Guests will rec...|[{[], 2}, {[], 4}...|           false|{{NULL, NULL, NUL...|{Eden's Endless E...|              1|{false, true, {[2...|[{true, {https://...|{[], NULL, NULL, ...|              |   {false}|{0, false, NULL, ...|[{[non_smoking], ...|[cs, de, en-gb, e...|[Accommodations, ...|https://www.booki...|Eden's Endless Es...|               0|          4|         0.0|                0.00|       false|    16:00:00|      NULL|         NULL|   10:00:00|eden-s-endless-es...|2025-02-18|     Holiday homes|                 House|                 [House]|        NULL|{1 -> Apartments,...|[2, 4, 14, 16, 19...|{2 -> Parking, 3 ...|[Parking, Pet fri...|  [[Sports/activiti...|       [Sports/activitie...|[Sports/activitie...|{Guests will rece...|       1|[https://q-xx.bst...|https://q-xx.bsta...|            5|             4|           14|       3498.27|     [5]|       14|\n",
      "|  797593|               201|[3531]|  {16:00:00, 20:00:...|     EUR|booking://hotel/7...|{{Bitte beachten ...|[{[], 2}, {[], 4}...|           false|{{NULL, NULL, NUL...|{Lovely Apartment...|              1|{false, true, {[2...|[{true, {https://...|{[], {150.0, EUR,...|              |   {false}|{3, false, 5.3, 2...|[{[non_smoking], ...|[da, de, en-gb, e...|[Apartments, Acco...|https://www.booki...|Lovely Apartment ...|               3|          2|         5.3|                2.65|       false|    16:00:00|  20:00:00|     00:01:00|   10:00:00|lovely-apartment-...|2025-02-18|        Apartments|             Apartment|                    NULL|Shared space|{1 -> Apartments,...|[2, 4, 46, 80, 10...|{2 -> Parking, 3 ...|[Parking, Pet fri...|  [[Fireplace/Heati...|       [Fireplace/Heatin...|[Fireplace/Heatin...|{Please note that...|       1|[https://q-xx.bst...|https://q-xx.bsta...|            1|             1|            4|         538.2|     [1]|        4|\n",
      "|11863619|               208|    []|  {15:00:00, 21:00:...|     CHF|booking://hotel/1...|{{Bitte teilen Si...|[{[], 2}, {[], 3}...|           false|{{1 Orta, 1 Orta,...|{Ustreia Orta, Us...|              2|{false, true, {[]...|[{true, {https://...|{[{{0, 3}, per_ni...|              |   {false}|{32, true, 9.6, 3...|[{[non_smoking], ...|         [de, en-gb]|[B&Bs, Budget, Ac...|https://www.booki...|        Ustreia Orta|              32|          3|         9.6|                4.80|        true|    15:00:00|  21:00:00|     07:00:00|   10:00:00|        ustreia-orta|2025-02-18|Bed and breakfasts|       Bed & Breakfast|       [Bed & Breakfast]|        NULL|{1 -> Apartments,...|[2, 3, 4, 14, 15,...|{2 -> Parking, 3 ...|[Parking, Restaur...|  [[Fireplace/Heati...|       [Fireplace/Heatin...|[Fireplace/Heatin...|{Please inform  o...|       1|[https://q-xx.bst...|https://q-xx.bsta...|            2|             2|            4|        161.46|     [1]|        4|\n",
      "+--------+------------------+------+----------------------+--------+--------------------+--------------------+--------------------+----------------+--------------------+--------------------+---------------+--------------------+--------------------+--------------------+--------------+----------+--------------------+--------------------+--------------------+--------------------+--------------------+--------------------+----------------+-----------+------------+--------------------+------------+------------+----------+-------------+-----------+--------------------+----------+------------------+----------------------+------------------------+------------+--------------------+--------------------+--------------------+--------------------+----------------------+---------------------------+--------------------+--------------------+--------+--------------------+--------------------+-------------+--------------+-------------+--------------+--------+---------+\n",
      "only showing top 5 rows\n",
      "\n"
     ]
    }
   ],
   "source": [
    "df_processed = processor.thirteenth_process(df_processed)\n",
    "df_processed.show(5)"
   ]
  },
  {
   "cell_type": "code",
   "execution_count": null,
   "metadata": {},
   "outputs": [
    {
     "name": "stderr",
     "output_type": "stream",
     "text": [
      "2025-02-18 23:10:35,633 - INFO - ======== Basic data process started ========\n",
      "2025-02-18 23:10:36,546 - INFO - >> sub-process : process_feed_provider_url_and_licence() completed =====\n",
      "2025-02-18 23:10:36,547 - INFO - =======: df_processed : =====\n",
      "25/02/18 23:10:43 WARN DAGScheduler: Broadcasting large task binary with size 1961.3 KiB\n",
      "25/02/18 23:10:51 WARN DAGScheduler: Broadcasting large task binary with size 2.1 MiB\n"
     ]
    },
    {
     "name": "stdout",
     "output_type": "stream",
     "text": [
      "+--------+------------------+------+----------------------+--------+--------------------+--------------------+--------------------+----------------+--------------------+--------------------+---------------+--------------------+--------------------+--------------------+--------------+----------+--------------------+--------------------+--------------------+--------------------+--------------------+--------------------+----------------+-----------+------------+--------------------+------------+------------+----------+-------------+-----------+--------------------+----------+------------------+----------------------+------------------------+------------+--------------------+--------------------+--------------------+--------------------+----------------------+---------------------------+--------------------+--------------------+--------+--------------------+--------------------+-------------+--------------+-------------+--------------+--------+---------+--------------------+------------------+-------------------+\n",
      "|      id|accommodation_type|brands|checkin_checkout_times|currency|       deep_link_url|         description|          facilities|is_work_friendly|            location|                name|number_of_rooms|             payment|              photos|            policies|price_category|programmes|              rating|               rooms|    spoken_languages|              themes|                 url|       property_name|number_of_review|star_rating|review_score|review_score_general|is_preferred|checkin_from|checkin_to|checkout_from|checkout_to|       property_slug|updated_at|     property_type|property_type_category|property_type_categories|   room_type|       themes_id_map|         amenity_ids|      amenity_id_map|           amenities|new_amenity_categories|flat_new_amenity_categories|  amenity_categories|              policy|min_stay|              images|       feature_image|bedroom_count|bathroom_count|max_occupancy|room_size_sqft|bedrooms|occupancy|   feed_provider_url|    license_number|          languages|\n",
      "+--------+------------------+------+----------------------+--------+--------------------+--------------------+--------------------+----------------+--------------------+--------------------+---------------+--------------------+--------------------+--------------------+--------------+----------+--------------------+--------------------+--------------------+--------------------+--------------------+--------------------+----------------+-----------+------------+--------------------+------------+------------+----------+-------------+-----------+--------------------+----------+------------------+----------------------+------------------------+------------+--------------------+--------------------+--------------------+--------------------+----------------------+---------------------------+--------------------+--------------------+--------+--------------------+--------------------+-------------+--------------+-------------+--------------+--------+---------+--------------------+------------------+-------------------+\n",
      "| 2948293|               220|[3531]|  {16:00:00, 20:00:...|     EUR|booking://hotel/2...|{{Bitte beachten ...|[{[], 2}, {[], 4}...|           false|{{NULL, NULL, NUL...|{La Querciola, La...|              1|{false, true, {[2...|[{true, {https://...|{[], NULL, 99, 18...|              |   {false}|{0, false, NULL, ...|[{[non_smoking], ...|[da, de, en-gb, e...|[Accommodations, ...|https://www.booki...|        La Querciola|               0|          3|         0.0|                0.00|       false|    16:00:00|  20:00:00|     00:01:00|   10:00:00|        la-querciola|2025-02-18|     Holiday homes|                 House|                 [House]|        NULL|{1 -> Apartments,...|[2, 4, 46, 47, 72...|{2 -> Parking, 3 ...|[Parking, Pet fri...|  [[Balcony/terrace...|       [Balcony/terrace,...|[Balcony/terrace,...|{Please note that...|       1|[https://q-xx.bst...|https://q-xx.bsta...|            3|             1|            6|       1291.67|     [3]|        6|https://www.booki...|                  |[en-us, fr, es, de]|\n",
      "|11017652|               201|    []|  {17:00:00, 23:00:...|     EUR|booking://hotel/1...|{{In dieser Unter...|[{[], 16}, {[], 4...|           false|{{2 Rue François ...|{Evasion romantiq...|              1|{false, true, {[]...|[{true, {https://...|{[], {350.0, EUR,...|              |   {false}|{29, true, 7.5, 3...|[{[non_smoking], ...|[en-gb, es, fr, p...|[Apartments, Budg...|https://www.booki...|Evasion romantiqu...|              29|          3|         7.5|                3.75|        true|    17:00:00|  23:00:00|         NULL|   12:00:00|evasion-romantiqu...|2025-02-18|        Apartments|             Apartment|             [Apartment]|        NULL|{1 -> Apartments,...|[16, 47, 63, 80, ...|{2 -> Parking, 3 ...|[Non-smoking room...|  [[Fireplace/Heati...|       [Fireplace/Heatin...|[Fireplace/Heatin...|{This property do...|       1|[https://q-xx.bst...|https://q-xx.bsta...|            1|             1|            2|        322.92|     [1]|        2|https://www.booki...|                  |[en-us, fr, es, de]|\n",
      "|11758849|               220|    []|  {16:00:00, NULL, ...|     USD|booking://hotel/1...|{{Guests will rec...|[{[], 2}, {[], 4}...|           false|{{NULL, NULL, NUL...|{Eden's Endless E...|              1|{false, true, {[2...|[{true, {https://...|{[], NULL, NULL, ...|              |   {false}|{0, false, NULL, ...|[{[non_smoking], ...|[cs, de, en-gb, e...|[Accommodations, ...|https://www.booki...|Eden's Endless Es...|               0|          4|         0.0|                0.00|       false|    16:00:00|      NULL|         NULL|   10:00:00|eden-s-endless-es...|2025-02-18|     Holiday homes|                 House|                 [House]|        NULL|{1 -> Apartments,...|[2, 4, 14, 16, 19...|{2 -> Parking, 3 ...|[Parking, Pet fri...|  [[Sports/activiti...|       [Sports/activitie...|[Sports/activitie...|{Guests will rece...|       1|[https://q-xx.bst...|https://q-xx.bsta...|            5|             4|           14|       3498.27|     [5]|       14|https://www.booki...|                  |[en-us, fr, es, de]|\n",
      "|  797593|               201|[3531]|  {16:00:00, 20:00:...|     EUR|booking://hotel/7...|{{Bitte beachten ...|[{[], 2}, {[], 4}...|           false|{{NULL, NULL, NUL...|{Lovely Apartment...|              1|{false, true, {[2...|[{true, {https://...|{[], {150.0, EUR,...|              |   {false}|{3, false, 5.3, 2...|[{[non_smoking], ...|[da, de, en-gb, e...|[Apartments, Acco...|https://www.booki...|Lovely Apartment ...|               3|          2|         5.3|                2.65|       false|    16:00:00|  20:00:00|     00:01:00|   10:00:00|lovely-apartment-...|2025-02-18|        Apartments|             Apartment|                    NULL|Shared space|{1 -> Apartments,...|[2, 4, 46, 80, 10...|{2 -> Parking, 3 ...|[Parking, Pet fri...|  [[Fireplace/Heati...|       [Fireplace/Heatin...|[Fireplace/Heatin...|{Please note that...|       1|[https://q-xx.bst...|https://q-xx.bsta...|            1|             1|            4|         538.2|     [1]|        4|https://www.booki...|IT046002C24ML3OGLQ|[en-us, fr, es, de]|\n",
      "|11863619|               208|    []|  {15:00:00, 21:00:...|     CHF|booking://hotel/1...|{{Bitte teilen Si...|[{[], 2}, {[], 3}...|           false|{{1 Orta, 1 Orta,...|{Ustreia Orta, Us...|              2|{false, true, {[]...|[{true, {https://...|{[{{0, 3}, per_ni...|              |   {false}|{32, true, 9.6, 3...|[{[non_smoking], ...|         [de, en-gb]|[B&Bs, Budget, Ac...|https://www.booki...|        Ustreia Orta|              32|          3|         9.6|                4.80|        true|    15:00:00|  21:00:00|     07:00:00|   10:00:00|        ustreia-orta|2025-02-18|Bed and breakfasts|       Bed & Breakfast|       [Bed & Breakfast]|        NULL|{1 -> Apartments,...|[2, 3, 4, 14, 15,...|{2 -> Parking, 3 ...|[Parking, Restaur...|  [[Fireplace/Heati...|       [Fireplace/Heatin...|[Fireplace/Heatin...|{Please inform  o...|       1|[https://q-xx.bst...|https://q-xx.bsta...|            2|             2|            4|        161.46|     [1]|        4|https://www.booki...|                  |[en-us, fr, es, de]|\n",
      "+--------+------------------+------+----------------------+--------+--------------------+--------------------+--------------------+----------------+--------------------+--------------------+---------------+--------------------+--------------------+--------------------+--------------+----------+--------------------+--------------------+--------------------+--------------------+--------------------+--------------------+----------------+-----------+------------+--------------------+------------+------------+----------+-------------+-----------+--------------------+----------+------------------+----------------------+------------------------+------------+--------------------+--------------------+--------------------+--------------------+----------------------+---------------------------+--------------------+--------------------+--------+--------------------+--------------------+-------------+--------------+-------------+--------------+--------+---------+--------------------+------------------+-------------------+\n",
      "only showing top 5 rows\n",
      "\n"
     ]
    }
   ],
   "source": [
    "df_processed = processor.fourteenth_process(df_processed)\n",
    "df_processed.show(5)"
   ]
  },
  {
   "cell_type": "code",
   "execution_count": null,
   "metadata": {},
   "outputs": [
    {
     "name": "stderr",
     "output_type": "stream",
     "text": [
      "2025-02-18 23:10:52,076 - INFO - ======== Basic data process started ========\n",
      "2025-02-18 23:10:52,221 - INFO - >> sub-process : prepare_is_published() completed =====\n",
      "2025-02-18 23:10:52,223 - INFO - =======: df_processed : =====\n",
      "25/02/18 23:10:59 WARN DAGScheduler: Broadcasting large task binary with size 1961.3 KiB\n",
      "25/02/18 23:11:09 WARN DAGScheduler: Broadcasting large task binary with size 2.1 MiB\n"
     ]
    },
    {
     "name": "stdout",
     "output_type": "stream",
     "text": [
      "+--------+------------------+------+----------------------+--------+--------------------+--------------------+--------------------+----------------+--------------------+--------------------+---------------+--------------------+--------------------+--------------------+--------------+----------+--------------------+--------------------+--------------------+--------------------+--------------------+--------------------+----------------+-----------+------------+--------------------+------------+------------+----------+-------------+-----------+--------------------+----------+------------------+----------------------+------------------------+------------+--------------------+--------------------+--------------------+--------------------+----------------------+---------------------------+--------------------+--------------------+--------+--------------------+--------------------+-------------+--------------+-------------+--------------+--------+---------+--------------------+------------------+-------------------+---------+\n",
      "|      id|accommodation_type|brands|checkin_checkout_times|currency|       deep_link_url|         description|          facilities|is_work_friendly|            location|                name|number_of_rooms|             payment|              photos|            policies|price_category|programmes|              rating|               rooms|    spoken_languages|              themes|                 url|       property_name|number_of_review|star_rating|review_score|review_score_general|is_preferred|checkin_from|checkin_to|checkout_from|checkout_to|       property_slug|updated_at|     property_type|property_type_category|property_type_categories|   room_type|       themes_id_map|         amenity_ids|      amenity_id_map|           amenities|new_amenity_categories|flat_new_amenity_categories|  amenity_categories|              policy|min_stay|              images|       feature_image|bedroom_count|bathroom_count|max_occupancy|room_size_sqft|bedrooms|occupancy|   feed_provider_url|    license_number|          languages|published|\n",
      "+--------+------------------+------+----------------------+--------+--------------------+--------------------+--------------------+----------------+--------------------+--------------------+---------------+--------------------+--------------------+--------------------+--------------+----------+--------------------+--------------------+--------------------+--------------------+--------------------+--------------------+----------------+-----------+------------+--------------------+------------+------------+----------+-------------+-----------+--------------------+----------+------------------+----------------------+------------------------+------------+--------------------+--------------------+--------------------+--------------------+----------------------+---------------------------+--------------------+--------------------+--------+--------------------+--------------------+-------------+--------------+-------------+--------------+--------+---------+--------------------+------------------+-------------------+---------+\n",
      "| 2948293|               220|[3531]|  {16:00:00, 20:00:...|     EUR|booking://hotel/2...|{{Bitte beachten ...|[{[], 2}, {[], 4}...|           false|{{NULL, NULL, NUL...|{La Querciola, La...|              1|{false, true, {[2...|[{true, {https://...|{[], NULL, 99, 18...|              |   {false}|{0, false, NULL, ...|[{[non_smoking], ...|[da, de, en-gb, e...|[Accommodations, ...|https://www.booki...|        La Querciola|               0|          3|         0.0|                0.00|       false|    16:00:00|  20:00:00|     00:01:00|   10:00:00|        la-querciola|2025-02-18|     Holiday homes|                 House|                 [House]|        NULL|{1 -> Apartments,...|[2, 4, 46, 47, 72...|{2 -> Parking, 3 ...|[Parking, Pet fri...|  [[Balcony/terrace...|       [Balcony/terrace,...|[Balcony/terrace,...|{Please note that...|       1|[https://q-xx.bst...|https://q-xx.bsta...|            3|             1|            6|       1291.67|     [3]|        6|https://www.booki...|                  |[en-us, fr, es, de]|     true|\n",
      "|11017652|               201|    []|  {17:00:00, 23:00:...|     EUR|booking://hotel/1...|{{In dieser Unter...|[{[], 16}, {[], 4...|           false|{{2 Rue François ...|{Evasion romantiq...|              1|{false, true, {[]...|[{true, {https://...|{[], {350.0, EUR,...|              |   {false}|{29, true, 7.5, 3...|[{[non_smoking], ...|[en-gb, es, fr, p...|[Apartments, Budg...|https://www.booki...|Evasion romantiqu...|              29|          3|         7.5|                3.75|        true|    17:00:00|  23:00:00|         NULL|   12:00:00|evasion-romantiqu...|2025-02-18|        Apartments|             Apartment|             [Apartment]|        NULL|{1 -> Apartments,...|[16, 47, 63, 80, ...|{2 -> Parking, 3 ...|[Non-smoking room...|  [[Fireplace/Heati...|       [Fireplace/Heatin...|[Fireplace/Heatin...|{This property do...|       1|[https://q-xx.bst...|https://q-xx.bsta...|            1|             1|            2|        322.92|     [1]|        2|https://www.booki...|                  |[en-us, fr, es, de]|     true|\n",
      "|11758849|               220|    []|  {16:00:00, NULL, ...|     USD|booking://hotel/1...|{{Guests will rec...|[{[], 2}, {[], 4}...|           false|{{NULL, NULL, NUL...|{Eden's Endless E...|              1|{false, true, {[2...|[{true, {https://...|{[], NULL, NULL, ...|              |   {false}|{0, false, NULL, ...|[{[non_smoking], ...|[cs, de, en-gb, e...|[Accommodations, ...|https://www.booki...|Eden's Endless Es...|               0|          4|         0.0|                0.00|       false|    16:00:00|      NULL|         NULL|   10:00:00|eden-s-endless-es...|2025-02-18|     Holiday homes|                 House|                 [House]|        NULL|{1 -> Apartments,...|[2, 4, 14, 16, 19...|{2 -> Parking, 3 ...|[Parking, Pet fri...|  [[Sports/activiti...|       [Sports/activitie...|[Sports/activitie...|{Guests will rece...|       1|[https://q-xx.bst...|https://q-xx.bsta...|            5|             4|           14|       3498.27|     [5]|       14|https://www.booki...|                  |[en-us, fr, es, de]|     true|\n",
      "|  797593|               201|[3531]|  {16:00:00, 20:00:...|     EUR|booking://hotel/7...|{{Bitte beachten ...|[{[], 2}, {[], 4}...|           false|{{NULL, NULL, NUL...|{Lovely Apartment...|              1|{false, true, {[2...|[{true, {https://...|{[], {150.0, EUR,...|              |   {false}|{3, false, 5.3, 2...|[{[non_smoking], ...|[da, de, en-gb, e...|[Apartments, Acco...|https://www.booki...|Lovely Apartment ...|               3|          2|         5.3|                2.65|       false|    16:00:00|  20:00:00|     00:01:00|   10:00:00|lovely-apartment-...|2025-02-18|        Apartments|             Apartment|                    NULL|Shared space|{1 -> Apartments,...|[2, 4, 46, 80, 10...|{2 -> Parking, 3 ...|[Parking, Pet fri...|  [[Fireplace/Heati...|       [Fireplace/Heatin...|[Fireplace/Heatin...|{Please note that...|       1|[https://q-xx.bst...|https://q-xx.bsta...|            1|             1|            4|         538.2|     [1]|        4|https://www.booki...|IT046002C24ML3OGLQ|[en-us, fr, es, de]|     true|\n",
      "|11863619|               208|    []|  {15:00:00, 21:00:...|     CHF|booking://hotel/1...|{{Bitte teilen Si...|[{[], 2}, {[], 3}...|           false|{{1 Orta, 1 Orta,...|{Ustreia Orta, Us...|              2|{false, true, {[]...|[{true, {https://...|{[{{0, 3}, per_ni...|              |   {false}|{32, true, 9.6, 3...|[{[non_smoking], ...|         [de, en-gb]|[B&Bs, Budget, Ac...|https://www.booki...|        Ustreia Orta|              32|          3|         9.6|                4.80|        true|    15:00:00|  21:00:00|     07:00:00|   10:00:00|        ustreia-orta|2025-02-18|Bed and breakfasts|       Bed & Breakfast|       [Bed & Breakfast]|        NULL|{1 -> Apartments,...|[2, 3, 4, 14, 15,...|{2 -> Parking, 3 ...|[Parking, Restaur...|  [[Fireplace/Heati...|       [Fireplace/Heatin...|[Fireplace/Heatin...|{Please inform  o...|       1|[https://q-xx.bst...|https://q-xx.bsta...|            2|             2|            4|        161.46|     [1]|        4|https://www.booki...|                  |[en-us, fr, es, de]|     true|\n",
      "+--------+------------------+------+----------------------+--------+--------------------+--------------------+--------------------+----------------+--------------------+--------------------+---------------+--------------------+--------------------+--------------------+--------------+----------+--------------------+--------------------+--------------------+--------------------+--------------------+--------------------+----------------+-----------+------------+--------------------+------------+------------+----------+-------------+-----------+--------------------+----------+------------------+----------------------+------------------------+------------+--------------------+--------------------+--------------------+--------------------+----------------------+---------------------------+--------------------+--------------------+--------+--------------------+--------------------+-------------+--------------+-------------+--------------+--------+---------+--------------------+------------------+-------------------+---------+\n",
      "only showing top 5 rows\n",
      "\n"
     ]
    },
    {
     "name": "stderr",
     "output_type": "stream",
     "text": [
      "                                                                                \r"
     ]
    }
   ],
   "source": [
    "df_processed = processor.fifteenth_process(df_processed)\n",
    "df_processed.show(5)"
   ]
  },
  {
   "cell_type": "markdown",
   "metadata": {},
   "source": [
    "# preprocess review scores data"
   ]
  },
  {
   "cell_type": "code",
   "execution_count": null,
   "metadata": {},
   "outputs": [
    {
     "name": "stderr",
     "output_type": "stream",
     "text": [
      "2025-02-18 23:11:10,674 - INFO - ======== Before Review data process start ========\n"
     ]
    },
    {
     "name": "stderr",
     "output_type": "stream",
     "text": [
      "2025-02-18 23:11:12,634 - INFO - ======== Before Review data process ended ========\n",
      "2025-02-18 23:11:12,635 - INFO - ======== After Review data process start ========\n",
      "2025-02-18 23:11:13,321 - INFO - ==== : After process reviews data : ======\n",
      "2025-02-18 23:11:13,322 - INFO - ======== After Review data process ended ========\n"
     ]
    }
   ],
   "source": [
    "before_df_reviews,after_df_reviews = processor.preprocess_reviews_data(df_processed,df_reviews_scores, df_chain_and_brand, df_search)"
   ]
  },
  {
   "cell_type": "code",
   "execution_count": null,
   "metadata": {},
   "outputs": [],
   "source": [
    "#before_df_reviews.show(5)"
   ]
  },
  {
   "cell_type": "code",
   "execution_count": null,
   "metadata": {},
   "outputs": [],
   "source": [
    "# after_df_reviews.show(5)"
   ]
  },
  {
   "cell_type": "code",
   "execution_count": null,
   "metadata": {},
   "outputs": [],
   "source": [
    "df_processed=before_df_reviews"
   ]
  },
  {
   "cell_type": "markdown",
   "metadata": {},
   "source": [
    "# process property flag data"
   ]
  },
  {
   "cell_type": "code",
   "execution_count": null,
   "metadata": {},
   "outputs": [
    {
     "name": "stderr",
     "output_type": "stream",
     "text": [
      "2025-02-18 23:11:13,473 - INFO - ======== Before Property Flags data process Started ========\n"
     ]
    },
    {
     "name": "stderr",
     "output_type": "stream",
     "text": [
      "2025-02-18 23:11:17,200 - INFO - ======== Before Property Flags data process ended ========\n",
      "2025-02-18 23:11:17,210 - INFO - ======== After Property Flags data process Started ========\n",
      "2025-02-18 23:11:20,863 - INFO - ===== : Optimized process Property Flags Data Complete : =====\n",
      "2025-02-18 23:11:20,865 - INFO - ======== After Property Flags data process ended ========\n"
     ]
    }
   ],
   "source": [
    "before_df_property_flag,after_df_property_flag = processor.preprocess_property_flags_data(df_processed,df_reviews_scores, df_chain_and_brand, df_search)"
   ]
  },
  {
   "cell_type": "code",
   "execution_count": null,
   "metadata": {},
   "outputs": [],
   "source": [
    "#before_df_property_flag.show(5)"
   ]
  },
  {
   "cell_type": "code",
   "execution_count": null,
   "metadata": {},
   "outputs": [],
   "source": [
    "#after_df_property_flag.show(5)"
   ]
  },
  {
   "cell_type": "code",
   "execution_count": null,
   "metadata": {},
   "outputs": [],
   "source": [
    "df_processed=before_df_property_flag"
   ]
  },
  {
   "cell_type": "markdown",
   "metadata": {},
   "source": [
    "# process chain and brand data"
   ]
  },
  {
   "cell_type": "code",
   "execution_count": null,
   "metadata": {},
   "outputs": [
    {
     "name": "stderr",
     "output_type": "stream",
     "text": [
      "2025-02-18 23:11:20,945 - INFO - ======== Before Chain and Brand data process Started ========\n",
      "2025-02-18 23:11:21,406 - INFO - ======== Before Chain and Brand data process Ended ========\n",
      "2025-02-18 23:11:21,407 - INFO - ======== After Chain and Brand data process Started ========\n",
      "2025-02-18 23:11:21,720 - INFO - === : After Process Chain and Brand Data :====\n",
      "2025-02-18 23:11:21,722 - INFO - ======== After Chain and Brand data process Ended ========\n"
     ]
    }
   ],
   "source": [
    "before_df_chian_brand,after_df_chian_brand = processor.preprocess_basic_dataprocess_chain_and_brand_data(df_processed,df_reviews_scores, df_chain_and_brand, df_search)"
   ]
  },
  {
   "cell_type": "code",
   "execution_count": null,
   "metadata": {},
   "outputs": [
    {
     "name": "stderr",
     "output_type": "stream",
     "text": [
      "25/02/18 23:11:28 WARN DAGScheduler: Broadcasting large task binary with size 1961.3 KiB\n",
      "25/02/18 23:11:36 WARN DAGScheduler: Broadcasting large task binary with size 2.1 MiB\n"
     ]
    },
    {
     "name": "stdout",
     "output_type": "stream",
     "text": [
      "+--------+------------------+------+----------------------+--------+--------------------+--------------------+--------------------+----------------+--------------------+--------------------+---------------+--------------------+--------------------+--------------------+--------------+----------+--------------------+--------------------+--------------------+--------------------+--------------------+--------------------+----------------+-----------+------------+--------------------+------------+------------+----------+-------------+-----------+--------------------+----------+------------------+----------------------+------------------------+------------+--------------------+--------------------+--------------------+--------------------+----------------------+---------------------------+--------------------+--------------------+--------+--------------------+--------------------+-------------+--------------+-------------+--------------+--------+---------+--------------------+------------------+-------------------+---------+-------------+--------------------+--------+--------------------+\n",
      "|      id|accommodation_type|brands|checkin_checkout_times|currency|       deep_link_url|         description|          facilities|is_work_friendly|            location|                name|number_of_rooms|             payment|              photos|            policies|price_category|programmes|              rating|               rooms|    spoken_languages|              themes|                 url|       property_name|number_of_review|star_rating|review_score|review_score_general|is_preferred|checkin_from|checkin_to|checkout_from|checkout_to|       property_slug|updated_at|     property_type|property_type_category|property_type_categories|   room_type|       themes_id_map|         amenity_ids|      amenity_id_map|           amenities|new_amenity_categories|flat_new_amenity_categories|  amenity_categories|              policy|min_stay|              images|       feature_image|bedroom_count|bathroom_count|max_occupancy|room_size_sqft|bedrooms|occupancy|   feed_provider_url|    license_number|          languages|published|review_scores|      property_flags|brand_id|     chain_and_brand|\n",
      "+--------+------------------+------+----------------------+--------+--------------------+--------------------+--------------------+----------------+--------------------+--------------------+---------------+--------------------+--------------------+--------------------+--------------+----------+--------------------+--------------------+--------------------+--------------------+--------------------+--------------------+----------------+-----------+------------+--------------------+------------+------------+----------+-------------+-----------+--------------------+----------+------------------+----------------------+------------------------+------------+--------------------+--------------------+--------------------+--------------------+----------------------+---------------------------+--------------------+--------------------+--------+--------------------+--------------------+-------------+--------------+-------------+--------------+--------+---------+--------------------+------------------+-------------------+---------+-------------+--------------------+--------+--------------------+\n",
      "| 2948293|               220|[3531]|  {16:00:00, 20:00:...|     EUR|booking://hotel/2...|{{Bitte beachten ...|[{[], 2}, {[], 4}...|           false|{{NULL, NULL, NUL...|{La Querciola, La...|              1|{false, true, {[2...|[{true, {https://...|{[], NULL, 99, 18...|              |   {false}|{0, false, NULL, ...|[{[non_smoking], ...|[da, de, en-gb, e...|[Accommodations, ...|https://www.booki...|        La Querciola|               0|          3|         0.0|                0.00|       false|    16:00:00|  20:00:00|     00:01:00|   10:00:00|        la-querciola|2025-02-18|     Holiday homes|                 House|                 [House]|        NULL|{1 -> Apartments,...|[2, 4, 46, 47, 72...|{2 -> Parking, 3 ...|[Parking, Pet fri...|  [[Balcony/terrace...|       [Balcony/terrace,...|[Balcony/terrace,...|{Please note that...|       1|[https://q-xx.bst...|https://q-xx.bsta...|            3|             1|            6|       1291.67|     [3]|        6|https://www.booki...|                  |[en-us, fr, es, de]|     true|         NULL|{true, false, fal...|    NULL|{NULL, NULL, NULL...|\n",
      "|11017652|               201|    []|  {17:00:00, 23:00:...|     EUR|booking://hotel/1...|{{In dieser Unter...|[{[], 16}, {[], 4...|           false|{{2 Rue François ...|{Evasion romantiq...|              1|{false, true, {[]...|[{true, {https://...|{[], {350.0, EUR,...|              |   {false}|{29, true, 7.5, 3...|[{[non_smoking], ...|[en-gb, es, fr, p...|[Apartments, Budg...|https://www.booki...|Evasion romantiqu...|              29|          3|         7.5|                3.75|        true|    17:00:00|  23:00:00|         NULL|   12:00:00|evasion-romantiqu...|2025-02-18|        Apartments|             Apartment|             [Apartment]|        NULL|{1 -> Apartments,...|[16, 47, 63, 80, ...|{2 -> Parking, 3 ...|[Non-smoking room...|  [[Fireplace/Heati...|       [Fireplace/Heatin...|[Fireplace/Heatin...|{This property do...|       1|[https://q-xx.bst...|https://q-xx.bsta...|            1|             1|            2|        322.92|     [1]|        2|https://www.booki...|                  |[en-us, fr, es, de]|     true|         NULL|{true, false, fal...|    NULL|{NULL, NULL, NULL...|\n",
      "|11758849|               220|    []|  {16:00:00, NULL, ...|     USD|booking://hotel/1...|{{Guests will rec...|[{[], 2}, {[], 4}...|           false|{{NULL, NULL, NUL...|{Eden's Endless E...|              1|{false, true, {[2...|[{true, {https://...|{[], NULL, NULL, ...|              |   {false}|{0, false, NULL, ...|[{[non_smoking], ...|[cs, de, en-gb, e...|[Accommodations, ...|https://www.booki...|Eden's Endless Es...|               0|          4|         0.0|                0.00|       false|    16:00:00|      NULL|         NULL|   10:00:00|eden-s-endless-es...|2025-02-18|     Holiday homes|                 House|                 [House]|        NULL|{1 -> Apartments,...|[2, 4, 14, 16, 19...|{2 -> Parking, 3 ...|[Parking, Pet fri...|  [[Sports/activiti...|       [Sports/activitie...|[Sports/activitie...|{Guests will rece...|       1|[https://q-xx.bst...|https://q-xx.bsta...|            5|             4|           14|       3498.27|     [5]|       14|https://www.booki...|                  |[en-us, fr, es, de]|     true|         NULL|{false, true, fal...|    NULL|{NULL, NULL, NULL...|\n",
      "|  797593|               201|[3531]|  {16:00:00, 20:00:...|     EUR|booking://hotel/7...|{{Bitte beachten ...|[{[], 2}, {[], 4}...|           false|{{NULL, NULL, NUL...|{Lovely Apartment...|              1|{false, true, {[2...|[{true, {https://...|{[], {150.0, EUR,...|              |   {false}|{3, false, 5.3, 2...|[{[non_smoking], ...|[da, de, en-gb, e...|[Apartments, Acco...|https://www.booki...|Lovely Apartment ...|               3|          2|         5.3|                2.65|       false|    16:00:00|  20:00:00|     00:01:00|   10:00:00|lovely-apartment-...|2025-02-18|        Apartments|             Apartment|                    NULL|Shared space|{1 -> Apartments,...|[2, 4, 46, 80, 10...|{2 -> Parking, 3 ...|[Parking, Pet fri...|  [[Fireplace/Heati...|       [Fireplace/Heatin...|[Fireplace/Heatin...|{Please note that...|       1|[https://q-xx.bst...|https://q-xx.bsta...|            1|             1|            4|         538.2|     [1]|        4|https://www.booki...|IT046002C24ML3OGLQ|[en-us, fr, es, de]|     true|         NULL|{true, false, fal...|    NULL|{NULL, NULL, NULL...|\n",
      "|11863619|               208|    []|  {15:00:00, 21:00:...|     CHF|booking://hotel/1...|{{Bitte teilen Si...|[{[], 2}, {[], 3}...|           false|{{1 Orta, 1 Orta,...|{Ustreia Orta, Us...|              2|{false, true, {[]...|[{true, {https://...|{[{{0, 3}, per_ni...|              |   {false}|{32, true, 9.6, 3...|[{[non_smoking], ...|         [de, en-gb]|[B&Bs, Budget, Ac...|https://www.booki...|        Ustreia Orta|              32|          3|         9.6|                4.80|        true|    15:00:00|  21:00:00|     07:00:00|   10:00:00|        ustreia-orta|2025-02-18|Bed and breakfasts|       Bed & Breakfast|       [Bed & Breakfast]|        NULL|{1 -> Apartments,...|[2, 3, 4, 14, 15,...|{2 -> Parking, 3 ...|[Parking, Restaur...|  [[Fireplace/Heati...|       [Fireplace/Heatin...|[Fireplace/Heatin...|{Please inform  o...|       1|[https://q-xx.bst...|https://q-xx.bsta...|            2|             2|            4|        161.46|     [1]|        4|https://www.booki...|                  |[en-us, fr, es, de]|     true|         NULL|{false, true, fal...|    NULL|{NULL, NULL, NULL...|\n",
      "+--------+------------------+------+----------------------+--------+--------------------+--------------------+--------------------+----------------+--------------------+--------------------+---------------+--------------------+--------------------+--------------------+--------------+----------+--------------------+--------------------+--------------------+--------------------+--------------------+--------------------+----------------+-----------+------------+--------------------+------------+------------+----------+-------------+-----------+--------------------+----------+------------------+----------------------+------------------------+------------+--------------------+--------------------+--------------------+--------------------+----------------------+---------------------------+--------------------+--------------------+--------+--------------------+--------------------+-------------+--------------+-------------+--------------+--------+---------+--------------------+------------------+-------------------+---------+-------------+--------------------+--------+--------------------+\n",
      "only showing top 5 rows\n",
      "\n"
     ]
    },
    {
     "name": "stderr",
     "output_type": "stream",
     "text": [
      "                                                                                \r"
     ]
    }
   ],
   "source": [
    "before_df_chian_brand.show(5)"
   ]
  },
  {
   "cell_type": "code",
   "execution_count": null,
   "metadata": {},
   "outputs": [
    {
     "name": "stderr",
     "output_type": "stream",
     "text": [
      "25/02/18 23:11:44 WARN DAGScheduler: Broadcasting large task binary with size 1961.3 KiB\n",
      "25/02/18 23:11:54 WARN DAGScheduler: Broadcasting large task binary with size 2.1 MiB\n",
      "[Stage 269:>                                                        (0 + 1) / 1]\r"
     ]
    },
    {
     "name": "stdout",
     "output_type": "stream",
     "text": [
      "+--------+------------------+------+----------------------+--------+--------------------+--------------------+--------------------+----------------+--------------------+--------------------+---------------+--------------------+--------------------+--------------------+--------------+----------+--------------------+--------------------+--------------------+--------------------+--------------------+--------------------+----------------+-----------+------------+--------------------+------------+------------+----------+-------------+-----------+--------------------+----------+------------------+----------------------+------------------------+------------+--------------------+--------------------+--------------------+--------------------+----------------------+---------------------------+--------------------+--------------------+--------+--------------------+--------------------+-------------+--------------+-------------+--------------+--------+---------+--------------------+------------------+-------------------+---------+-------------+--------------------+--------+--------------------+\n",
      "|      id|accommodation_type|brands|checkin_checkout_times|currency|       deep_link_url|         description|          facilities|is_work_friendly|            location|                name|number_of_rooms|             payment|              photos|            policies|price_category|programmes|              rating|               rooms|    spoken_languages|              themes|                 url|       property_name|number_of_review|star_rating|review_score|review_score_general|is_preferred|checkin_from|checkin_to|checkout_from|checkout_to|       property_slug|updated_at|     property_type|property_type_category|property_type_categories|   room_type|       themes_id_map|         amenity_ids|      amenity_id_map|           amenities|new_amenity_categories|flat_new_amenity_categories|  amenity_categories|              policy|min_stay|              images|       feature_image|bedroom_count|bathroom_count|max_occupancy|room_size_sqft|bedrooms|occupancy|   feed_provider_url|    license_number|          languages|published|review_scores|      property_flags|brand_id|     chain_and_brand|\n",
      "+--------+------------------+------+----------------------+--------+--------------------+--------------------+--------------------+----------------+--------------------+--------------------+---------------+--------------------+--------------------+--------------------+--------------+----------+--------------------+--------------------+--------------------+--------------------+--------------------+--------------------+----------------+-----------+------------+--------------------+------------+------------+----------+-------------+-----------+--------------------+----------+------------------+----------------------+------------------------+------------+--------------------+--------------------+--------------------+--------------------+----------------------+---------------------------+--------------------+--------------------+--------+--------------------+--------------------+-------------+--------------+-------------+--------------+--------+---------+--------------------+------------------+-------------------+---------+-------------+--------------------+--------+--------------------+\n",
      "| 2948293|               220|[3531]|  {16:00:00, 20:00:...|     EUR|booking://hotel/2...|{{Bitte beachten ...|[{[], 2}, {[], 4}...|           false|{{NULL, NULL, NUL...|{La Querciola, La...|              1|{false, true, {[2...|[{true, {https://...|{[], NULL, 99, 18...|              |   {false}|{0, false, NULL, ...|[{[non_smoking], ...|[da, de, en-gb, e...|[Accommodations, ...|https://www.booki...|        La Querciola|               0|          3|         0.0|                0.00|       false|    16:00:00|  20:00:00|     00:01:00|   10:00:00|        la-querciola|2025-02-18|     Holiday homes|                 House|                 [House]|        NULL|{1 -> Apartments,...|[2, 4, 46, 47, 72...|{2 -> Parking, 3 ...|[Parking, Pet fri...|  [[Balcony/terrace...|       [Balcony/terrace,...|[Balcony/terrace,...|{Please note that...|       1|[https://q-xx.bst...|https://q-xx.bsta...|            3|             1|            6|       1291.67|     [3]|        6|https://www.booki...|                  |[en-us, fr, es, de]|     true|         NULL|{true, false, fal...|    NULL|{NULL, NULL, NULL...|\n",
      "|11017652|               201|    []|  {17:00:00, 23:00:...|     EUR|booking://hotel/1...|{{In dieser Unter...|[{[], 16}, {[], 4...|           false|{{2 Rue François ...|{Evasion romantiq...|              1|{false, true, {[]...|[{true, {https://...|{[], {350.0, EUR,...|              |   {false}|{29, true, 7.5, 3...|[{[non_smoking], ...|[en-gb, es, fr, p...|[Apartments, Budg...|https://www.booki...|Evasion romantiqu...|              29|          3|         7.5|                3.75|        true|    17:00:00|  23:00:00|         NULL|   12:00:00|evasion-romantiqu...|2025-02-18|        Apartments|             Apartment|             [Apartment]|        NULL|{1 -> Apartments,...|[16, 47, 63, 80, ...|{2 -> Parking, 3 ...|[Non-smoking room...|  [[Fireplace/Heati...|       [Fireplace/Heatin...|[Fireplace/Heatin...|{This property do...|       1|[https://q-xx.bst...|https://q-xx.bsta...|            1|             1|            2|        322.92|     [1]|        2|https://www.booki...|                  |[en-us, fr, es, de]|     true|         NULL|{true, false, fal...|    NULL|{NULL, NULL, NULL...|\n",
      "|11758849|               220|    []|  {16:00:00, NULL, ...|     USD|booking://hotel/1...|{{Guests will rec...|[{[], 2}, {[], 4}...|           false|{{NULL, NULL, NUL...|{Eden's Endless E...|              1|{false, true, {[2...|[{true, {https://...|{[], NULL, NULL, ...|              |   {false}|{0, false, NULL, ...|[{[non_smoking], ...|[cs, de, en-gb, e...|[Accommodations, ...|https://www.booki...|Eden's Endless Es...|               0|          4|         0.0|                0.00|       false|    16:00:00|      NULL|         NULL|   10:00:00|eden-s-endless-es...|2025-02-18|     Holiday homes|                 House|                 [House]|        NULL|{1 -> Apartments,...|[2, 4, 14, 16, 19...|{2 -> Parking, 3 ...|[Parking, Pet fri...|  [[Sports/activiti...|       [Sports/activitie...|[Sports/activitie...|{Guests will rece...|       1|[https://q-xx.bst...|https://q-xx.bsta...|            5|             4|           14|       3498.27|     [5]|       14|https://www.booki...|                  |[en-us, fr, es, de]|     true|         NULL|{false, true, fal...|    NULL|{NULL, NULL, NULL...|\n",
      "|  797593|               201|[3531]|  {16:00:00, 20:00:...|     EUR|booking://hotel/7...|{{Bitte beachten ...|[{[], 2}, {[], 4}...|           false|{{NULL, NULL, NUL...|{Lovely Apartment...|              1|{false, true, {[2...|[{true, {https://...|{[], {150.0, EUR,...|              |   {false}|{3, false, 5.3, 2...|[{[non_smoking], ...|[da, de, en-gb, e...|[Apartments, Acco...|https://www.booki...|Lovely Apartment ...|               3|          2|         5.3|                2.65|       false|    16:00:00|  20:00:00|     00:01:00|   10:00:00|lovely-apartment-...|2025-02-18|        Apartments|             Apartment|                    NULL|Shared space|{1 -> Apartments,...|[2, 4, 46, 80, 10...|{2 -> Parking, 3 ...|[Parking, Pet fri...|  [[Fireplace/Heati...|       [Fireplace/Heatin...|[Fireplace/Heatin...|{Please note that...|       1|[https://q-xx.bst...|https://q-xx.bsta...|            1|             1|            4|         538.2|     [1]|        4|https://www.booki...|IT046002C24ML3OGLQ|[en-us, fr, es, de]|     true|         NULL|{true, false, fal...|    NULL|{NULL, NULL, NULL...|\n",
      "|11863619|               208|    []|  {15:00:00, 21:00:...|     CHF|booking://hotel/1...|{{Bitte teilen Si...|[{[], 2}, {[], 3}...|           false|{{1 Orta, 1 Orta,...|{Ustreia Orta, Us...|              2|{false, true, {[]...|[{true, {https://...|{[{{0, 3}, per_ni...|              |   {false}|{32, true, 9.6, 3...|[{[non_smoking], ...|         [de, en-gb]|[B&Bs, Budget, Ac...|https://www.booki...|        Ustreia Orta|              32|          3|         9.6|                4.80|        true|    15:00:00|  21:00:00|     07:00:00|   10:00:00|        ustreia-orta|2025-02-18|Bed and breakfasts|       Bed & Breakfast|       [Bed & Breakfast]|        NULL|{1 -> Apartments,...|[2, 3, 4, 14, 15,...|{2 -> Parking, 3 ...|[Parking, Restaur...|  [[Fireplace/Heati...|       [Fireplace/Heatin...|[Fireplace/Heatin...|{Please inform  o...|       1|[https://q-xx.bst...|https://q-xx.bsta...|            2|             2|            4|        161.46|     [1]|        4|https://www.booki...|                  |[en-us, fr, es, de]|     true|         NULL|{false, true, fal...|    NULL|{NULL, NULL, NULL...|\n",
      "+--------+------------------+------+----------------------+--------+--------------------+--------------------+--------------------+----------------+--------------------+--------------------+---------------+--------------------+--------------------+--------------------+--------------+----------+--------------------+--------------------+--------------------+--------------------+--------------------+--------------------+----------------+-----------+------------+--------------------+------------+------------+----------+-------------+-----------+--------------------+----------+------------------+----------------------+------------------------+------------+--------------------+--------------------+--------------------+--------------------+----------------------+---------------------------+--------------------+--------------------+--------+--------------------+--------------------+-------------+--------------+-------------+--------------+--------+---------+--------------------+------------------+-------------------+---------+-------------+--------------------+--------+--------------------+\n",
      "only showing top 5 rows\n",
      "\n"
     ]
    },
    {
     "name": "stderr",
     "output_type": "stream",
     "text": [
      "                                                                                \r"
     ]
    }
   ],
   "source": [
    "after_df_chian_brand.show(5)"
   ]
  },
  {
   "cell_type": "code",
   "execution_count": null,
   "metadata": {},
   "outputs": [],
   "source": [
    "df_processed=before_df_chian_brand"
   ]
  },
  {
   "cell_type": "markdown",
   "metadata": {},
   "source": [
    "# process commission and meal plan data"
   ]
  },
  {
   "cell_type": "code",
   "execution_count": null,
   "metadata": {},
   "outputs": [
    {
     "name": "stderr",
     "output_type": "stream",
     "text": [
      "2025-02-18 23:11:55,259 - INFO - ======== Before Commission and meal plan data process Started ========\n",
      "2025-02-18 23:11:55,939 - INFO - ======== After Commission and meal plan data process Ended ========\n",
      "2025-02-18 23:11:55,940 - INFO - ======== After Commission and meal plan data process Started ========\n",
      "2025-02-18 23:11:56,230 - INFO - ===== : Optimized process Commission and Meal Plan Data Complete : =====\n",
      "2025-02-18 23:11:56,414 - INFO - ======== After Commission and meal plan data process Ended ========\n"
     ]
    }
   ],
   "source": [
    "before_df_commission_meal,after_df_commission_meal = processor.preprocess_commission_and_meal_plan_data(df_processed,df_reviews_scores, df_chain_and_brand, df_search)"
   ]
  },
  {
   "cell_type": "code",
   "execution_count": null,
   "metadata": {},
   "outputs": [],
   "source": [
    "# before_df_commission_meal.show(5)"
   ]
  },
  {
   "cell_type": "code",
   "execution_count": null,
   "metadata": {},
   "outputs": [],
   "source": [
    "# after_df_commission_meal.show(5)"
   ]
  },
  {
   "cell_type": "code",
   "execution_count": null,
   "metadata": {},
   "outputs": [],
   "source": [
    "df_processed=before_df_commission_meal"
   ]
  },
  {
   "cell_type": "markdown",
   "metadata": {},
   "source": [
    "# "
   ]
  }
 ],
 "metadata": {
  "kernelspec": {
   "display_name": "env",
   "language": "python",
   "name": "python3"
  },
  "language_info": {
   "codemirror_mode": {
    "name": "ipython",
    "version": 3
   },
   "file_extension": ".py",
   "mimetype": "text/x-python",
   "name": "python",
   "nbconvert_exporter": "python",
   "pygments_lexer": "ipython3",
   "version": "3.12.3"
  }
 },
 "nbformat": 4,
 "nbformat_minor": 2
}
